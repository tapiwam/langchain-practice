{
 "cells": [
  {
   "cell_type": "code",
   "execution_count": 1,
   "id": "9bb975c6-ea6c-4886-bce4-4d970e7ea6ca",
   "metadata": {
    "tags": []
   },
   "outputs": [],
   "source": [
    "from langchain_openai import ChatOpenAI\n",
    "from langchain.prompts.chat import ChatPromptTemplate, HumanMessagePromptTemplate"
   ]
  },
  {
   "cell_type": "code",
   "execution_count": 6,
   "id": "f81691e5-ae25-4a5f-9d1e-1e460045a8b1",
   "metadata": {
    "tags": []
   },
   "outputs": [],
   "source": [
    "import os\n",
    "\n",
    "api_key = open('./openai_key.txt').read()\n",
    "os.environ['OPENAI_API_KEY'] = api_key"
   ]
  },
  {
   "cell_type": "code",
   "execution_count": 8,
   "id": "346dfdce-cea6-4688-876a-0d97f4da5af9",
   "metadata": {
    "tags": []
   },
   "outputs": [],
   "source": [
    "human_template = 'Make up a funny company name for a company that makes: {product}'\n",
    "haman_prompt = HumanMessagePromptTemplate.from_template(human_template)\n"
   ]
  },
  {
   "cell_type": "code",
   "execution_count": 10,
   "id": "6841a5ca-e1f3-4af2-96f5-5d81d83837a8",
   "metadata": {
    "tags": []
   },
   "outputs": [],
   "source": [
    "chart_prompt_template = ChatPromptTemplate.from_messages([haman_prompt])"
   ]
  },
  {
   "cell_type": "code",
   "execution_count": 16,
   "id": "31dae069-7ea9-4800-ac2e-b456ef5931b7",
   "metadata": {
    "tags": []
   },
   "outputs": [],
   "source": [
    "chat = ChatOpenAI()"
   ]
  },
  {
   "cell_type": "code",
   "execution_count": 14,
   "id": "752af478-99a4-4758-bca9-22790c0a6eb7",
   "metadata": {
    "tags": []
   },
   "outputs": [],
   "source": [
    "from langchain.chains import LLMChain"
   ]
  },
  {
   "cell_type": "code",
   "execution_count": 18,
   "id": "51a273f3-060e-426c-be8f-f655fc064e7a",
   "metadata": {
    "tags": []
   },
   "outputs": [],
   "source": [
    "chain = LLMChain(llm=chat, prompt=chart_prompt_template)"
   ]
  },
  {
   "cell_type": "code",
   "execution_count": 30,
   "id": "e1fd1191-0144-4fd6-8fc5-3e2ceb830cca",
   "metadata": {
    "tags": []
   },
   "outputs": [],
   "source": [
    "result = chain.run(product='Websites')"
   ]
  },
  {
   "cell_type": "code",
   "execution_count": 32,
   "id": "8e737dc2-4f5b-45de-9ce6-87f2cdbd365f",
   "metadata": {
    "tags": []
   },
   "outputs": [
    {
     "data": {
      "text/plain": [
       "'WebSilly'"
      ]
     },
     "execution_count": 32,
     "metadata": {},
     "output_type": "execute_result"
    }
   ],
   "source": [
    "result"
   ]
  },
  {
   "cell_type": "code",
   "execution_count": null,
   "id": "b4ad4a86-528a-441c-a727-204bdca389f9",
   "metadata": {},
   "outputs": [],
   "source": []
  }
 ],
 "metadata": {
  "kernelspec": {
   "display_name": "Python 3 (ipykernel)",
   "language": "python",
   "name": "python3"
  },
  "language_info": {
   "codemirror_mode": {
    "name": "ipython",
    "version": 3
   },
   "file_extension": ".py",
   "mimetype": "text/x-python",
   "name": "python",
   "nbconvert_exporter": "python",
   "pygments_lexer": "ipython3",
   "version": "3.11.5"
  }
 },
 "nbformat": 4,
 "nbformat_minor": 5
}
