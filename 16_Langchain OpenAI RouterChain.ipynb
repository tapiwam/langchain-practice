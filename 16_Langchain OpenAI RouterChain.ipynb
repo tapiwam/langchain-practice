{
 "cells": [
  {
   "cell_type": "markdown",
   "id": "77341f20-da58-4744-b260-ba9bd69531a5",
   "metadata": {},
   "source": [
    "# Use case for router chain\n",
    "\n",
    "\n",
    "- A student asking physics question\n",
    "    - \"How does a magnet work?\" - Beginner question\n",
    "    - \"Explain Feynman diagram?\" - Expert question\n",
    "    \n",
    "Setup\n",
    "- INPUT -> ROUTER -> LLM Deides chain -> Chain -> OUTPUT"
   ]
  },
  {
   "cell_type": "markdown",
   "id": "40fe534d-9844-4734-ae3b-b6f0331e2d91",
   "metadata": {
    "tags": []
   },
   "source": [
    "### Prompt Setup"
   ]
  },
  {
   "cell_type": "code",
   "execution_count": 3,
   "id": "769a9be7-70d8-4489-9d0a-53f99765c133",
   "metadata": {
    "tags": []
   },
   "outputs": [],
   "source": [
    "beginner_template = '''You are a physics teacher, who is really focused on beginners, and explain complex concept in simple to understand terms. You assume no prior knowledge. \n",
    "Here is your question:\\n{input}\n",
    "'''"
   ]
  },
  {
   "cell_type": "code",
   "execution_count": 4,
   "id": "d0d4b3bd-265a-490a-a459-e192333a927f",
   "metadata": {
    "tags": []
   },
   "outputs": [],
   "source": [
    "expert_template = '''You are a physics professor, who explains physics topics to advanced audience members. You can assume anyone your answer has a PhD in physics. \n",
    "Here is your question:\\n{input}\n",
    "'''"
   ]
  },
  {
   "cell_type": "markdown",
   "id": "7594dcbe-0913-47a0-937f-67206847b766",
   "metadata": {},
   "source": [
    "### ROUTE PROMPT INFORMATION\n",
    "\n",
    "[] This takes NAME, DESCRIPTION, and TEMPLATE"
   ]
  },
  {
   "cell_type": "code",
   "execution_count": 6,
   "id": "63ff3060-66ed-42ef-9adc-5a0b79c34442",
   "metadata": {
    "tags": []
   },
   "outputs": [],
   "source": [
    "prompt_infos = [\n",
    "    {\n",
    "        'name': 'beginner physics',\n",
    "        'description': 'Answers basic physics questions',\n",
    "        'template': beginner_template\n",
    "    },\n",
    "    {\n",
    "        'name': 'advanced physics',\n",
    "        'description': 'Answers advanced physics questions',\n",
    "        'template': expert_template\n",
    "    }\n",
    "]"
   ]
  },
  {
   "cell_type": "markdown",
   "id": "1062374e-4f56-4f47-a4d4-be77579bcb7d",
   "metadata": {
    "tags": []
   },
   "source": [
    "### Chain setup"
   ]
  },
  {
   "cell_type": "code",
   "execution_count": 8,
   "id": "f81691e5-ae25-4a5f-9d1e-1e460045a8b1",
   "metadata": {
    "tags": []
   },
   "outputs": [],
   "source": [
    "import os\n",
    "\n",
    "api_key = open('./openai_key.txt').read()\n",
    "os.environ['OPENAI_API_KEY'] = api_key"
   ]
  },
  {
   "cell_type": "code",
   "execution_count": 9,
   "id": "9bb975c6-ea6c-4886-bce4-4d970e7ea6ca",
   "metadata": {
    "tags": []
   },
   "outputs": [],
   "source": [
    "from langchain_openai import ChatOpenAI\n",
    "from langchain.prompts.chat import ChatPromptTemplate\n",
    "from langchain.chains import LLMChain\n"
   ]
  },
  {
   "cell_type": "code",
   "execution_count": 10,
   "id": "31dae069-7ea9-4800-ac2e-b456ef5931b7",
   "metadata": {
    "tags": []
   },
   "outputs": [],
   "source": [
    "chat = ChatOpenAI()"
   ]
  },
  {
   "cell_type": "code",
   "execution_count": 11,
   "id": "45adf130-8c45-4e20-9eec-1b8cb9167e1c",
   "metadata": {
    "tags": []
   },
   "outputs": [],
   "source": [
    "destination_chains = {}\n",
    "\n",
    "for p_info in prompt_infos:\n",
    "    name = p_info['name']\n",
    "    prompt_template = p_info['template']\n",
    "    prompt = ChatPromptTemplate.from_template(template=prompt_template)\n",
    "    chain = LLMChain(llm=chat, prompt=prompt)\n",
    "    destination_chains[name] = chain\n",
    "    "
   ]
  },
  {
   "cell_type": "code",
   "execution_count": 12,
   "id": "1795c357-db7e-41d0-a379-62db8932f011",
   "metadata": {
    "tags": []
   },
   "outputs": [
    {
     "data": {
      "text/plain": [
       "dict_keys(['beginner physics', 'advanced physics'])"
      ]
     },
     "execution_count": 12,
     "metadata": {},
     "output_type": "execute_result"
    }
   ],
   "source": [
    "destination_chains.keys()"
   ]
  },
  {
   "cell_type": "code",
   "execution_count": 13,
   "id": "c6181db2-e9cb-4a08-a7e7-2f9fbabb13d8",
   "metadata": {
    "tags": []
   },
   "outputs": [],
   "source": [
    "default_prompt = ChatPromptTemplate.from_template('{input}')\n",
    "default_chain = LLMChain(llm=chat, prompt=default_prompt)"
   ]
  },
  {
   "cell_type": "markdown",
   "id": "d8614ba0-950c-4e5e-8d3a-33b8238ca565",
   "metadata": {},
   "source": [
    "### Setup multi prompt routing"
   ]
  },
  {
   "cell_type": "code",
   "execution_count": 15,
   "id": "f589d095-42f2-4bb5-b8b3-9ea336efb913",
   "metadata": {
    "tags": []
   },
   "outputs": [],
   "source": [
    "from langchain.chains.router.multi_prompt_prompt import  MULTI_PROMPT_ROUTER_TEMPLATE"
   ]
  },
  {
   "cell_type": "code",
   "execution_count": 16,
   "id": "c2f429c9-5961-4467-80ce-83e2e85f7ed8",
   "metadata": {
    "tags": []
   },
   "outputs": [
    {
     "name": "stdout",
     "output_type": "stream",
     "text": [
      "Given a raw text input to a language model select the model prompt best suited for the input. You will be given the names of the available prompts and a description of what the prompt is best suited for. You may also revise the original input if you think that revising it will ultimately lead to a better response from the language model.\n",
      "\n",
      "<< FORMATTING >>\n",
      "Return a markdown code snippet with a JSON object formatted to look like:\n",
      "```json\n",
      "{{{{\n",
      "    \"destination\": string \\ name of the prompt to use or \"DEFAULT\"\n",
      "    \"next_inputs\": string \\ a potentially modified version of the original input\n",
      "}}}}\n",
      "```\n",
      "\n",
      "REMEMBER: \"destination\" MUST be one of the candidate prompt names specified below OR it can be \"DEFAULT\" if the input is not well suited for any of the candidate prompts.\n",
      "REMEMBER: \"next_inputs\" can just be the original input if you don't think any modifications are needed.\n",
      "\n",
      "<< CANDIDATE PROMPTS >>\n",
      "{destinations}\n",
      "\n",
      "<< INPUT >>\n",
      "{{input}}\n",
      "\n",
      "<< OUTPUT (must include ```json at the start of the response) >>\n",
      "<< OUTPUT (must end with ```) >>\n",
      "\n"
     ]
    }
   ],
   "source": [
    "print(MULTI_PROMPT_ROUTER_TEMPLATE)"
   ]
  },
  {
   "cell_type": "code",
   "execution_count": 17,
   "id": "58378008-1433-4d41-a5df-d6fdc0da8e77",
   "metadata": {
    "tags": []
   },
   "outputs": [],
   "source": [
    "destinations = [ f\"{p['name']}: {p['description']}\"  for p in prompt_infos ]"
   ]
  },
  {
   "cell_type": "code",
   "execution_count": 18,
   "id": "31843e4f-715c-47f2-88b8-a7f86814e214",
   "metadata": {
    "tags": []
   },
   "outputs": [
    {
     "data": {
      "text/plain": [
       "['beginner physics: Answers basic physics questions',\n",
       " 'advanced physics: Answers advanced physics questions']"
      ]
     },
     "execution_count": 18,
     "metadata": {},
     "output_type": "execute_result"
    }
   ],
   "source": [
    "destinations"
   ]
  },
  {
   "cell_type": "code",
   "execution_count": 19,
   "id": "ff7056db-c458-4c33-94dd-73579a594b30",
   "metadata": {
    "tags": []
   },
   "outputs": [],
   "source": [
    "# Join this a giant string\n",
    "destination_str = '\\n'.join(destinations)"
   ]
  },
  {
   "cell_type": "code",
   "execution_count": 20,
   "id": "de8386a0-5d56-473a-bf87-2fda77c44302",
   "metadata": {
    "tags": []
   },
   "outputs": [
    {
     "name": "stdout",
     "output_type": "stream",
     "text": [
      "beginner physics: Answers basic physics questions\n",
      "advanced physics: Answers advanced physics questions\n"
     ]
    }
   ],
   "source": [
    "print(destination_str)"
   ]
  },
  {
   "cell_type": "code",
   "execution_count": null,
   "id": "81de24a5-d282-4f8b-a12e-21b04c4b857b",
   "metadata": {},
   "outputs": [],
   "source": []
  },
  {
   "cell_type": "markdown",
   "id": "03888930-7fec-4439-82f9-96f14f9ad5c2",
   "metadata": {},
   "source": [
    "### Router Prompts"
   ]
  },
  {
   "cell_type": "code",
   "execution_count": 22,
   "id": "baaabe5a-6ba6-4141-b0b8-cc7d1a5898eb",
   "metadata": {
    "tags": []
   },
   "outputs": [],
   "source": [
    "from langchain.prompts import PromptTemplate\n",
    "from langchain.chains.router.llm_router import LLMRouterChain, RouterOutputParser"
   ]
  },
  {
   "cell_type": "code",
   "execution_count": 23,
   "id": "a9359b21-ae7c-4ac5-aac3-2190403cc978",
   "metadata": {
    "tags": []
   },
   "outputs": [],
   "source": [
    "router_template = MULTI_PROMPT_ROUTER_TEMPLATE.format(destinations=destination_str)"
   ]
  },
  {
   "cell_type": "code",
   "execution_count": 24,
   "id": "a62d98a4-a585-4732-92ff-4c1c5ea51b83",
   "metadata": {
    "tags": []
   },
   "outputs": [
    {
     "name": "stdout",
     "output_type": "stream",
     "text": [
      "Given a raw text input to a language model select the model prompt best suited for the input. You will be given the names of the available prompts and a description of what the prompt is best suited for. You may also revise the original input if you think that revising it will ultimately lead to a better response from the language model.\n",
      "\n",
      "<< FORMATTING >>\n",
      "Return a markdown code snippet with a JSON object formatted to look like:\n",
      "```json\n",
      "{{\n",
      "    \"destination\": string \\ name of the prompt to use or \"DEFAULT\"\n",
      "    \"next_inputs\": string \\ a potentially modified version of the original input\n",
      "}}\n",
      "```\n",
      "\n",
      "REMEMBER: \"destination\" MUST be one of the candidate prompt names specified below OR it can be \"DEFAULT\" if the input is not well suited for any of the candidate prompts.\n",
      "REMEMBER: \"next_inputs\" can just be the original input if you don't think any modifications are needed.\n",
      "\n",
      "<< CANDIDATE PROMPTS >>\n",
      "beginner physics: Answers basic physics questions\n",
      "advanced physics: Answers advanced physics questions\n",
      "\n",
      "<< INPUT >>\n",
      "{input}\n",
      "\n",
      "<< OUTPUT (must include ```json at the start of the response) >>\n",
      "<< OUTPUT (must end with ```) >>\n",
      "\n"
     ]
    }
   ],
   "source": [
    "# Note how << CANDIDATE PROMPTS >> now has out destinations\n",
    "print(router_template)"
   ]
  },
  {
   "cell_type": "code",
   "execution_count": 25,
   "id": "d06d21f1-cbaa-4937-b2f1-5ad094973187",
   "metadata": {
    "tags": []
   },
   "outputs": [],
   "source": [
    "router_prompt = PromptTemplate(template=router_template,\n",
    "                               input_variables=['input'],\n",
    "                               output_parser=RouterOutputParser())"
   ]
  },
  {
   "cell_type": "markdown",
   "id": "8f6467ac-0338-466e-8b02-0b4b41d83f2e",
   "metadata": {},
   "source": [
    "### Final Chain"
   ]
  },
  {
   "cell_type": "code",
   "execution_count": 27,
   "id": "502b1ed5-0ba1-4a56-abfa-44150b688dce",
   "metadata": {
    "tags": []
   },
   "outputs": [],
   "source": [
    "from langchain.chains.router import MultiPromptChain"
   ]
  },
  {
   "cell_type": "code",
   "execution_count": 28,
   "id": "3a5ba941-ad52-4a0e-a1c0-5c7e06090170",
   "metadata": {
    "tags": []
   },
   "outputs": [],
   "source": [
    "router_chain = LLMRouterChain.from_llm(chat, router_prompt)"
   ]
  },
  {
   "cell_type": "code",
   "execution_count": 29,
   "id": "2fe71856-c712-474a-91d1-456fb5e356db",
   "metadata": {
    "tags": []
   },
   "outputs": [],
   "source": [
    "chain = MultiPromptChain(router_chain=router_chain,\n",
    "                         destination_chains=destination_chains,\n",
    "                         default_chain=default_chain,\n",
    "                         verbose=True)"
   ]
  },
  {
   "cell_type": "code",
   "execution_count": 30,
   "id": "29d35c9b-92c3-4087-96b4-bef733a91c00",
   "metadata": {
    "tags": []
   },
   "outputs": [
    {
     "name": "stderr",
     "output_type": "stream",
     "text": [
      "C:\\ProgramData\\anaconda3\\Lib\\site-packages\\langchain_core\\_api\\deprecation.py:117: LangChainDeprecationWarning: The function `run` was deprecated in LangChain 0.1.0 and will be removed in 0.2.0. Use invoke instead.\n",
      "  warn_deprecated(\n",
      "C:\\ProgramData\\anaconda3\\Lib\\site-packages\\langchain\\chains\\llm.py:316: UserWarning: The predict_and_parse method is deprecated, instead pass an output parser directly to LLMChain.\n",
      "  warnings.warn(\n"
     ]
    },
    {
     "name": "stdout",
     "output_type": "stream",
     "text": [
      "\n",
      "\n",
      "\u001b[1m> Entering new MultiPromptChain chain...\u001b[0m\n",
      "beginner physics: {'input': 'How do magnets work'}\n",
      "\u001b[1m> Finished chain.\u001b[0m\n"
     ]
    }
   ],
   "source": [
    "result1 = chain.run(\"How do magenets work\")"
   ]
  },
  {
   "cell_type": "code",
   "execution_count": 31,
   "id": "96ef18fc-b0d9-43f5-a320-bef5d616bc7e",
   "metadata": {
    "tags": []
   },
   "outputs": [
    {
     "name": "stdout",
     "output_type": "stream",
     "text": [
      "Magnets are really fascinating objects that have the power to attract or repel certain materials. They work because of something called magnetism. \n",
      "\n",
      "Inside a magnet, there are tiny particles called electrons that are constantly moving. These electrons have a property called \"spin\" which creates a magnetic field around them. Think of this magnetic field as an invisible force that extends out from the magnet.\n",
      "\n",
      "When you bring another object close to a magnet, like a piece of iron, the magnetic field interacts with the electrons in that object. The magnet's magnetic field aligns the electrons in the iron in a specific way.\n",
      "\n",
      "If the electrons in the iron align in the same direction as the electrons in the magnet, they will attract each other. It's like they become friends and stick together. This is why the iron gets attracted to the magnet and sticks to it.\n",
      "\n",
      "On the other hand, if the electrons in the iron align in the opposite direction to the electrons in the magnet, they will repel each other. It's like they become enemies and push each other away. This is why sometimes magnets can push certain objects away instead of attracting them.\n",
      "\n",
      "So, magnets work by creating a magnetic field that interacts with the electrons in other materials, causing them to either attract or repel each other depending on how their electrons align.\n",
      "\n",
      "It's important to note that not all materials can be attracted or repelled by magnets. Only certain materials, like iron, nickel, and cobalt, can interact with magnets because their electrons are more easily influenced by the magnetic field.\n"
     ]
    }
   ],
   "source": [
    "print(result1)"
   ]
  },
  {
   "cell_type": "code",
   "execution_count": 32,
   "id": "c76d8ea9-1f00-4558-aa05-f3508deae945",
   "metadata": {
    "tags": []
   },
   "outputs": [
    {
     "name": "stdout",
     "output_type": "stream",
     "text": [
      "\n",
      "\n",
      "\u001b[1m> Entering new MultiPromptChain chain...\u001b[0m\n"
     ]
    },
    {
     "name": "stderr",
     "output_type": "stream",
     "text": [
      "C:\\ProgramData\\anaconda3\\Lib\\site-packages\\langchain\\chains\\llm.py:316: UserWarning: The predict_and_parse method is deprecated, instead pass an output parser directly to LLMChain.\n",
      "  warnings.warn(\n"
     ]
    },
    {
     "name": "stdout",
     "output_type": "stream",
     "text": [
      "advanced physics: {'input': 'Please explain Quantum Gravity'}\n",
      "\u001b[1m> Finished chain.\u001b[0m\n"
     ]
    }
   ],
   "source": [
    "result2 = chain.run(\"Please explain Quantum Gravity\")"
   ]
  },
  {
   "cell_type": "code",
   "execution_count": 33,
   "id": "df0e3e36-7145-488b-8b35-8e9ccd9ceb4a",
   "metadata": {
    "tags": []
   },
   "outputs": [
    {
     "name": "stdout",
     "output_type": "stream",
     "text": [
      "Quantum gravity is a theoretical framework that aims to reconcile two fundamental theories in physics: quantum mechanics, which describes the behavior of particles on a very small scale, and general relativity, which explains the behavior of gravity on a large scale.\n",
      "\n",
      "In classical physics, including general relativity, gravity is described as a geometric property of spacetime. It is the curvature of spacetime caused by mass and energy that influences the motion of objects. On the other hand, quantum mechanics describes the behavior of particles and forces at the microscopic level, where the discrete nature of energy and the uncertainty principle play a significant role.\n",
      "\n",
      "Quantum gravity attempts to extend these principles to a unified theory that can explain the behavior of gravity at both the macroscopic and microscopic levels. However, it is important to note that a complete and fully satisfactory theory of quantum gravity has not yet been established. Nonetheless, several theoretical frameworks have been proposed, each with its own approach and set of challenges.\n",
      "\n",
      "One of the most prominent approaches to quantum gravity is string theory. According to string theory, all fundamental particles are actually tiny, vibrating strings. These vibrations give rise to different particles and their interactions. String theory incorporates both quantum mechanics and gravity by postulating that the fundamental entities in the universe are not point-like particles but rather one-dimensional strings. However, string theory requires extra dimensions beyond the familiar three spatial dimensions and one time dimension, making it a complex and mathematically challenging theory.\n",
      "\n",
      "Another approach to quantum gravity is loop quantum gravity. In this framework, the fundamental entities are not strings but rather loops or networks of space itself. Loop quantum gravity introduces discrete, quantized spacetime at the microscopic level, which helps address some of the issues that arise when trying to combine quantum mechanics and general relativity. This approach also suggests that spacetime may have a granular structure, similar to a pixelated image.\n",
      "\n",
      "Other approaches to quantum gravity include causal sets, asymptotic safety, and holography. Each of these approaches offers unique perspectives and insights into the nature of quantum gravity, but they all face significant technical and conceptual challenges.\n",
      "\n",
      "In summary, quantum gravity is a theoretical framework that tries to reconcile quantum mechanics and general relativity. While we have not yet arrived at a complete and fully satisfactory theory, various approaches such as string theory, loop quantum gravity, and others are actively being explored by physicists to shed light on the fundamental nature of gravity at both the microscopic and macroscopic scales.\n"
     ]
    }
   ],
   "source": [
    "print(result2)"
   ]
  },
  {
   "cell_type": "code",
   "execution_count": null,
   "id": "47db39f3-feff-4686-a1cf-2ca93ba8d4cc",
   "metadata": {},
   "outputs": [],
   "source": []
  }
 ],
 "metadata": {
  "kernelspec": {
   "display_name": "Python 3 (ipykernel)",
   "language": "python",
   "name": "python3"
  },
  "language_info": {
   "codemirror_mode": {
    "name": "ipython",
    "version": 3
   },
   "file_extension": ".py",
   "mimetype": "text/x-python",
   "name": "python",
   "nbconvert_exporter": "python",
   "pygments_lexer": "ipython3",
   "version": "3.11.5"
  }
 },
 "nbformat": 4,
 "nbformat_minor": 5
}
