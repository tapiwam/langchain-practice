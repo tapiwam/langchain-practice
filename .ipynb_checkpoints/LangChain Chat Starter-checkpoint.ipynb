{
 "cells": [
  {
   "cell_type": "code",
   "execution_count": 23,
   "id": "938556af-541a-4286-bf98-ef139125a078",
   "metadata": {
    "tags": []
   },
   "outputs": [],
   "source": [
    "from langchain.chat_models import ChatOpenAI\n",
    "from langchain.schema import AIMessage, HumanMessage, SystemMessage"
   ]
  },
  {
   "cell_type": "code",
   "execution_count": 12,
   "id": "f8c1ea3b-3b33-4d96-8ea5-8639d67cc352",
   "metadata": {
    "tags": []
   },
   "outputs": [],
   "source": [
    "f = open('../openai_key.txt')\n",
    "api_key = f.read()"
   ]
  },
  {
   "cell_type": "code",
   "execution_count": 17,
   "id": "eab49119-15b2-47bb-910a-6f99ef888de4",
   "metadata": {
    "tags": []
   },
   "outputs": [],
   "source": [
    "chat = ChatOpenAI(openai_api_key=api_key)"
   ]
  },
  {
   "cell_type": "code",
   "execution_count": 27,
   "id": "9c3bc83d-489d-4784-8ddd-817ca3b9057e",
   "metadata": {
    "tags": []
   },
   "outputs": [],
   "source": [
    "result = chat([HumanMessage(content='Tell me a fact about Pluto')])"
   ]
  },
  {
   "cell_type": "code",
   "execution_count": 29,
   "id": "71b456c8-c0f4-4842-bf4b-1af696ef97d6",
   "metadata": {
    "tags": []
   },
   "outputs": [
    {
     "data": {
      "text/plain": [
       "AIMessage(content='A fact about Pluto is that it was once considered the ninth planet in our solar system but was reclassified as a \"dwarf planet\" in 2006 by the International Astronomical Union.')"
      ]
     },
     "execution_count": 29,
     "metadata": {},
     "output_type": "execute_result"
    }
   ],
   "source": [
    "result"
   ]
  },
  {
   "cell_type": "code",
   "execution_count": 31,
   "id": "3a28141e-5ead-44e4-8874-04ad7d672462",
   "metadata": {},
   "outputs": [
    {
     "name": "stdout",
     "output_type": "stream",
     "text": [
      "A fact about Pluto is that it was once considered the ninth planet in our solar system but was reclassified as a \"dwarf planet\" in 2006 by the International Astronomical Union.\n"
     ]
    }
   ],
   "source": [
    "print(result.content)"
   ]
  },
  {
   "cell_type": "code",
   "execution_count": null,
   "id": "63f34e9a-1aa4-4542-b2f1-b2174e158b6f",
   "metadata": {},
   "outputs": [],
   "source": [
    "result = chat([\n",
    "    SystemMessage(content='You are a lazy teenager who just wants to party',\n",
    "    HumanMessage(content='Tell me a fact about Pluto')\n",
    "                  ])"
   ]
  }
 ],
 "metadata": {
  "kernelspec": {
   "display_name": "Python 3 (ipykernel)",
   "language": "python",
   "name": "python3"
  },
  "language_info": {
   "codemirror_mode": {
    "name": "ipython",
    "version": 3
   },
   "file_extension": ".py",
   "mimetype": "text/x-python",
   "name": "python",
   "nbconvert_exporter": "python",
   "pygments_lexer": "ipython3",
   "version": "3.11.5"
  }
 },
 "nbformat": 4,
 "nbformat_minor": 5
}
