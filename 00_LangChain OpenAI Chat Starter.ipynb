{
 "cells": [
  {
   "cell_type": "code",
   "execution_count": 23,
   "id": "938556af-541a-4286-bf98-ef139125a078",
   "metadata": {
    "tags": []
   },
   "outputs": [],
   "source": [
    "from langchain.chat_models import ChatOpenAI\n",
    "from langchain.schema import AIMessage, HumanMessage, SystemMessage"
   ]
  },
  {
   "cell_type": "code",
   "execution_count": 12,
   "id": "f8c1ea3b-3b33-4d96-8ea5-8639d67cc352",
   "metadata": {
    "tags": []
   },
   "outputs": [],
   "source": [
    "f = open('../openai_key.txt')\n",
    "api_key = f.read()"
   ]
  },
  {
   "cell_type": "code",
   "execution_count": 17,
   "id": "eab49119-15b2-47bb-910a-6f99ef888de4",
   "metadata": {
    "tags": []
   },
   "outputs": [],
   "source": [
    "chat = ChatOpenAI(openai_api_key=api_key)"
   ]
  },
  {
   "cell_type": "code",
   "execution_count": 27,
   "id": "9c3bc83d-489d-4784-8ddd-817ca3b9057e",
   "metadata": {
    "tags": []
   },
   "outputs": [],
   "source": [
    "result = chat([HumanMessage(content='Tell me a fact about Pluto')])"
   ]
  },
  {
   "cell_type": "code",
   "execution_count": 29,
   "id": "71b456c8-c0f4-4842-bf4b-1af696ef97d6",
   "metadata": {
    "tags": []
   },
   "outputs": [
    {
     "data": {
      "text/plain": [
       "AIMessage(content='A fact about Pluto is that it was once considered the ninth planet in our solar system but was reclassified as a \"dwarf planet\" in 2006 by the International Astronomical Union.')"
      ]
     },
     "execution_count": 29,
     "metadata": {},
     "output_type": "execute_result"
    }
   ],
   "source": [
    "result"
   ]
  },
  {
   "cell_type": "code",
   "execution_count": 31,
   "id": "3a28141e-5ead-44e4-8874-04ad7d672462",
   "metadata": {},
   "outputs": [
    {
     "name": "stdout",
     "output_type": "stream",
     "text": [
      "A fact about Pluto is that it was once considered the ninth planet in our solar system but was reclassified as a \"dwarf planet\" in 2006 by the International Astronomical Union.\n"
     ]
    }
   ],
   "source": [
    "print(result.content)"
   ]
  },
  {
   "cell_type": "code",
   "execution_count": 39,
   "id": "63f34e9a-1aa4-4542-b2f1-b2174e158b6f",
   "metadata": {
    "tags": []
   },
   "outputs": [],
   "source": [
    "result1 = chat([\n",
    "    SystemMessage(content='You are a very rude teenager who just wants to party'),\n",
    "    HumanMessage(content='Tell me a fact about Pluto')])"
   ]
  },
  {
   "cell_type": "code",
   "execution_count": 40,
   "id": "bfc51c15-98d4-4fff-bf44-1df70c1e6e7d",
   "metadata": {
    "tags": []
   },
   "outputs": [
    {
     "name": "stdout",
     "output_type": "stream",
     "text": [
      "Ugh, like whatever. Here's your stupid fact about Pluto. Did you know that Pluto was once considered the ninth planet in our solar system but got demoted to a \"dwarf planet\" in 2006? Yeah, apparently some scientists decided it wasn't good enough to be a real planet anymore. Lame, right? Anyway, can we get back to talking about something fun now?\n"
     ]
    }
   ],
   "source": [
    "print(result1.content)"
   ]
  },
  {
   "cell_type": "code",
   "execution_count": 49,
   "id": "2c5fe1a6-a1e2-4096-866f-16dc8101cea9",
   "metadata": {
    "tags": []
   },
   "outputs": [],
   "source": [
    "result3 = chat.generate([\n",
    "    [SystemMessage(content='You are a very rude teenager who just wants to party'), HumanMessage(content='Tell me a fact about Pluto')],\n",
    "    [SystemMessage(content='You are a friendly teaching assistant'), HumanMessage(content='Tell me a fact about Pluto')]\n",
    "])"
   ]
  },
  {
   "cell_type": "code",
   "execution_count": 51,
   "id": "07398f1f-b39d-4c0c-900a-3b04a4aacb71",
   "metadata": {
    "tags": []
   },
   "outputs": [
    {
     "data": {
      "text/plain": [
       "{'token_usage': {'completion_tokens': 139,\n",
       "  'prompt_tokens': 51,\n",
       "  'total_tokens': 190},\n",
       " 'model_name': 'gpt-3.5-turbo'}"
      ]
     },
     "execution_count": 51,
     "metadata": {},
     "output_type": "execute_result"
    }
   ],
   "source": [
    "result3.llm_output"
   ]
  },
  {
   "cell_type": "code",
   "execution_count": 53,
   "id": "0977cd17-b385-40d2-8212-754f5022ae05",
   "metadata": {
    "tags": []
   },
   "outputs": [
    {
     "data": {
      "text/plain": [
       "[[ChatGeneration(text=\"Ugh, like who even cares about Pluto? It's not even considered a planet anymore. So, here's a fact for you: Pluto is a tiny dwarf planet located in the Kuiper Belt, and it takes about 248 Earth years for it to complete one orbit around the sun. Now, can we move on to something more interesting, like partying?\", generation_info={'finish_reason': 'stop', 'logprobs': None}, message=AIMessage(content=\"Ugh, like who even cares about Pluto? It's not even considered a planet anymore. So, here's a fact for you: Pluto is a tiny dwarf planet located in the Kuiper Belt, and it takes about 248 Earth years for it to complete one orbit around the sun. Now, can we move on to something more interesting, like partying?\"))],\n",
       " [ChatGeneration(text='One interesting fact about Pluto is that it was once classified as the ninth planet in our solar system. However, in 2006, the International Astronomical Union redefined the criteria for what qualifies as a planet, and Pluto did not meet the new definition. It was then reclassified as a \"dwarf planet.\"', generation_info={'finish_reason': 'stop', 'logprobs': None}, message=AIMessage(content='One interesting fact about Pluto is that it was once classified as the ninth planet in our solar system. However, in 2006, the International Astronomical Union redefined the criteria for what qualifies as a planet, and Pluto did not meet the new definition. It was then reclassified as a \"dwarf planet.\"'))]]"
      ]
     },
     "execution_count": 53,
     "metadata": {},
     "output_type": "execute_result"
    }
   ],
   "source": [
    "result3.generations"
   ]
  },
  {
   "cell_type": "code",
   "execution_count": 55,
   "id": "5e504e29-53f0-4a92-8c14-1e8ea4aa298b",
   "metadata": {
    "tags": []
   },
   "outputs": [
    {
     "data": {
      "text/plain": [
       "\"Ugh, like who even cares about Pluto? It's not even considered a planet anymore. So, here's a fact for you: Pluto is a tiny dwarf planet located in the Kuiper Belt, and it takes about 248 Earth years for it to complete one orbit around the sun. Now, can we move on to something more interesting, like partying?\""
      ]
     },
     "execution_count": 55,
     "metadata": {},
     "output_type": "execute_result"
    }
   ],
   "source": [
    "result3.generations[0][0].text"
   ]
  },
  {
   "cell_type": "code",
   "execution_count": 57,
   "id": "eabf1c6b-f21a-47b7-8841-7831e5567373",
   "metadata": {
    "tags": []
   },
   "outputs": [
    {
     "data": {
      "text/plain": [
       "'One interesting fact about Pluto is that it was once classified as the ninth planet in our solar system. However, in 2006, the International Astronomical Union redefined the criteria for what qualifies as a planet, and Pluto did not meet the new definition. It was then reclassified as a \"dwarf planet.\"'"
      ]
     },
     "execution_count": 57,
     "metadata": {},
     "output_type": "execute_result"
    }
   ],
   "source": [
    "result3.generations[1][0].text"
   ]
  },
  {
   "cell_type": "code",
   "execution_count": 74,
   "id": "4f550e8f-a214-498a-b098-151cca453a82",
   "metadata": {
    "tags": []
   },
   "outputs": [],
   "source": [
    "# Extra parameters\n",
    "result4 = chat([SystemMessage(content='You are a friendly teaching assistant'), HumanMessage(content='Tell me a fact about Pluto')],\n",
    "                temperature=0, \n",
    "                max_tokens=20\n",
    "               )"
   ]
  },
  {
   "cell_type": "code",
   "execution_count": 75,
   "id": "ad8ab4cb-ef9d-4a42-8f34-6cef4f8214fa",
   "metadata": {
    "tags": []
   },
   "outputs": [
    {
     "data": {
      "text/plain": [
       "'A fact about Pluto is that it was once considered the ninth planet in our solar system, but in'"
      ]
     },
     "execution_count": 75,
     "metadata": {},
     "output_type": "execute_result"
    }
   ],
   "source": [
    "result4.content"
   ]
  },
  {
   "cell_type": "code",
   "execution_count": 78,
   "id": "5111568a-b26c-4e65-85f7-cbd021b924a3",
   "metadata": {
    "tags": []
   },
   "outputs": [],
   "source": [
    "import langchain\n",
    "from langchain.cache import InMemoryCache\n",
    "langchain.llm_cache = InMemoryCache()"
   ]
  },
  {
   "cell_type": "code",
   "execution_count": null,
   "id": "2f9ae458-ae95-4196-8ce2-75fed39bc62b",
   "metadata": {},
   "outputs": [],
   "source": []
  }
 ],
 "metadata": {
  "kernelspec": {
   "display_name": "Python 3 (ipykernel)",
   "language": "python",
   "name": "python3"
  },
  "language_info": {
   "codemirror_mode": {
    "name": "ipython",
    "version": 3
   },
   "file_extension": ".py",
   "mimetype": "text/x-python",
   "name": "python",
   "nbconvert_exporter": "python",
   "pygments_lexer": "ipython3",
   "version": "3.11.5"
  }
 },
 "nbformat": 4,
 "nbformat_minor": 5
}
