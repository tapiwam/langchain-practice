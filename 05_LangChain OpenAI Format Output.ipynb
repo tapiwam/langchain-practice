{
 "cells": [
  {
   "cell_type": "markdown",
   "id": "64959efd",
   "metadata": {},
   "source": [
    "# Lanchain OpenAI Setup"
   ]
  },
  {
   "cell_type": "code",
   "execution_count": 3,
   "id": "938556af-541a-4286-bf98-ef139125a078",
   "metadata": {
    "tags": []
   },
   "outputs": [],
   "source": [
    "import langchain\n",
    "from langchain_openai import OpenAI\n",
    "from langchain_openai import ChatOpenAI\n",
    "from langchain.schema import AIMessage, HumanMessage, SystemMessage\n",
    "\n",
    "# Import chat templates\n",
    "from langchain.prompts import (\n",
    "    ChatPromptTemplate,\n",
    "    PromptTemplate,\n",
    "    SystemMessagePromptTemplate,\n",
    "    AIMessagePromptTemplate,\n",
    "    HumanMessagePromptTemplate,\n",
    "    load_prompt\n",
    ")\n",
    "\n",
    "# Caching\n",
    "from langchain.cache import InMemoryCache\n",
    "from langchain.cache import SQLiteCache\n",
    "from langchain.globals import set_llm_cache"
   ]
  },
  {
   "cell_type": "code",
   "execution_count": 3,
   "id": "9faf781b-16dd-4f62-9922-82ee6940461f",
   "metadata": {
    "tags": []
   },
   "outputs": [],
   "source": [
    "cacheType = 'in_memory'\n",
    "\n",
    "if cacheType == 'in_memory':\n",
    "    set_llm_cache(InMemoryCache())\n",
    "elif cacheType == 'sqlite':\n",
    "    set_llm_cache(SQLiteCache(database_path=\".langchain.db\"))\n",
    "\n",
    "# Set OpenAI API key and create LLM and Chat LLM. Note that key can be stored in a separate file or as an environment variable. Refer to docs.\n",
    "api_key = open('./openai_key.txt').read()\n",
    "llm = OpenAI(openai_api_key=api_key)\n",
    "chat = ChatOpenAI(openai_api_key=api_key)"
   ]
  },
  {
   "cell_type": "code",
   "execution_count": 4,
   "id": "41982e27",
   "metadata": {
    "tags": []
   },
   "outputs": [],
   "source": [
    "# Step 1 - Import parser\n",
    "# Import comma separated list parser from langchain\n",
    "from langchain.output_parsers import (\n",
    "    CommaSeparatedListOutputParser,\n",
    "    DatetimeOutputParser,\n",
    "    OutputFixingParser,\n",
    "    PydanticOutputParser\n",
    ")\n",
    "from pydantic import BaseModel, Field"
   ]
  },
  {
   "cell_type": "code",
   "execution_count": 5,
   "id": "eab49119-15b2-47bb-910a-6f99ef888de4",
   "metadata": {
    "tags": []
   },
   "outputs": [
    {
     "data": {
      "text/plain": [
       "'Your response should be a list of comma separated values, eg: `foo, bar, baz`'"
      ]
     },
     "execution_count": 5,
     "metadata": {},
     "output_type": "execute_result"
    }
   ],
   "source": [
    "# Step 2 - format instructions\n",
    "output_parser = CommaSeparatedListOutputParser()\n",
    "output_parser.get_format_instructions()"
   ]
  },
  {
   "cell_type": "code",
   "execution_count": 6,
   "id": "3a28141e-5ead-44e4-8874-04ad7d672462",
   "metadata": {
    "tags": []
   },
   "outputs": [
    {
     "data": {
      "text/plain": [
       "['foo', 'bar', 'baz']"
      ]
     },
     "execution_count": 6,
     "metadata": {},
     "output_type": "execute_result"
    }
   ],
   "source": [
    "sample_response = \"foo, bar, baz\"\n",
    "output_parser.parse(sample_response)"
   ]
  },
  {
   "cell_type": "code",
   "execution_count": 7,
   "id": "f266586b",
   "metadata": {
    "tags": []
   },
   "outputs": [],
   "source": [
    "human_template = \"{request}\\n{format_instructions}\"\n",
    "human_prompt = HumanMessagePromptTemplate.from_template(human_template)\n",
    "\n",
    "chat_prompt = ChatPromptTemplate.from_messages([human_prompt])"
   ]
  },
  {
   "cell_type": "code",
   "execution_count": 8,
   "id": "ada99bd4",
   "metadata": {
    "tags": []
   },
   "outputs": [],
   "source": [
    "request = \"give me 5 characteristics of dogs\"\n",
    "model_request = chat_prompt.format_prompt(request=request, format_instructions=output_parser.get_format_instructions()).to_messages()"
   ]
  },
  {
   "cell_type": "code",
   "execution_count": 9,
   "id": "d06ff5db",
   "metadata": {
    "tags": []
   },
   "outputs": [
    {
     "name": "stderr",
     "output_type": "stream",
     "text": [
      "C:\\ProgramData\\anaconda3\\Lib\\site-packages\\langchain_core\\_api\\deprecation.py:117: LangChainDeprecationWarning: The function `__call__` was deprecated in LangChain 0.1.7 and will be removed in 0.2.0. Use invoke instead.\n",
      "  warn_deprecated(\n"
     ]
    },
    {
     "name": "stdout",
     "output_type": "stream",
     "text": [
      "Original output: loyal, playful, protective, social, intelligent\n",
      "Parsed output: ['loyal', 'playful', 'protective', 'social', 'intelligent']\n"
     ]
    }
   ],
   "source": [
    "result = chat(model_request)\n",
    "print(f'Original output: {result.content}') # result.content\n",
    "print(f'Parsed output: {output_parser.parse(result.content)}')"
   ]
  },
  {
   "cell_type": "markdown",
   "id": "1d5a91d2",
   "metadata": {},
   "source": [
    "### Handling incorrect parse responses\n",
    "\n",
    "There are two main ways to solve this problem:\n",
    "- System prompt - Have a strong system prompt to combine with your format instructions.\n",
    "- OutputFixingParser - Using a chain, send your original reply to an LLM to try to fix it"
   ]
  },
  {
   "cell_type": "code",
   "execution_count": 11,
   "id": "dca5912a",
   "metadata": {
    "tags": []
   },
   "outputs": [
    {
     "data": {
      "text/plain": [
       "\"Write a datetime string that matches the following pattern: '%Y-%m-%dT%H:%M:%S.%fZ'.\\n\\nExamples: 0617-04-19T02:46:05.097427Z, 1487-12-21T01:42:18.042091Z, 0560-10-12T08:26:06.578430Z\\n\\nReturn ONLY this string, no other words!\""
      ]
     },
     "execution_count": 11,
     "metadata": {},
     "output_type": "execute_result"
    }
   ],
   "source": [
    "datetime_parser = DatetimeOutputParser()\n",
    "datetime_parser.get_format_instructions()"
   ]
  },
  {
   "cell_type": "code",
   "execution_count": 12,
   "id": "ab4b8669",
   "metadata": {
    "tags": []
   },
   "outputs": [],
   "source": [
    "dt_template = \"{request}\\n{format_instructions}\"\n",
    "dt_prompt = HumanMessagePromptTemplate.from_template(dt_template)\n",
    "\n",
    "# Using system prompt to guide the model\n",
    "dt_system_template = \"You only respond with a datetime string.\"\n",
    "dt_system_prompt = SystemMessagePromptTemplate.from_template(dt_system_template)\n",
    "\n",
    "dt_chat_prompt = ChatPromptTemplate.from_messages([dt_prompt, dt_system_prompt])"
   ]
  },
  {
   "cell_type": "code",
   "execution_count": 13,
   "id": "eef14ac8",
   "metadata": {
    "tags": []
   },
   "outputs": [],
   "source": [
    "dt_request = \"What data was the 13th Amendment oratified in the US?\"\n",
    "dt_model_request = dt_chat_prompt.format_prompt(request=dt_request, format_instructions=datetime_parser.get_format_instructions()).to_messages()"
   ]
  },
  {
   "cell_type": "code",
   "execution_count": 14,
   "id": "f716f918",
   "metadata": {
    "tags": []
   },
   "outputs": [
    {
     "name": "stdout",
     "output_type": "stream",
     "text": [
      "Original output: 1865-12-06T00:00:00.000000Z\n",
      "Parsed output: 1865-12-06 00:00:00\n"
     ]
    }
   ],
   "source": [
    "dt_result = chat(dt_model_request, temperature=0.0)\n",
    "print(f'Original output: {dt_result.content}') # result.content\n",
    "print(f'Parsed output: {datetime_parser.parse(dt_result.content)}')"
   ]
  },
  {
   "cell_type": "code",
   "execution_count": 15,
   "id": "73482956",
   "metadata": {
    "tags": []
   },
   "outputs": [
    {
     "name": "stdout",
     "output_type": "stream",
     "text": [
      "1865-12-06 00:00:00\n"
     ]
    }
   ],
   "source": [
    "# Fix misformatted output using OutputFixingParser. This will reprompt the model to try and get it to fix the output.\n",
    "\n",
    "from langchain.output_parsers import OutputFixingParser\n",
    "misformatted = dt_result.content\n",
    "\n",
    "new_parser = OutputFixingParser.from_llm(parser=datetime_parser, llm=chat)\n",
    "fixed = new_parser.parse(misformatted)\n",
    "\n",
    "print(fixed)"
   ]
  },
  {
   "cell_type": "markdown",
   "id": "492cfbcd-4126-44a3-b15e-76d154beb390",
   "metadata": {},
   "source": [
    "# Parsing into a class with Pydantic"
   ]
  },
  {
   "cell_type": "code",
   "execution_count": 17,
   "id": "b0600789",
   "metadata": {
    "tags": []
   },
   "outputs": [],
   "source": [
    "from langchain.output_parsers import PydanticOutputParser"
   ]
  },
  {
   "cell_type": "code",
   "execution_count": 18,
   "id": "d7c242dc-b8b0-41d6-986f-167630a2cacc",
   "metadata": {
    "tags": []
   },
   "outputs": [],
   "source": [
    "from pydantic import BaseModel, Field"
   ]
  },
  {
   "cell_type": "code",
   "execution_count": 19,
   "id": "6883d40e-c368-4647-b30c-f02ad0832db8",
   "metadata": {
    "tags": []
   },
   "outputs": [],
   "source": [
    "class Scientist(BaseModel):\n",
    "    \n",
    "    name: str = Field(description=\"Name of Scientist\")\n",
    "    discoveries: list = Field(description=\"Python list of discoveries\")"
   ]
  },
  {
   "cell_type": "code",
   "execution_count": 20,
   "id": "d052316a-0220-4e43-9cf0-6c9d47027eb5",
   "metadata": {
    "tags": []
   },
   "outputs": [
    {
     "data": {
      "text/plain": [
       "'The output should be formatted as a JSON instance that conforms to the JSON schema below.\\n\\nAs an example, for the schema {\"properties\": {\"foo\": {\"title\": \"Foo\", \"description\": \"a list of strings\", \"type\": \"array\", \"items\": {\"type\": \"string\"}}}, \"required\": [\"foo\"]}\\nthe object {\"foo\": [\"bar\", \"baz\"]} is a well-formatted instance of the schema. The object {\"properties\": {\"foo\": [\"bar\", \"baz\"]}} is not well-formatted.\\n\\nHere is the output schema:\\n```\\n{\"properties\": {\"name\": {\"title\": \"Name\", \"description\": \"Name of Scientist\", \"type\": \"string\"}, \"discoveries\": {\"title\": \"Discoveries\", \"description\": \"Python list of discoveries\", \"type\": \"array\", \"items\": {}}}, \"required\": [\"name\", \"discoveries\"]}\\n```'"
      ]
     },
     "execution_count": 20,
     "metadata": {},
     "output_type": "execute_result"
    }
   ],
   "source": [
    "parser = PydanticOutputParser(pydantic_object=Scientist)\n",
    "parser.get_format_instructions()"
   ]
  },
  {
   "cell_type": "code",
   "execution_count": 5,
   "id": "aaaa3af3-6d6a-42b7-bd7b-7dfc32954445",
   "metadata": {},
   "outputs": [],
   "source": [
    "human_template = '{request}\\n{format_instructions}'\n",
    "human_prompt = HumanMessagePromptTemplate.from_template(human_template)\n",
    "\n",
    "chat_prompt = ChatPromptTemplate.from_messages([human_prompt])"
   ]
  },
  {
   "cell_type": "code",
   "execution_count": 30,
   "id": "69a962d1-9f4a-4826-bce4-0a9d4c02b3f9",
   "metadata": {
    "tags": []
   },
   "outputs": [],
   "source": [
    "request = chat_prompt.format_prompt(request=\"Tell me about a famous scientist\",\n",
    "                                   format_instructions=parser.get_format_instructions()).to_messages()"
   ]
  },
  {
   "cell_type": "code",
   "execution_count": 32,
   "id": "19391200-78e2-4556-9253-fc46abbc4dde",
   "metadata": {
    "tags": []
   },
   "outputs": [],
   "source": [
    "result = chat(request, temperature=0.0)"
   ]
  },
  {
   "cell_type": "code",
   "execution_count": 36,
   "id": "8130010f-248a-45f9-8e44-72a6263eab7e",
   "metadata": {
    "tags": []
   },
   "outputs": [
    {
     "data": {
      "text/plain": [
       "Scientist(name='Albert Einstein', discoveries=['Theory of Relativity', 'Photoelectric Effect', 'Brownian Motion'])"
      ]
     },
     "execution_count": 36,
     "metadata": {},
     "output_type": "execute_result"
    }
   ],
   "source": [
    "parser.parse(result.content)"
   ]
  },
  {
   "cell_type": "markdown",
   "id": "f3e6fde8-40f0-4636-83bf-99fc7cb18911",
   "metadata": {},
   "source": [
    "# Serializaton of prompt templates to files"
   ]
  },
  {
   "cell_type": "code",
   "execution_count": 9,
   "id": "da84073b-6016-4141-8570-73a183453c75",
   "metadata": {
    "tags": []
   },
   "outputs": [
    {
     "ename": "NotImplementedError",
     "evalue": "",
     "output_type": "error",
     "traceback": [
      "\u001b[1;31m---------------------------------------------------------------------------\u001b[0m",
      "\u001b[1;31mNotImplementedError\u001b[0m                       Traceback (most recent call last)",
      "Cell \u001b[1;32mIn[9], line 1\u001b[0m\n\u001b[1;32m----> 1\u001b[0m chat_prompt\u001b[38;5;241m.\u001b[39msave(\u001b[38;5;124m\"\u001b[39m\u001b[38;5;124mprompts/basic_formatted_human_template.json\u001b[39m\u001b[38;5;124m\"\u001b[39m)\n",
      "File \u001b[1;32mC:\\ProgramData\\anaconda3\\Lib\\site-packages\\langchain_core\\prompts\\chat.py:732\u001b[0m, in \u001b[0;36mChatPromptTemplate.save\u001b[1;34m(self, file_path)\u001b[0m\n\u001b[0;32m    726\u001b[0m \u001b[38;5;28;01mdef\u001b[39;00m \u001b[38;5;21msave\u001b[39m(\u001b[38;5;28mself\u001b[39m, file_path: Union[Path, \u001b[38;5;28mstr\u001b[39m]) \u001b[38;5;241m-\u001b[39m\u001b[38;5;241m>\u001b[39m \u001b[38;5;28;01mNone\u001b[39;00m:\n\u001b[0;32m    727\u001b[0m \u001b[38;5;250m    \u001b[39m\u001b[38;5;124;03m\"\"\"Save prompt to file.\u001b[39;00m\n\u001b[0;32m    728\u001b[0m \n\u001b[0;32m    729\u001b[0m \u001b[38;5;124;03m    Args:\u001b[39;00m\n\u001b[0;32m    730\u001b[0m \u001b[38;5;124;03m        file_path: path to file.\u001b[39;00m\n\u001b[0;32m    731\u001b[0m \u001b[38;5;124;03m    \"\"\"\u001b[39;00m\n\u001b[1;32m--> 732\u001b[0m     \u001b[38;5;28;01mraise\u001b[39;00m \u001b[38;5;167;01mNotImplementedError\u001b[39;00m()\n",
      "\u001b[1;31mNotImplementedError\u001b[0m: "
     ]
    }
   ],
   "source": [
    "chat_prompt.save(\"prompts/basic_formatted_human_template.json\")"
   ]
  },
  {
   "cell_type": "code",
   "execution_count": null,
   "id": "b085e531-5a6a-4117-a1f5-4de0ef0a5b72",
   "metadata": {},
   "outputs": [],
   "source": []
  }
 ],
 "metadata": {
  "kernelspec": {
   "display_name": "Python 3 (ipykernel)",
   "language": "python",
   "name": "python3"
  },
  "language_info": {
   "codemirror_mode": {
    "name": "ipython",
    "version": 3
   },
   "file_extension": ".py",
   "mimetype": "text/x-python",
   "name": "python",
   "nbconvert_exporter": "python",
   "pygments_lexer": "ipython3",
   "version": "3.11.5"
  }
 },
 "nbformat": 4,
 "nbformat_minor": 5
}
