{
 "cells": [
  {
   "cell_type": "code",
   "execution_count": 1,
   "metadata": {},
   "outputs": [],
   "source": [
    "from langchain_community.document_loaders import JSONLoader"
   ]
  },
  {
   "cell_type": "code",
   "execution_count": 2,
   "metadata": {},
   "outputs": [],
   "source": [
    "import json\n",
    "from pathlib import Path\n",
    "from pprint import pprint\n",
    "\n",
    "\n",
    "file_path='./data/sample.json'\n",
    "data = json.loads(Path(file_path).read_text())"
   ]
  },
  {
   "cell_type": "code",
   "execution_count": 3,
   "metadata": {},
   "outputs": [
    {
     "name": "stdout",
     "output_type": "stream",
     "text": [
      "{'batters': {'batter': [{'id': '1001', 'type': 'Regular'},\n",
      "                        {'id': '1002', 'type': 'Chocolate'},\n",
      "                        {'id': '1003', 'type': 'Blueberry'},\n",
      "                        {'id': '1004', 'type': \"Devil's Food\"}]},\n",
      " 'id': '0001',\n",
      " 'name': 'Cake',\n",
      " 'ppu': 0.55,\n",
      " 'topping': [{'id': '5001', 'type': 'None'},\n",
      "             {'id': '5002', 'type': 'Glazed'},\n",
      "             {'id': '5005', 'type': 'Sugar'},\n",
      "             {'id': '5007', 'type': 'Powdered Sugar'},\n",
      "             {'id': '5006', 'type': 'Chocolate with Sprinkles'},\n",
      "             {'id': '5003', 'type': 'Chocolate'},\n",
      "             {'id': '5004', 'type': 'Maple'}],\n",
      " 'type': 'donut'}\n"
     ]
    }
   ],
   "source": [
    "pprint(data)"
   ]
  },
  {
   "cell_type": "code",
   "execution_count": 9,
   "metadata": {},
   "outputs": [
    {
     "name": "stdout",
     "output_type": "stream",
     "text": [
      "[Document(page_content='{\"batter\": [{\"id\": \"1001\", \"type\": \"Regular\"}, {\"id\": \"1002\", \"type\": \"Chocolate\"}, {\"id\": \"1003\", \"type\": \"Blueberry\"}, {\"id\": \"1004\", \"type\": \"Devil\\'s Food\"}]}', metadata={'source': '/Users/tapiwamaruni/Documents/projects/langchain-practice/data/sample.json', 'seq_num': 1})]\n"
     ]
    }
   ],
   "source": [
    "loader = JSONLoader(\n",
    "    file_path=file_path,\n",
    "    jq_schema='map()',\n",
    "    text_content=False)\n",
    "\n",
    "data = loader.load()\n",
    "pprint(data)"
   ]
  },
  {
   "cell_type": "code",
   "execution_count": null,
   "metadata": {},
   "outputs": [],
   "source": []
  }
 ],
 "metadata": {
  "kernelspec": {
   "display_name": "ol",
   "language": "python",
   "name": "python3"
  },
  "language_info": {
   "codemirror_mode": {
    "name": "ipython",
    "version": 3
   },
   "file_extension": ".py",
   "mimetype": "text/x-python",
   "name": "python",
   "nbconvert_exporter": "python",
   "pygments_lexer": "ipython3",
   "version": "3.11.7"
  }
 },
 "nbformat": 4,
 "nbformat_minor": 2
}
