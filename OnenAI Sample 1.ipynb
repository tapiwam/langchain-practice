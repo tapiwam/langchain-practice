{
 "cells": [
  {
   "cell_type": "code",
   "execution_count": 1,
   "id": "093305d8-681b-4be4-ab41-c30c8a697ea8",
   "metadata": {
    "tags": []
   },
   "outputs": [],
   "source": [
    "import openai\n",
    "import os"
   ]
  },
  {
   "cell_type": "code",
   "execution_count": 30,
   "id": "882a2041-377b-477b-a944-ef9185ede3a9",
   "metadata": {
    "tags": []
   },
   "outputs": [],
   "source": [
    "from openai import OpenAI\n",
    "\n",
    "client = OpenAI(\n",
    "    # This is the default and can be omitted\n",
    "    api_key=os.environ.get(\"OPENAIKEY\"),\n",
    ")"
   ]
  },
  {
   "cell_type": "code",
   "execution_count": 47,
   "id": "cd67679b-98f1-4b25-a1ea-f9ed75443709",
   "metadata": {
    "tags": []
   },
   "outputs": [],
   "source": [
    "my_models = client.models.list()\n",
    "models_list = my_models.data"
   ]
  },
  {
   "cell_type": "code",
   "execution_count": 49,
   "id": "e4d13a6c-365e-471a-aaa5-dda207a70480",
   "metadata": {
    "tags": []
   },
   "outputs": [
    {
     "data": {
      "text/plain": [
       "[Model(id='gpt-3.5-turbo-0301', created=1677649963, object='model', owned_by='openai'),\n",
       " Model(id='text-embedding-3-large', created=1705953180, object='model', owned_by='system'),\n",
       " Model(id='gpt-4-turbo-preview', created=1706037777, object='model', owned_by='system'),\n",
       " Model(id='dall-e-3', created=1698785189, object='model', owned_by='system'),\n",
       " Model(id='whisper-1', created=1677532384, object='model', owned_by='openai-internal'),\n",
       " Model(id='dall-e-2', created=1698798177, object='model', owned_by='system'),\n",
       " Model(id='text-embedding-ada-002', created=1671217299, object='model', owned_by='openai-internal'),\n",
       " Model(id='tts-1-hd-1106', created=1699053533, object='model', owned_by='system'),\n",
       " Model(id='tts-1-hd', created=1699046015, object='model', owned_by='system'),\n",
       " Model(id='davinci-002', created=1692634301, object='model', owned_by='system'),\n",
       " Model(id='babbage-002', created=1692634615, object='model', owned_by='system'),\n",
       " Model(id='text-embedding-3-small', created=1705948997, object='model', owned_by='system'),\n",
       " Model(id='gpt-3.5-turbo-0613', created=1686587434, object='model', owned_by='openai'),\n",
       " Model(id='gpt-3.5-turbo', created=1677610602, object='model', owned_by='openai'),\n",
       " Model(id='gpt-4-0613', created=1686588896, object='model', owned_by='openai'),\n",
       " Model(id='gpt-4-vision-preview', created=1698894917, object='model', owned_by='system'),\n",
       " Model(id='gpt-3.5-turbo-16k-0613', created=1685474247, object='model', owned_by='openai'),\n",
       " Model(id='gpt-4', created=1687882411, object='model', owned_by='openai'),\n",
       " Model(id='gpt-3.5-turbo-1106', created=1698959748, object='model', owned_by='system'),\n",
       " Model(id='tts-1-1106', created=1699053241, object='model', owned_by='system'),\n",
       " Model(id='gpt-3.5-turbo-instruct', created=1692901427, object='model', owned_by='system'),\n",
       " Model(id='tts-1', created=1681940951, object='model', owned_by='openai-internal'),\n",
       " Model(id='gpt-3.5-turbo-instruct-0914', created=1694122472, object='model', owned_by='system'),\n",
       " Model(id='gpt-4-1106-preview', created=1698957206, object='model', owned_by='system'),\n",
       " Model(id='gpt-3.5-turbo-16k', created=1683758102, object='model', owned_by='openai-internal'),\n",
       " Model(id='gpt-4-0125-preview', created=1706037612, object='model', owned_by='system')]"
      ]
     },
     "execution_count": 49,
     "metadata": {},
     "output_type": "execute_result"
    }
   ],
   "source": [
    "models_list"
   ]
  },
  {
   "cell_type": "code",
   "execution_count": 55,
   "id": "6d4892a8-58cc-4662-94c6-46b213514fba",
   "metadata": {
    "tags": []
   },
   "outputs": [],
   "source": [
    "response = client.completions.create(\n",
    "    model = 'babbage-002',\n",
    "    prompt = 'Give me two reasons to learn OpenAP API with Python',\n",
    "    max_tokens = 300)"
   ]
  },
  {
   "cell_type": "code",
   "execution_count": 57,
   "id": "79336b24-5551-4be1-a986-0dd1fd956b59",
   "metadata": {},
   "outputs": [
    {
     "data": {
      "text/plain": [
       "Completion(id='cmpl-8lmyMpI993t1n6Fq4D0PdlZqYaShh', choices=[CompletionChoice(finish_reason='length', index=0, logprobs=None, text=\" and Django,” you may ask. The answer is: open source CRUD (Create, Read, Update, Delete) API tools and server editor. You can see a wider introduction here. Skill and Experience. Many look up the way to take or send or send smokers pipes and magazines. Python tutorials of experienced programmer and Python developers preferably with good knowledge of various computer science concepts like data structures, algorithms, data manipulation, Python GUI, Networking and more. Built For: Development on your desktop; Server Side. We didn't think so. Designing and building a full backend API in Python and Django in a production environment is useful for writing apps that are robust, resilient, and pay-as-you-go. It is used to develop applications that use list. This is a cloud based security api that allows developers to query and integrate security system from different third party companys such as Bureau Veritas Opconsult, Sixième Panthéon, Martechvik, MITRE, SEEP, and risk.stil_vov_merged). Offering systems that turns personal computers to become networkable small machines, a development ecosystem for building private 6.22 K Monthly Hits. Automation of data, programs and infrastructure in DevOps Processes. Django web framework had its beginning in 2011 in Larabie. Open source python library for network communications. (Category/Web/Twitch) - posted in General Chit-Chat: Downloads: 501924 - Likes: 6462 - Replies: 595 How to\")], created=1706400358, model='babbage-002', object='text_completion', system_fingerprint=None, usage=CompletionUsage(completion_tokens=300, prompt_tokens=11, total_tokens=311))"
      ]
     },
     "execution_count": 57,
     "metadata": {},
     "output_type": "execute_result"
    }
   ],
   "source": [
    "response"
   ]
  },
  {
   "cell_type": "code",
   "execution_count": 63,
   "id": "3d8b82b5-72af-4951-9b78-d484d28d2db8",
   "metadata": {
    "tags": []
   },
   "outputs": [
    {
     "data": {
      "text/plain": [
       "CompletionChoice(finish_reason='length', index=0, logprobs=None, text=\" and Django,” you may ask. The answer is: open source CRUD (Create, Read, Update, Delete) API tools and server editor. You can see a wider introduction here. Skill and Experience. Many look up the way to take or send or send smokers pipes and magazines. Python tutorials of experienced programmer and Python developers preferably with good knowledge of various computer science concepts like data structures, algorithms, data manipulation, Python GUI, Networking and more. Built For: Development on your desktop; Server Side. We didn't think so. Designing and building a full backend API in Python and Django in a production environment is useful for writing apps that are robust, resilient, and pay-as-you-go. It is used to develop applications that use list. This is a cloud based security api that allows developers to query and integrate security system from different third party companys such as Bureau Veritas Opconsult, Sixième Panthéon, Martechvik, MITRE, SEEP, and risk.stil_vov_merged). Offering systems that turns personal computers to become networkable small machines, a development ecosystem for building private 6.22 K Monthly Hits. Automation of data, programs and infrastructure in DevOps Processes. Django web framework had its beginning in 2011 in Larabie. Open source python library for network communications. (Category/Web/Twitch) - posted in General Chit-Chat: Downloads: 501924 - Likes: 6462 - Replies: 595 How to\")"
      ]
     },
     "execution_count": 63,
     "metadata": {},
     "output_type": "execute_result"
    }
   ],
   "source": [
    "response.choices[0]"
   ]
  },
  {
   "cell_type": "code",
   "execution_count": 69,
   "id": "9518f67c-a866-43bf-b3e2-ded5adbfb197",
   "metadata": {
    "tags": []
   },
   "outputs": [],
   "source": [
    "response2 = client.completions.create(\n",
    "    model = 'davinci-002',\n",
    "    prompt = 'Give me two reasons to learn OpenAI API with Python',\n",
    "    max_tokens = 300)"
   ]
  },
  {
   "cell_type": "code",
   "execution_count": 79,
   "id": "fbf438c6-ab87-4286-b1a8-42b67daeb82e",
   "metadata": {
    "tags": []
   },
   "outputs": [
    {
     "name": "stdout",
     "output_type": "stream",
     "text": [
      "\n",
      "\n",
      "Is it enough to know one of the input text processing (NLTK or spaCy) and one of the network (keras, PyTorch, caffe, etc.) to be considered a junior data scientist?\n",
      "\n",
      "How to prepare for Amazon 2019 data scientist 2 exam?\n",
      "\n",
      "We are constantly brainwashed with unrealistic, hyped expectations about outcomes of redesigning huge teams and businesses. We must look at things differently. We must celebrate rebuilding—if that is what it is indeed meant to be and how far we can move in that regard without...\n",
      "\n",
      "MindNLP is a Python toolkit that provides open-source semi-automatic text analytics components. MindNLP is especially known for...\n",
      "\n",
      "Are there any contraindications that artificially impose to write a class structure?\n",
      "\n",
      "The structure consists of the following elements:\n",
      "\n",
      "I believe one of the problems explained by Kaplan and Norton of poor alignment with strategies stems the lack of sharing strategic visions across the company.\n",
      "\n",
      "That is the reason why I want to inspire one of my colleagues to go deeply and write down a strategy, so that people will know the thoughts of the directors. And...\n"
     ]
    }
   ],
   "source": [
    "print(response2.choices[0].text)"
   ]
  },
  {
   "cell_type": "code",
   "execution_count": null,
   "id": "caec7168-a612-4f6b-b1ee-e3590676f0ed",
   "metadata": {},
   "outputs": [],
   "source": []
  }
 ],
 "metadata": {
  "kernelspec": {
   "display_name": "Python 3 (ipykernel)",
   "language": "python",
   "name": "python3"
  },
  "language_info": {
   "codemirror_mode": {
    "name": "ipython",
    "version": 3
   },
   "file_extension": ".py",
   "mimetype": "text/x-python",
   "name": "python",
   "nbconvert_exporter": "python",
   "pygments_lexer": "ipython3",
   "version": "3.11.5"
  }
 },
 "nbformat": 4,
 "nbformat_minor": 5
}
