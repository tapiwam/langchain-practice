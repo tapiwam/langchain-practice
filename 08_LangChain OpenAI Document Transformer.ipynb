{
 "cells": [
  {
   "cell_type": "markdown",
   "id": "64959efd",
   "metadata": {},
   "source": [
    "# Lanchain OpenAI Setup"
   ]
  },
  {
   "cell_type": "code",
   "execution_count": 2,
   "id": "938556af-541a-4286-bf98-ef139125a078",
   "metadata": {
    "tags": []
   },
   "outputs": [],
   "source": [
    "import langchain\n",
    "from langchain_openai import OpenAI\n",
    "from langchain_openai import ChatOpenAI\n",
    "from langchain.schema import AIMessage, HumanMessage, SystemMessage\n",
    "\n",
    "# Import chat templates\n",
    "from langchain.prompts import (\n",
    "    ChatPromptTemplate,\n",
    "    PromptTemplate,\n",
    "    SystemMessagePromptTemplate,\n",
    "    AIMessagePromptTemplate,\n",
    "    HumanMessagePromptTemplate,\n",
    ")\n",
    "\n",
    "# Caching\n",
    "from langchain.cache import InMemoryCache\n",
    "from langchain.cache import SQLiteCache\n",
    "from langchain.globals import set_llm_cache"
   ]
  },
  {
   "cell_type": "code",
   "execution_count": 3,
   "id": "9faf781b-16dd-4f62-9922-82ee6940461f",
   "metadata": {},
   "outputs": [],
   "source": [
    "cacheType = 'in_memory'\n",
    "\n",
    "if cacheType == 'in_memory':\n",
    "    set_llm_cache(InMemoryCache())\n",
    "elif cacheType == 'sqlite':\n",
    "    set_llm_cache(SQLiteCache(database_path=\".langchain.db\"))\n",
    "\n",
    "# Set OpenAI API key and create LLM and Chat LLM. Note that key can be stored in a separate file or as an environment variable. Refer to docs.\n",
    "api_key = open('./openai_key.txt').read()\n",
    "llm = OpenAI(openai_api_key=api_key)\n",
    "chat = ChatOpenAI(openai_api_key=api_key)"
   ]
  },
  {
   "cell_type": "code",
   "execution_count": 6,
   "id": "41982e27",
   "metadata": {},
   "outputs": [],
   "source": [
    "from langchain.text_splitter import CharacterTextSplitter"
   ]
  },
  {
   "cell_type": "code",
   "execution_count": 9,
   "id": "eab49119-15b2-47bb-910a-6f99ef888de4",
   "metadata": {
    "tags": []
   },
   "outputs": [],
   "source": [
    "with open('extras/01-Data-Connections/some_data/FDR_State_of_Union_1944.txt') as file:\n",
    "    speech_text = file.read()"
   ]
  },
  {
   "cell_type": "code",
   "execution_count": 11,
   "id": "3a28141e-5ead-44e4-8874-04ad7d672462",
   "metadata": {},
   "outputs": [
    {
     "data": {
      "text/plain": [
       "21995"
      ]
     },
     "execution_count": 11,
     "metadata": {},
     "output_type": "execute_result"
    }
   ],
   "source": [
    "len(speech_text)"
   ]
  },
  {
   "cell_type": "code",
   "execution_count": 15,
   "id": "268471c1-efc4-4195-8040-b98127315690",
   "metadata": {
    "tags": []
   },
   "outputs": [
    {
     "data": {
      "text/plain": [
       "3750"
      ]
     },
     "execution_count": 15,
     "metadata": {},
     "output_type": "execute_result"
    }
   ],
   "source": [
    "# May fit into Open AI (current linit is 8000 tokens) hower one large chunk is not as user friendly when developing\n",
    "len(speech_text.split())"
   ]
  },
  {
   "cell_type": "markdown",
   "id": "e2f95ea2-4e0c-47d6-a1a1-2e606e2a184d",
   "metadata": {},
   "source": [
    "## Character splitting on a character"
   ]
  },
  {
   "cell_type": "code",
   "execution_count": 34,
   "id": "fcea8c72-4883-45ac-bd63-044e630cc8e0",
   "metadata": {
    "tags": []
   },
   "outputs": [],
   "source": [
    "text_splitter = CharacterTextSplitter(separator=\"\\n\\n\", chunk_size=1000)"
   ]
  },
  {
   "cell_type": "code",
   "execution_count": 36,
   "id": "106be5f8-c5a2-4401-838d-25e9bd8dfad0",
   "metadata": {
    "tags": []
   },
   "outputs": [],
   "source": [
    "texts = text_splitter.create_documents([speech_text])"
   ]
  },
  {
   "cell_type": "code",
   "execution_count": 40,
   "id": "d23c3c0b-8e09-4d34-8a06-1fc4fc94470a",
   "metadata": {
    "tags": []
   },
   "outputs": [
    {
     "data": {
      "text/plain": [
       "28"
      ]
     },
     "execution_count": 40,
     "metadata": {},
     "output_type": "execute_result"
    }
   ],
   "source": [
    "len(texts)"
   ]
  },
  {
   "cell_type": "markdown",
   "id": "65a93490-ebd6-4d1d-bbe5-b409f0322d29",
   "metadata": {},
   "source": [
    "## Splitting by token count\n",
    "\n",
    "\n",
    "```sh\n",
    "!pip install tiktoken\n",
    "```"
   ]
  },
  {
   "cell_type": "code",
   "execution_count": 44,
   "id": "d7ea6419-825b-4204-b317-8c70689ebdd0",
   "metadata": {
    "tags": []
   },
   "outputs": [],
   "source": [
    "text_splitter = CharacterTextSplitter.from_tiktoken_encoder(chunk_size=500)\n",
    "texts = text_splitter.create_documents([speech_text])"
   ]
  },
  {
   "cell_type": "code",
   "execution_count": 46,
   "id": "ed9e2a16-d3f4-40aa-970f-09eb9e9b2760",
   "metadata": {
    "tags": []
   },
   "outputs": [
    {
     "data": {
      "text/plain": [
       "15"
      ]
     },
     "execution_count": 46,
     "metadata": {},
     "output_type": "execute_result"
    }
   ],
   "source": [
    "len(texts)"
   ]
  },
  {
   "cell_type": "code",
   "execution_count": null,
   "id": "9d1e8402-347f-4385-b38b-7a5329851c52",
   "metadata": {},
   "outputs": [],
   "source": []
  },
  {
   "cell_type": "code",
   "execution_count": null,
   "id": "26b147c3-8214-4503-a4df-a5b986f33e8c",
   "metadata": {},
   "outputs": [],
   "source": []
  }
 ],
 "metadata": {
  "kernelspec": {
   "display_name": "Python 3 (ipykernel)",
   "language": "python",
   "name": "python3"
  },
  "language_info": {
   "codemirror_mode": {
    "name": "ipython",
    "version": 3
   },
   "file_extension": ".py",
   "mimetype": "text/x-python",
   "name": "python",
   "nbconvert_exporter": "python",
   "pygments_lexer": "ipython3",
   "version": "3.11.5"
  }
 },
 "nbformat": 4,
 "nbformat_minor": 5
}
