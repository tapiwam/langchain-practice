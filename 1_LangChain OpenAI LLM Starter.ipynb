{
 "cells": [
  {
   "cell_type": "code",
   "execution_count": 2,
   "id": "938556af-541a-4286-bf98-ef139125a078",
   "metadata": {
    "tags": []
   },
   "outputs": [],
   "source": [
    "from langchain.llms import OpenAI"
   ]
  },
  {
   "cell_type": "code",
   "execution_count": 45,
   "id": "dadb86a6-64c8-4f9d-9a67-13368fd9d107",
   "metadata": {
    "tags": []
   },
   "outputs": [],
   "source": [
    "f = open('../openai_key.txt')\n",
    "api_key = f.read()"
   ]
  },
  {
   "cell_type": "code",
   "execution_count": 47,
   "id": "eab49119-15b2-47bb-910a-6f99ef888de4",
   "metadata": {
    "tags": []
   },
   "outputs": [],
   "source": [
    "llm = OpenAI(openai_api_key=api_key)"
   ]
  },
  {
   "cell_type": "code",
   "execution_count": 49,
   "id": "71b456c8-c0f4-4842-bf4b-1af696ef97d6",
   "metadata": {
    "tags": []
   },
   "outputs": [
    {
     "name": "stdout",
     "output_type": "stream",
     "text": [
      " The country's national anthem is the world's shortest national anthem, consisting of only four lines.\n"
     ]
    }
   ],
   "source": [
    "print(llm('Here is a fun fact about Zimbabwe:'))"
   ]
  },
  {
   "cell_type": "code",
   "execution_count": 31,
   "id": "f3773aca-464b-4c4e-b5ae-82d3f019f263",
   "metadata": {
    "tags": []
   },
   "outputs": [],
   "source": [
    "result = llm.generate(['Here is a fact about Pluto:','Here is a fact about Mars:'])"
   ]
  },
  {
   "cell_type": "code",
   "execution_count": 33,
   "id": "d4cb34f1-4550-4525-b0e8-88a78227535f",
   "metadata": {
    "tags": []
   },
   "outputs": [
    {
     "data": {
      "text/plain": [
       "{'title': 'LLMResult',\n",
       " 'description': 'Class that contains all results for a batched LLM call.',\n",
       " 'type': 'object',\n",
       " 'properties': {'generations': {'title': 'Generations',\n",
       "   'type': 'array',\n",
       "   'items': {'type': 'array', 'items': {'$ref': '#/definitions/Generation'}}},\n",
       "  'llm_output': {'title': 'Llm Output', 'type': 'object'},\n",
       "  'run': {'title': 'Run',\n",
       "   'type': 'array',\n",
       "   'items': {'$ref': '#/definitions/RunInfo'}}},\n",
       " 'required': ['generations'],\n",
       " 'definitions': {'Generation': {'title': 'Generation',\n",
       "   'description': 'A single text generation output.',\n",
       "   'type': 'object',\n",
       "   'properties': {'text': {'title': 'Text', 'type': 'string'},\n",
       "    'generation_info': {'title': 'Generation Info', 'type': 'object'},\n",
       "    'type': {'title': 'Type',\n",
       "     'default': 'Generation',\n",
       "     'enum': ['Generation'],\n",
       "     'type': 'string'}},\n",
       "   'required': ['text']},\n",
       "  'RunInfo': {'title': 'RunInfo',\n",
       "   'description': 'Class that contains metadata for a single execution of a Chain or model.',\n",
       "   'type': 'object',\n",
       "   'properties': {'run_id': {'title': 'Run Id',\n",
       "     'type': 'string',\n",
       "     'format': 'uuid'}},\n",
       "   'required': ['run_id']}}}"
      ]
     },
     "execution_count": 33,
     "metadata": {},
     "output_type": "execute_result"
    }
   ],
   "source": [
    "result.schema()"
   ]
  },
  {
   "cell_type": "code",
   "execution_count": 35,
   "id": "b6abfe99-4d2a-4019-8fcb-02e3a8dada16",
   "metadata": {
    "tags": []
   },
   "outputs": [
    {
     "data": {
      "text/plain": [
       "{'token_usage': {'completion_tokens': 184,\n",
       "  'total_tokens': 198,\n",
       "  'prompt_tokens': 14},\n",
       " 'model_name': 'gpt-3.5-turbo-instruct'}"
      ]
     },
     "execution_count": 35,
     "metadata": {},
     "output_type": "execute_result"
    }
   ],
   "source": [
    "result.llm_output"
   ]
  },
  {
   "cell_type": "code",
   "execution_count": 37,
   "id": "0304d6d4-9cc6-4e17-b821-85a65b616c0b",
   "metadata": {
    "tags": []
   },
   "outputs": [
    {
     "data": {
      "text/plain": [
       "[[Generation(text='\\n\\nPluto was discovered in 1930 by American astronomer Clyde Tombaugh and was initially classified as the ninth planet in our solar system. However, in 2006, it was reclassified as a \"dwarf planet\" due to its small size and orbit.', generation_info={'finish_reason': 'stop', 'logprobs': None})],\n",
       " [Generation(text=' Mars is the fourth planet from the Sun and is often referred to as the \"Red Planet\" because of its reddish appearance. It is the second smallest planet in the Solar System, with a diameter of only 6,779 km. Mars has two small moons, Phobos and Deimos, which are thought to be captured asteroids. It is also home to the largest volcano in the Solar System, Olympus Mons, and the longest canyon, Valles Marineris. NASA\\'s Curiosity rover has been exploring Mars since 2012, providing valuable information about the planet\\'s geology and potential for past or present life. ', generation_info={'finish_reason': 'stop', 'logprobs': None})]]"
      ]
     },
     "execution_count": 37,
     "metadata": {},
     "output_type": "execute_result"
    }
   ],
   "source": [
    "result.generations"
   ]
  },
  {
   "cell_type": "code",
   "execution_count": 41,
   "id": "2fcfa6f3-9c69-4f44-83fb-89d55e25297e",
   "metadata": {
    "tags": []
   },
   "outputs": [
    {
     "name": "stdout",
     "output_type": "stream",
     "text": [
      " Mars is the fourth planet from the Sun and is often referred to as the \"Red Planet\" because of its reddish appearance. It is the second smallest planet in the Solar System, with a diameter of only 6,779 km. Mars has two small moons, Phobos and Deimos, which are thought to be captured asteroids. It is also home to the largest volcano in the Solar System, Olympus Mons, and the longest canyon, Valles Marineris. NASA's Curiosity rover has been exploring Mars since 2012, providing valuable information about the planet's geology and potential for past or present life. \n"
     ]
    }
   ],
   "source": [
    "print(result.generations[1][0].text)"
   ]
  },
  {
   "cell_type": "code",
   "execution_count": null,
   "id": "3a28141e-5ead-44e4-8874-04ad7d672462",
   "metadata": {},
   "outputs": [],
   "source": []
  }
 ],
 "metadata": {
  "kernelspec": {
   "display_name": "Python 3 (ipykernel)",
   "language": "python",
   "name": "python3"
  },
  "language_info": {
   "codemirror_mode": {
    "name": "ipython",
    "version": 3
   },
   "file_extension": ".py",
   "mimetype": "text/x-python",
   "name": "python",
   "nbconvert_exporter": "python",
   "pygments_lexer": "ipython3",
   "version": "3.11.5"
  }
 },
 "nbformat": 4,
 "nbformat_minor": 5
}
