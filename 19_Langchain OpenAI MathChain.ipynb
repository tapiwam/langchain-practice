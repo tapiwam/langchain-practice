{
 "cells": [
  {
   "cell_type": "code",
   "execution_count": 10,
   "id": "05542288-6f64-473b-91e6-821ec715d002",
   "metadata": {
    "tags": []
   },
   "outputs": [],
   "source": [
    "from langchain_openai import ChatOpenAI\n",
    "from langchain.prompts.chat import ChatPromptTemplate, HumanMessagePromptTemplate\n",
    "from langchain.schema import HumanMessage"
   ]
  },
  {
   "cell_type": "code",
   "execution_count": 5,
   "id": "b11276b5-f858-4f60-b2bd-9f352c9d423a",
   "metadata": {
    "tags": []
   },
   "outputs": [],
   "source": [
    "import os\n",
    "\n",
    "api_key = open('./openai_key.txt').read()\n",
    "os.environ['OPENAI_API_KEY'] = api_key"
   ]
  },
  {
   "cell_type": "code",
   "execution_count": 8,
   "id": "745f2717-d68d-438c-b6e7-27b2e240da23",
   "metadata": {
    "tags": []
   },
   "outputs": [],
   "source": [
    "chat = ChatOpenAI()"
   ]
  },
  {
   "cell_type": "code",
   "execution_count": 14,
   "id": "1708a574-805d-4c37-a954-4f0d8a2762b7",
   "metadata": {
    "tags": []
   },
   "outputs": [],
   "source": [
    "result = chat([HumanMessage(content='What is 2 + 2')])"
   ]
  },
  {
   "cell_type": "code",
   "execution_count": 15,
   "id": "828f03d9-abfb-4a05-b30a-994ab4cd6988",
   "metadata": {
    "tags": []
   },
   "outputs": [
    {
     "data": {
      "text/plain": [
       "AIMessage(content='2 + 2 equals 4.')"
      ]
     },
     "execution_count": 15,
     "metadata": {},
     "output_type": "execute_result"
    }
   ],
   "source": [
    "result # correct"
   ]
  },
  {
   "cell_type": "code",
   "execution_count": 22,
   "id": "2dc90995-dbda-4c1e-96ba-fa8bfc7315cd",
   "metadata": {
    "tags": []
   },
   "outputs": [
    {
     "data": {
      "text/plain": [
       "34271896307633"
      ]
     },
     "execution_count": 22,
     "metadata": {},
     "output_type": "execute_result"
    }
   ],
   "source": [
    "17**11"
   ]
  },
  {
   "cell_type": "code",
   "execution_count": 18,
   "id": "b0fd0e23-4f7f-4ad1-8862-6669c342b6c6",
   "metadata": {
    "tags": []
   },
   "outputs": [],
   "source": [
    "result2 = chat([HumanMessage(content='What is 17 raised to the power of 11')])"
   ]
  },
  {
   "cell_type": "code",
   "execution_count": 20,
   "id": "3e68b007-be1a-446b-b017-0841a1a8ebc7",
   "metadata": {
    "tags": []
   },
   "outputs": [
    {
     "data": {
      "text/plain": [
       "AIMessage(content='17 raised to the power of 11 = 1048576')"
      ]
     },
     "execution_count": 20,
     "metadata": {},
     "output_type": "execute_result"
    }
   ],
   "source": [
    "result2 # Wrong"
   ]
  },
  {
   "cell_type": "markdown",
   "id": "1fb7df30-4133-4532-b0ae-02ea0655a38b",
   "metadata": {
    "tags": []
   },
   "source": [
    "# Solution\n",
    "\n",
    "For math cahin the model will convert string to formated string -> Then eval() can consume"
   ]
  },
  {
   "cell_type": "code",
   "execution_count": 26,
   "id": "03e92c28-80c0-4d03-be0f-8fec21079b67",
   "metadata": {
    "tags": []
   },
   "outputs": [],
   "source": [
    "from langchain import LLMMathChain"
   ]
  },
  {
   "cell_type": "code",
   "execution_count": 30,
   "id": "28e2a823-bcb1-4b90-91d0-eb462e0513b3",
   "metadata": {
    "tags": []
   },
   "outputs": [],
   "source": [
    "llm_math_model = LLMMathChain.from_llm(chat)"
   ]
  },
  {
   "cell_type": "code",
   "execution_count": 33,
   "id": "dc70f4c8-14bc-4cd4-a173-90935dc853f2",
   "metadata": {
    "tags": []
   },
   "outputs": [
    {
     "data": {
      "text/plain": [
       "{'question': 'What is 17 raised to the power of 11',\n",
       " 'answer': 'Answer: 34271896307633'}"
      ]
     },
     "execution_count": 33,
     "metadata": {},
     "output_type": "execute_result"
    }
   ],
   "source": [
    "llm_math_model('What is 17 raised to the power of 11') # Correct"
   ]
  },
  {
   "cell_type": "code",
   "execution_count": null,
   "id": "05cd73eb-c1da-4ce0-b6c9-c2b5426f767e",
   "metadata": {},
   "outputs": [],
   "source": []
  }
 ],
 "metadata": {
  "kernelspec": {
   "display_name": "Python 3 (ipykernel)",
   "language": "python",
   "name": "python3"
  },
  "language_info": {
   "codemirror_mode": {
    "name": "ipython",
    "version": 3
   },
   "file_extension": ".py",
   "mimetype": "text/x-python",
   "name": "python",
   "nbconvert_exporter": "python",
   "pygments_lexer": "ipython3",
   "version": "3.11.5"
  }
 },
 "nbformat": 4,
 "nbformat_minor": 5
}
