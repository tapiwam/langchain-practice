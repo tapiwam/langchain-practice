{
 "cells": [
  {
   "cell_type": "markdown",
   "id": "64959efd",
   "metadata": {},
   "source": [
    "# Lanchain OpenAI Setup"
   ]
  },
  {
   "cell_type": "code",
   "execution_count": 4,
   "id": "938556af-541a-4286-bf98-ef139125a078",
   "metadata": {
    "tags": []
   },
   "outputs": [],
   "source": [
    "import os\n",
    "import langchain\n",
    "from langchain_openai import OpenAI\n",
    "from langchain_openai import ChatOpenAI\n",
    "from langchain.schema import AIMessage, HumanMessage, SystemMessage\n",
    "\n",
    "# Import chat templates\n",
    "from langchain.prompts import (\n",
    "    ChatPromptTemplate,\n",
    "    PromptTemplate,\n",
    "    SystemMessagePromptTemplate,\n",
    "    AIMessagePromptTemplate,\n",
    "    HumanMessagePromptTemplate,\n",
    ")\n",
    "\n",
    "# Caching\n",
    "from langchain.cache import InMemoryCache\n",
    "from langchain.cache import SQLiteCache\n",
    "from langchain.globals import set_llm_cache"
   ]
  },
  {
   "cell_type": "code",
   "execution_count": 5,
   "id": "9faf781b-16dd-4f62-9922-82ee6940461f",
   "metadata": {},
   "outputs": [],
   "source": [
    "cacheType = 'in_memory'\n",
    "\n",
    "if cacheType == 'in_memory':\n",
    "    set_llm_cache(InMemoryCache())\n",
    "elif cacheType == 'sqlite':\n",
    "    set_llm_cache(SQLiteCache(database_path=\".langchain.db\"))\n",
    "\n",
    "# Set OpenAI API key and create LLM and Chat LLM. Note that key can be stored in a separate file or as an environment variable. Refer to docs.\n",
    "api_key = open('./openai_key.txt').read()\n",
    "os.environ['OPENAI_API_KEY'] = api_key\n",
    "llm = OpenAI(openai_api_key=api_key)\n",
    "chat = ChatOpenAI(openai_api_key=api_key)"
   ]
  },
  {
   "cell_type": "code",
   "execution_count": 6,
   "id": "41982e27",
   "metadata": {},
   "outputs": [],
   "source": [
    "import chromadb"
   ]
  },
  {
   "cell_type": "code",
   "execution_count": 7,
   "id": "eab49119-15b2-47bb-910a-6f99ef888de4",
   "metadata": {
    "tags": []
   },
   "outputs": [],
   "source": [
    "from langchain.embeddings import OpenAIEmbeddings"
   ]
  },
  {
   "cell_type": "code",
   "execution_count": 9,
   "id": "3a28141e-5ead-44e4-8874-04ad7d672462",
   "metadata": {},
   "outputs": [],
   "source": [
    "from langchain.text_splitter import CharacterTextSplitter"
   ]
  },
  {
   "cell_type": "code",
   "execution_count": 10,
   "id": "40589fed-a68a-413d-b8c9-109b0f2861f5",
   "metadata": {
    "tags": []
   },
   "outputs": [],
   "source": [
    "from langchain.vectorstores import Chroma"
   ]
  },
  {
   "cell_type": "code",
   "execution_count": 11,
   "id": "4efab96b-9b21-4f32-829e-670af1017bc8",
   "metadata": {
    "tags": []
   },
   "outputs": [],
   "source": [
    "from langchain.document_loaders import TextLoader"
   ]
  },
  {
   "cell_type": "code",
   "execution_count": 18,
   "id": "42f71914-ce03-4005-ba84-3a9bae044591",
   "metadata": {
    "tags": []
   },
   "outputs": [],
   "source": [
    "# LOAD Document --> Split into chunks\n",
    "\n",
    "# Embedding -> Embed chunks -> vectors\n",
    "\n",
    "# vector chunks -> save chroma db\n",
    "\n",
    "#Query -> similarity search"
   ]
  },
  {
   "cell_type": "code",
   "execution_count": 20,
   "id": "78f3919e-d114-4d2d-9450-4d2a778c49f6",
   "metadata": {
    "tags": []
   },
   "outputs": [],
   "source": [
    "loader = TextLoader('extras/01-Data-Connections/some_data/FDR_State_of_Union_1944.txt')\n",
    "documents = loader.load()\n",
    "\n",
    "text_splitter = CharacterTextSplitter.from_tiktoken_encoder(chunk_size=500)\n",
    "docs = text_splitter.split_documents(documents)"
   ]
  },
  {
   "cell_type": "code",
   "execution_count": 22,
   "id": "ef6ac537-613b-44a8-8dac-1f1d67433956",
   "metadata": {
    "tags": []
   },
   "outputs": [],
   "source": [
    "# docs"
   ]
  },
  {
   "cell_type": "code",
   "execution_count": 24,
   "id": "489d8748-848c-402e-8a2e-e0cfb2fcd5a1",
   "metadata": {
    "tags": []
   },
   "outputs": [
    {
     "name": "stderr",
     "output_type": "stream",
     "text": [
      "C:\\ProgramData\\anaconda3\\Lib\\site-packages\\langchain_core\\_api\\deprecation.py:117: LangChainDeprecationWarning: The class `langchain_community.embeddings.openai.OpenAIEmbeddings` was deprecated in langchain-community 0.1.0 and will be removed in 0.2.0. An updated version of the class exists in the langchain-openai package and should be used instead. To use it run `pip install -U langchain-openai` and import as `from langchain_openai import OpenAIEmbeddings`.\n",
      "  warn_deprecated(\n"
     ]
    }
   ],
   "source": [
    "embedding_function = OpenAIEmbeddings()"
   ]
  },
  {
   "cell_type": "code",
   "execution_count": 38,
   "id": "b41cbb52-eb0f-4642-94be-d5421edf03ed",
   "metadata": {
    "tags": []
   },
   "outputs": [],
   "source": [
    "db = Chroma.from_documents(docs, embedding_function, persist_directory='./speech_new_db')"
   ]
  },
  {
   "cell_type": "code",
   "execution_count": 40,
   "id": "1551c530-cc98-4863-8c1d-07552deff0f5",
   "metadata": {
    "tags": []
   },
   "outputs": [],
   "source": [
    "# save to disk\n",
    "db.persist()"
   ]
  },
  {
   "cell_type": "code",
   "execution_count": 26,
   "id": "30069339-fb20-456f-b12c-ca13a9f1fbd1",
   "metadata": {
    "tags": []
   },
   "outputs": [],
   "source": [
    "db_new = Chroma(persist_directory='./speech_new_db', embedding_function=embedding_function)"
   ]
  },
  {
   "cell_type": "code",
   "execution_count": 28,
   "id": "b5572cb0-0ff6-4a97-9beb-ccb8e5624b44",
   "metadata": {
    "tags": []
   },
   "outputs": [],
   "source": [
    "new_doc = \"What did FDR say about the cost of food law?\""
   ]
  },
  {
   "cell_type": "code",
   "execution_count": 30,
   "id": "f36575b6-06a4-48ff-b80d-4a1469ff48c1",
   "metadata": {
    "tags": []
   },
   "outputs": [],
   "source": [
    "similar_docs = db_new.similarity_search(new_doc)"
   ]
  },
  {
   "cell_type": "code",
   "execution_count": 36,
   "id": "9721f3b9-56fa-49eb-8dad-20e6f4d415e1",
   "metadata": {
    "tags": []
   },
   "outputs": [
    {
     "name": "stdout",
     "output_type": "stream",
     "text": [
      "(2) A continuation of the law for the renegotiation of war contractsâ€”which will prevent exorbitant profits and assure fair prices to the Government. For two long years I have pleaded with the Congress to take undue profits out of war.\n",
      "\n",
      "(3) A cost of food lawâ€”which will enable the Government (a) to place a reasonable floor under the prices the farmer may expect for his production; and (b) to place a ceiling on the prices a consumer will have to pay for the food he buys. This should apply to necessities only; and will require public funds to carry out. It will cost in appropriations about one percent of the present annual cost of the war.\n",
      "\n",
      "(4) Early reenactment of. the stabilization statute of October, 1942. This expires June 30, 1944, and if it is not extended well in advance, the country might just as well expect price chaos by summer.\n",
      "\n",
      "(5) A national service law- which, for the duration of the war, will prevent strikes, and, with certain appropriate exceptions, will make available for war production or for any other essential services every able-bodied adult in this Nation.\n",
      "\n",
      "These five measures together form a just and equitable whole. I would not recommend a national service law unless the other laws were passed to keep down the cost of living, to share equitably the burdens of taxation, to hold the stabilization line, and to prevent undue profits.\n",
      "\n",
      "The Federal Government already has the basic power to draft capital and property of all kinds for war purposes on a basis of just compensation.\n",
      "\n",
      "As you know, I have for three years hesitated to recommend a national service act. Today, however, I am convinced of its necessity. Although I believe that we and our allies can win the war without such a measure, I am certain that nothing less than total mobilization of all our resources of manpower and capital will guarantee an earlier victory, and reduce the toll of suffering and sorrow and blood.\n",
      "\n",
      "I have received a joint recommendation for this law from the heads of the War Department, the Navy Department, and the Maritime Commission. These are the men who bear responsibility for the procurement of the necessary arms and equipment, and for the successful prosecution of the war in the field. They say:\n"
     ]
    }
   ],
   "source": [
    "print(similar_docs[0].page_content)"
   ]
  },
  {
   "cell_type": "code",
   "execution_count": null,
   "id": "79696b39-0c34-4ddf-b3c7-69ae7bbfef84",
   "metadata": {},
   "outputs": [],
   "source": []
  }
 ],
 "metadata": {
  "kernelspec": {
   "display_name": "Python 3 (ipykernel)",
   "language": "python",
   "name": "python3"
  },
  "language_info": {
   "codemirror_mode": {
    "name": "ipython",
    "version": 3
   },
   "file_extension": ".py",
   "mimetype": "text/x-python",
   "name": "python",
   "nbconvert_exporter": "python",
   "pygments_lexer": "ipython3",
   "version": "3.11.5"
  }
 },
 "nbformat": 4,
 "nbformat_minor": 5
}
