{
 "cells": [
  {
   "cell_type": "code",
   "execution_count": 13,
   "id": "9bb975c6-ea6c-4886-bce4-4d970e7ea6ca",
   "metadata": {
    "tags": []
   },
   "outputs": [],
   "source": [
    "from langchain_openai import ChatOpenAI\n",
    "from langchain.prompts.chat import ChatPromptTemplate, HumanMessagePromptTemplate\n",
    "from langchain.chains import LLMChain, SimpleSequentialChain\n"
   ]
  },
  {
   "cell_type": "code",
   "execution_count": 6,
   "id": "f81691e5-ae25-4a5f-9d1e-1e460045a8b1",
   "metadata": {
    "tags": []
   },
   "outputs": [],
   "source": [
    "import os\n",
    "\n",
    "api_key = open('./openai_key.txt').read()\n",
    "os.environ['OPENAI_API_KEY'] = api_key"
   ]
  },
  {
   "cell_type": "code",
   "execution_count": 9,
   "id": "31dae069-7ea9-4800-ac2e-b456ef5931b7",
   "metadata": {
    "tags": []
   },
   "outputs": [],
   "source": [
    "chat = ChatOpenAI()"
   ]
  },
  {
   "cell_type": "markdown",
   "id": "03888930-7fec-4439-82f9-96f14f9ad5c2",
   "metadata": {},
   "source": [
    "# Chain Setup\n",
    "\n",
    "- 1 - Topic for a blog post\n",
    "- 2 - Create an outline\n",
    "- 3 - Create blog post from outline -> Blog post text"
   ]
  },
  {
   "cell_type": "code",
   "execution_count": 15,
   "id": "346dfdce-cea6-4688-876a-0d97f4da5af9",
   "metadata": {
    "tags": []
   },
   "outputs": [],
   "source": [
    "template1 = 'Give me a simple bullet point outline for a blog post on:\\n {topic}'\n",
    "first_prompt = ChatPromptTemplate.from_template(template1)\n",
    "chain_one = LLMChain(llm=chat, prompt=first_prompt)"
   ]
  },
  {
   "cell_type": "code",
   "execution_count": 32,
   "id": "86507b1a-7951-4fbb-83d7-a040caaf2371",
   "metadata": {
    "tags": []
   },
   "outputs": [],
   "source": [
    "template2 = 'Write a blog post from this outline \\n{input}'\n",
    "second_prompt = ChatPromptTemplate.from_template(template2)\n",
    "chain_two = LLMChain(llm=chat, prompt=second_prompt)"
   ]
  },
  {
   "cell_type": "markdown",
   "id": "71857cf0-45d8-4765-9b76-26a3b289efe7",
   "metadata": {},
   "source": [
    "# Build out full chain"
   ]
  },
  {
   "cell_type": "code",
   "execution_count": 35,
   "id": "51a273f3-060e-426c-be8f-f655fc064e7a",
   "metadata": {
    "tags": []
   },
   "outputs": [],
   "source": [
    "full_chain = SimpleSequentialChain(chains=[chain_one, chain_two], verbose = True)"
   ]
  },
  {
   "cell_type": "code",
   "execution_count": 43,
   "id": "e1fd1191-0144-4fd6-8fc5-3e2ceb830cca",
   "metadata": {
    "tags": []
   },
   "outputs": [
    {
     "name": "stdout",
     "output_type": "stream",
     "text": [
      "\n",
      "\n",
      "\u001b[1m> Entering new SimpleSequentialChain chain...\u001b[0m\n",
      "\u001b[36;1m\u001b[1;3mI. Introduction\n",
      "   A. Importance of websites in the digital age\n",
      "   B. Benefits of having a website\n",
      "\n",
      "II. Key components of a website\n",
      "   A. Domain name and hosting\n",
      "   B. Design and layout\n",
      "   C. Content creation and organization\n",
      "   D. Navigation and user experience\n",
      "\n",
      "III. Different types of websites\n",
      "   A. Personal websites\n",
      "   B. Business websites\n",
      "   C. E-commerce websites\n",
      "   D. Blogging websites\n",
      "\n",
      "IV. Steps to create a website\n",
      "   A. Research and planning\n",
      "   B. Choosing a website builder or CMS\n",
      "   C. Selecting a template or theme\n",
      "   D. Customizing the website's design and branding\n",
      "   E. Adding and organizing content\n",
      "   F. Optimizing for search engines (SEO)\n",
      "   G. Testing and launching the website\n",
      "\n",
      "V. Essential features and elements\n",
      "   A. Responsive design for mobile devices\n",
      "   B. Clear and concise navigation menu\n",
      "   C. Contact information and forms\n",
      "   D. Social media integration\n",
      "   E. Call-to-action buttons or forms\n",
      "   F. Content management system (CMS)\n",
      "\n",
      "VI. Importance of website maintenance and updates\n",
      "   A. Regular backups and security measures\n",
      "   B. Monitoring website performance and analytics\n",
      "   C. Updating content and adding fresh information\n",
      "   D. Keeping up with technology trends and updates\n",
      "\n",
      "VII. Conclusion\n",
      "   A. Recap of the importance of websites\n",
      "   B. Encouragement to create or improve a website\u001b[0m\n",
      "\u001b[33;1m\u001b[1;3mTitle: The Complete Guide to Websites: Why You Need One and How to Create It\n",
      "\n",
      "Introduction:\n",
      "In today's digital age, having a website is crucial for individuals and businesses alike. It not only establishes an online presence but also offers a range of benefits. In this blog post, we will explore the key components of a website, different types of websites, steps to create one, essential features, and the importance of maintenance and updates.\n",
      "\n",
      "Key components of a website:\n",
      "A website comprises several key components, including a domain name and hosting, design and layout, content creation and organization, and navigation and user experience. Each of these elements plays a vital role in creating an impactful and user-friendly website.\n",
      "\n",
      "Different types of websites:\n",
      "Websites come in various forms, each serving a unique purpose. Personal websites allow individuals to showcase their portfolios or share their interests, while business websites serve as virtual storefronts. E-commerce websites enable online shopping, and blogging websites provide a platform for sharing thoughts and ideas.\n",
      "\n",
      "Steps to create a website:\n",
      "Creating a website involves several steps, starting with research and planning. Next, you need to choose a website builder or content management system (CMS) that suits your needs. Selecting a template or theme and customizing the design and branding are essential for creating a visually appealing website. Adding and organizing content, optimizing for search engines (SEO), and thoroughly testing before launching are also crucial steps in the process.\n",
      "\n",
      "Essential features and elements:\n",
      "To make your website effective, it should possess certain essential features. Responsive design ensures it looks great on all devices, while a clear and concise navigation menu enhances user experience. Including contact information and forms helps visitors connect with you, and social media integration allows for wider reach. Call-to-action buttons or forms encourage user engagement, and a content management system (CMS) simplifies content updates.\n",
      "\n",
      "Importance of website maintenance and updates:\n",
      "Creating a website is not a one-time task. Regular maintenance and updates are essential for its success. This includes backing up data, implementing security measures, monitoring website performance and analytics, updating content, and keeping up with technology trends and updates. These actions ensure your website remains secure, optimized, and up-to-date.\n",
      "\n",
      "Conclusion:\n",
      "Websites are indispensable in today's digital world. They offer numerous benefits, ranging from establishing credibility to expanding reach and generating leads. By following the steps outlined in this blog post, you can create or improve your website. Remember to prioritize maintenance and updates to keep it secure, optimized, and relevant. So, don't wait any longer – it's time to create an impactful online presence!\u001b[0m\n",
      "\n",
      "\u001b[1m> Finished chain.\u001b[0m\n"
     ]
    }
   ],
   "source": [
    "result = full_chain.run(input={'topic':'Websites'})"
   ]
  },
  {
   "cell_type": "code",
   "execution_count": 47,
   "id": "8e737dc2-4f5b-45de-9ce6-87f2cdbd365f",
   "metadata": {
    "tags": []
   },
   "outputs": [
    {
     "name": "stdout",
     "output_type": "stream",
     "text": [
      "Title: The Complete Guide to Websites: Why You Need One and How to Create It\n",
      "\n",
      "Introduction:\n",
      "In today's digital age, having a website is crucial for individuals and businesses alike. It not only establishes an online presence but also offers a range of benefits. In this blog post, we will explore the key components of a website, different types of websites, steps to create one, essential features, and the importance of maintenance and updates.\n",
      "\n",
      "Key components of a website:\n",
      "A website comprises several key components, including a domain name and hosting, design and layout, content creation and organization, and navigation and user experience. Each of these elements plays a vital role in creating an impactful and user-friendly website.\n",
      "\n",
      "Different types of websites:\n",
      "Websites come in various forms, each serving a unique purpose. Personal websites allow individuals to showcase their portfolios or share their interests, while business websites serve as virtual storefronts. E-commerce websites enable online shopping, and blogging websites provide a platform for sharing thoughts and ideas.\n",
      "\n",
      "Steps to create a website:\n",
      "Creating a website involves several steps, starting with research and planning. Next, you need to choose a website builder or content management system (CMS) that suits your needs. Selecting a template or theme and customizing the design and branding are essential for creating a visually appealing website. Adding and organizing content, optimizing for search engines (SEO), and thoroughly testing before launching are also crucial steps in the process.\n",
      "\n",
      "Essential features and elements:\n",
      "To make your website effective, it should possess certain essential features. Responsive design ensures it looks great on all devices, while a clear and concise navigation menu enhances user experience. Including contact information and forms helps visitors connect with you, and social media integration allows for wider reach. Call-to-action buttons or forms encourage user engagement, and a content management system (CMS) simplifies content updates.\n",
      "\n",
      "Importance of website maintenance and updates:\n",
      "Creating a website is not a one-time task. Regular maintenance and updates are essential for its success. This includes backing up data, implementing security measures, monitoring website performance and analytics, updating content, and keeping up with technology trends and updates. These actions ensure your website remains secure, optimized, and up-to-date.\n",
      "\n",
      "Conclusion:\n",
      "Websites are indispensable in today's digital world. They offer numerous benefits, ranging from establishing credibility to expanding reach and generating leads. By following the steps outlined in this blog post, you can create or improve your website. Remember to prioritize maintenance and updates to keep it secure, optimized, and relevant. So, don't wait any longer – it's time to create an impactful online presence!\n"
     ]
    }
   ],
   "source": [
    "print(result)"
   ]
  },
  {
   "cell_type": "code",
   "execution_count": null,
   "id": "b4ad4a86-528a-441c-a727-204bdca389f9",
   "metadata": {},
   "outputs": [],
   "source": []
  }
 ],
 "metadata": {
  "kernelspec": {
   "display_name": "Python 3 (ipykernel)",
   "language": "python",
   "name": "python3"
  },
  "language_info": {
   "codemirror_mode": {
    "name": "ipython",
    "version": 3
   },
   "file_extension": ".py",
   "mimetype": "text/x-python",
   "name": "python",
   "nbconvert_exporter": "python",
   "pygments_lexer": "ipython3",
   "version": "3.11.5"
  }
 },
 "nbformat": 4,
 "nbformat_minor": 5
}
