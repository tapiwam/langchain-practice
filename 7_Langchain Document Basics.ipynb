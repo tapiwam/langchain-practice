{
 "cells": [
  {
   "cell_type": "markdown",
   "id": "a4996224-c452-47ff-836f-a1d743248a9d",
   "metadata": {},
   "source": [
    "# Loading CSV Data"
   ]
  },
  {
   "cell_type": "code",
   "execution_count": 2,
   "id": "8bc39af9-b5e6-43c7-975d-28b963be5462",
   "metadata": {
    "tags": []
   },
   "outputs": [],
   "source": [
    "from langchain.document_loaders import CSVLoader"
   ]
  },
  {
   "cell_type": "code",
   "execution_count": 3,
   "id": "f179e0f2-5d82-491b-97fc-923fc61b105c",
   "metadata": {
    "tags": []
   },
   "outputs": [],
   "source": [
    "loader = CSVLoader(\"extras/01-Data-Connections/some_data/penguins.csv\")"
   ]
  },
  {
   "cell_type": "code",
   "execution_count": 4,
   "id": "b3392be0-d6d8-489d-b197-3e9b0ce93c41",
   "metadata": {
    "tags": []
   },
   "outputs": [],
   "source": [
    "data = loader.load()"
   ]
  },
  {
   "cell_type": "code",
   "execution_count": 5,
   "id": "a8c1f235-82aa-449b-aefa-018ff77a2e0a",
   "metadata": {
    "tags": []
   },
   "outputs": [
    {
     "data": {
      "text/plain": [
       "list"
      ]
     },
     "execution_count": 5,
     "metadata": {},
     "output_type": "execute_result"
    }
   ],
   "source": [
    "type(data)"
   ]
  },
  {
   "cell_type": "code",
   "execution_count": 6,
   "id": "c782ac5b-0be1-482a-8523-53cbb44c8cce",
   "metadata": {
    "tags": []
   },
   "outputs": [
    {
     "data": {
      "text/plain": [
       "langchain_core.documents.base.Document"
      ]
     },
     "execution_count": 6,
     "metadata": {},
     "output_type": "execute_result"
    }
   ],
   "source": [
    "type(data[0])"
   ]
  },
  {
   "cell_type": "code",
   "execution_count": 7,
   "id": "a3ab8f0d-23c8-4eb4-bd3b-9caef6608a4b",
   "metadata": {
    "tags": []
   },
   "outputs": [
    {
     "data": {
      "text/plain": [
       "Document(page_content='species: Adelie\\nisland: Torgersen\\nbill_length_mm: 39.1\\nbill_depth_mm: 18.7\\nflipper_length_mm: 181\\nbody_mass_g: 3750\\nsex: MALE', metadata={'source': 'extras/01-Data-Connections/some_data/penguins.csv', 'row': 0})"
      ]
     },
     "execution_count": 7,
     "metadata": {},
     "output_type": "execute_result"
    }
   ],
   "source": [
    "data[0]"
   ]
  },
  {
   "cell_type": "code",
   "execution_count": 8,
   "id": "1648eb5c-5fc8-4972-bb39-a9928608d2d1",
   "metadata": {
    "tags": []
   },
   "outputs": [
    {
     "name": "stdout",
     "output_type": "stream",
     "text": [
      "species: Adelie\n",
      "island: Torgersen\n",
      "bill_length_mm: 39.1\n",
      "bill_depth_mm: 18.7\n",
      "flipper_length_mm: 181\n",
      "body_mass_g: 3750\n",
      "sex: MALE\n"
     ]
    }
   ],
   "source": [
    "print(data[0].page_content)"
   ]
  },
  {
   "cell_type": "code",
   "execution_count": 9,
   "id": "b1b1514b-e1a7-43fa-b043-f31efef42f8a",
   "metadata": {
    "tags": []
   },
   "outputs": [
    {
     "name": "stdout",
     "output_type": "stream",
     "text": [
      "{'source': 'extras/01-Data-Connections/some_data/penguins.csv', 'row': 1}\n"
     ]
    }
   ],
   "source": [
    "print(data[1].metadata)"
   ]
  },
  {
   "cell_type": "markdown",
   "id": "54c24b1b-e505-4168-992c-6b10f289b040",
   "metadata": {},
   "source": [
    "# Loading HTML Pages"
   ]
  },
  {
   "cell_type": "code",
   "execution_count": 11,
   "id": "01ef56ba-f430-46bf-be0a-a45def00f8d3",
   "metadata": {
    "tags": []
   },
   "outputs": [],
   "source": [
    "from langchain.document_loaders import BSHTMLLoader"
   ]
  },
  {
   "cell_type": "code",
   "execution_count": 12,
   "id": "4c60e06c-199c-43d4-bd2d-36886d0821e6",
   "metadata": {
    "tags": []
   },
   "outputs": [],
   "source": [
    "loader1 = BSHTMLLoader(\"extras/01-Data-Connections/some_data/some_website.html\")"
   ]
  },
  {
   "cell_type": "code",
   "execution_count": 13,
   "id": "9e3a635f-d4f2-4953-ae73-8996a759a096",
   "metadata": {
    "tags": []
   },
   "outputs": [],
   "source": [
    "data1 = loader1.load()"
   ]
  },
  {
   "cell_type": "code",
   "execution_count": 14,
   "id": "28ad7c6d-0efd-439f-9a3b-55aea5c20a56",
   "metadata": {
    "tags": []
   },
   "outputs": [
    {
     "data": {
      "text/plain": [
       "[Document(page_content='Heading 1', metadata={'source': 'extras/01-Data-Connections/some_data/some_website.html', 'title': ''})]"
      ]
     },
     "execution_count": 14,
     "metadata": {},
     "output_type": "execute_result"
    }
   ],
   "source": [
    "data1"
   ]
  },
  {
   "cell_type": "markdown",
   "id": "3d24e89c-2dcd-4ab9-809d-dac352bc6aed",
   "metadata": {},
   "source": [
    "# Load Python"
   ]
  },
  {
   "cell_type": "code",
   "execution_count": 16,
   "id": "44393433-8fff-4af8-a2d6-df3e63beda6a",
   "metadata": {
    "tags": []
   },
   "outputs": [],
   "source": [
    "from langchain.document_loaders import PyPDFLoader"
   ]
  },
  {
   "cell_type": "code",
   "execution_count": 17,
   "id": "9965245b-c374-4641-acec-2eb367ad1792",
   "metadata": {
    "tags": []
   },
   "outputs": [],
   "source": [
    "loader2 = PyPDFLoader(\"extras/01-Data-Connections/some_data/SomeReport.pdf\")"
   ]
  },
  {
   "cell_type": "code",
   "execution_count": 18,
   "id": "c9e79e22-dc70-4960-80e8-60ee087f9431",
   "metadata": {
    "tags": []
   },
   "outputs": [],
   "source": [
    "data2 = loader2.load()"
   ]
  },
  {
   "cell_type": "code",
   "execution_count": 35,
   "id": "500be3b9-de52-4198-98fb-91ef31bda101",
   "metadata": {
    "tags": []
   },
   "outputs": [
    {
     "data": {
      "text/plain": [
       "[Document(page_content='This\\nis\\nthe\\nfirst\\nline\\nPDF.\\nThis\\nis\\nthe\\nsecond\\nline\\nin\\nthe\\nPDF.\\nThis\\nis\\nthe\\nthird\\nline\\nin\\nthe\\nPDF.', metadata={'source': 'extras/01-Data-Connections/some_data/SomeReport.pdf', 'page': 0})]"
      ]
     },
     "execution_count": 35,
     "metadata": {},
     "output_type": "execute_result"
    }
   ],
   "source": [
    "data2"
   ]
  },
  {
   "cell_type": "code",
   "execution_count": 45,
   "id": "6dd823e0-7eb3-450e-a8b0-6c213e97842c",
   "metadata": {
    "tags": []
   },
   "outputs": [
    {
     "name": "stdout",
     "output_type": "stream",
     "text": [
      "This is the first line PDF. This is the second line in the PDF. This is the third line in the PDF.\n"
     ]
    }
   ],
   "source": [
    "print(data2[0].page_content.replace('\\n', ' '))"
   ]
  },
  {
   "cell_type": "markdown",
   "id": "a51f2b39-9835-4b77-9102-d93d973f3645",
   "metadata": {},
   "source": [
    "# External Integration"
   ]
  },
  {
   "cell_type": "code",
   "execution_count": 48,
   "id": "b6fa8cda-3148-4d87-98fb-d2f17f5127e5",
   "metadata": {
    "tags": []
   },
   "outputs": [],
   "source": [
    "from langchain.document_loaders import HNLoader"
   ]
  },
  {
   "cell_type": "code",
   "execution_count": 61,
   "id": "79b5ced8-aa1b-48f0-aab6-ab3f2167f2eb",
   "metadata": {
    "tags": []
   },
   "outputs": [],
   "source": [
    "loader3 = HNLoader(\"https://news.ycombinator.com/item?id=39217149\")"
   ]
  },
  {
   "cell_type": "code",
   "execution_count": 63,
   "id": "d63e3e37-886e-4b1b-b045-4bd06457f4fb",
   "metadata": {
    "tags": []
   },
   "outputs": [],
   "source": [
    "data3 = loader3.load()"
   ]
  },
  {
   "cell_type": "code",
   "execution_count": 69,
   "id": "dbe3763f-9403-4626-9f86-8495c4f14e89",
   "metadata": {
    "tags": []
   },
   "outputs": [
    {
     "name": "stdout",
     "output_type": "stream",
     "text": [
      "schacon 7 hours ago  \n",
      "             | next [–] \n",
      "\n",
      "For better or worse, my experience as a GitHub cofounder and author of several Git books (Pro Git, etc) is that the Git commit message is a unique vector for code documentation that is highly sub-optimal.The main issue is that most of the tooling (in Git or GitHub or whatever) generally only shows the first line. So in the case of this commit example would be the very simple message of a generic \"US-ASCII error\" problem. Everything they talk about in this article is what is great about the _rest_ of the commit message, which, given modern tools, is _almost never_ seen by anyone.The main problem is that Git was built so that the commit message is the _email body_, meant to be read by everyone in the project. But for better or worse, that is not generally the role of this text today. Almost nobody ever sees it. Unless it's discussed in a bunch of patch series over a mailing list, nobody reads anything other than the first 50 chars of the headline. It's actively difficult to do, by nearly every tool built around the Git ecosystem.Even if you're _very good_ at Git, finding the correct invocation of \"git blame\" (is it \"-w -C -C -C\"? Or just _two_ dash C's?) to even find the right messages that are relevant to the code blocks you care about is not widely known and even if you find them, still only show the first line. Then you need to \"git show\" the identified commit SHA to get this long form message. There is just no good way to find this information, even if it's well written.This is one of my biggest complaints with Git (or, indeed, any VCS before it), and I think why people just don't care much about good commit messages. It's just not easy to get this data back once it's written.If you want an example of this, search through the Git project's history. Run a blame on any file. It's _so hard_ to figure out a story of any function implementation in any file, but the commit messages are _pristine_. Paragraphs and paragraphs of high quality explanation for almost every single commit. Look at any single commit that Jeff King has done for the last decade. Hundreds of hours of amazing documentation from a true genius that almost nobody will ever appreciate. It's horrifying.I don't know exactly what the answer is, but the sad truth of Git is that writing amazing documentation via commit message, for most communities, is almost entirely a waste of time. It's just too difficult to find them.\n",
      " \n",
      "reply\n"
     ]
    }
   ],
   "source": [
    "print(data3[0].page_content)"
   ]
  },
  {
   "cell_type": "code",
   "execution_count": 71,
   "id": "bcb69e58-3e10-49e4-b9c5-25a19debdd42",
   "metadata": {
    "tags": []
   },
   "outputs": [
    {
     "name": "stdout",
     "output_type": "stream",
     "text": [
      "{'source': 'https://news.ycombinator.com/item?id=39217149', 'title': 'My favourite Git commit (2019)'}\n"
     ]
    }
   ],
   "source": [
    "print(data3[0].metadata)"
   ]
  },
  {
   "cell_type": "code",
   "execution_count": 75,
   "id": "74e1f0c1-d405-4505-91e1-486278b15582",
   "metadata": {
    "tags": []
   },
   "outputs": [],
   "source": [
    "from langchain.prompts import ChatPromptTemplate, HumanMessagePromptTemplate\n",
    "from langchain_openai import OpenAI\n",
    "from langchain_openai import ChatOpenAI\n",
    "from langchain.schema import AIMessage, HumanMessage, SystemMessage\n",
    "\n",
    "# Set OpenAI API key and create LLM and Chat LLM. Note that key can be stored in a separate file or as an environment variable. Refer to docs.\n",
    "api_key = open('./openai_key.txt').read()\n",
    "llm = OpenAI(openai_api_key=api_key)\n",
    "chat = ChatOpenAI(openai_api_key=api_key)"
   ]
  },
  {
   "cell_type": "code",
   "execution_count": 77,
   "id": "0c45b9c2-e007-4d5f-abef-8e0fdcb6bfbd",
   "metadata": {
    "tags": []
   },
   "outputs": [],
   "source": [
    "template = 'Please give a short summary of the following hacker new \\n{comment}'\n",
    "human_prompt = HumanMessagePromptTemplate.from_template(template)"
   ]
  },
  {
   "cell_type": "code",
   "execution_count": 79,
   "id": "e8513870-1ae7-4973-92fb-1b1f7e8880b7",
   "metadata": {
    "tags": []
   },
   "outputs": [],
   "source": [
    "chat_prompt = ChatPromptTemplate.from_messages([human_prompt])"
   ]
  },
  {
   "cell_type": "code",
   "execution_count": 81,
   "id": "7804f579-2fae-4136-b270-c601ddf71784",
   "metadata": {
    "tags": []
   },
   "outputs": [
    {
     "name": "stderr",
     "output_type": "stream",
     "text": [
      "C:\\ProgramData\\anaconda3\\Lib\\site-packages\\langchain_core\\_api\\deprecation.py:117: LangChainDeprecationWarning: The function `__call__` was deprecated in LangChain 0.1.7 and will be removed in 0.2.0. Use invoke instead.\n",
      "  warn_deprecated(\n"
     ]
    }
   ],
   "source": [
    "resp = chat(chat_prompt.format_prompt(comment=data3[0].page_content).to_messages())"
   ]
  },
  {
   "cell_type": "code",
   "execution_count": 85,
   "id": "3d8a6c78-79c8-4d5b-9e87-ffdea544e265",
   "metadata": {
    "tags": []
   },
   "outputs": [
    {
     "name": "stdout",
     "output_type": "stream",
     "text": [
      "The author, who is a GitHub co-founder and author of Git books, argues that Git commit messages are not an effective form of code documentation. The main issue is that most tooling only displays the first line of the message, while the rest of the message, which contains valuable information, is rarely seen. The author believes that Git was designed for the commit message to be read by everyone in the project, but in practice, very few people actually read it. The author also highlights the difficulty of finding and accessing the full commit message, even for experienced Git users. They express frustration with this limitation and suggest that writing detailed commit messages is often a waste of time.\n"
     ]
    }
   ],
   "source": [
    "print(resp.content)"
   ]
  },
  {
   "cell_type": "code",
   "execution_count": null,
   "id": "c8025302-0386-40e4-8de9-641ac5efc0ee",
   "metadata": {},
   "outputs": [],
   "source": []
  }
 ],
 "metadata": {
  "kernelspec": {
   "display_name": "Python 3 (ipykernel)",
   "language": "python",
   "name": "python3"
  },
  "language_info": {
   "codemirror_mode": {
    "name": "ipython",
    "version": 3
   },
   "file_extension": ".py",
   "mimetype": "text/x-python",
   "name": "python",
   "nbconvert_exporter": "python",
   "pygments_lexer": "ipython3",
   "version": "3.11.5"
  }
 },
 "nbformat": 4,
 "nbformat_minor": 5
}
