{
 "cells": [
  {
   "cell_type": "markdown",
   "id": "ede50d4d-6b9b-46b4-946c-edc6bde899c7",
   "metadata": {},
   "source": [
    "<a href = \"https://www.pieriantraining.com\"><img src=\"../PT Centered Purple.png\"> </a>\n",
    "\n",
    "<em style=\"text-align:center\">Copyrighted by Pierian Training</em>"
   ]
  },
  {
   "cell_type": "markdown",
   "id": "6c706772-7bbb-41a9-ab96-6480bc3ef2a3",
   "metadata": {
    "tags": []
   },
   "source": [
    "# Prompts and Models Exercise\n",
    "\n",
    "### NOTE: FEEL FREE TO JUST TREAT THIS AS A CODE ALONG EXAMPLE IF YOU DONT WANT AN EXERCISE BUT RATHER WATCH AN EXAMPLE.\n",
    "\n",
    "**TASK: Create a Python function that uses Prompts and Chat internally to give travel ideas related to two variables:**\n",
    "\n",
    "    * An Interest or Hobby\n",
    "    * A Budget\n",
    "    \n",
    "Remember that you should also decide on a system prompt. The end function will just be a nice wrapper on top of all the previous LangChain components we've discussed earlier."
   ]
  },
  {
   "cell_type": "code",
   "execution_count": 1,
   "id": "c41ce116",
   "metadata": {},
   "outputs": [],
   "source": [
    "import langchain\n",
    "\n",
    "from langchain_openai import OpenAI\n",
    "from langchain_openai import ChatOpenAI\n",
    "\n",
    "from langchain.prompts import ChatPromptTemplate, AIMessagePromptTemplate, HumanMessagePromptTemplate, SystemMessagePromptTemplate\n",
    "from langchain.schema import HumanMessage, SystemMessage, AIMessage"
   ]
  },
  {
   "cell_type": "code",
   "execution_count": 2,
   "id": "6f6ae5b7",
   "metadata": {},
   "outputs": [],
   "source": [
    "f = open('./openai_key.txt')\n",
    "api_key = f.read()\n",
    "llm = OpenAI(openai_api_key=api_key)\n",
    "chat = ChatOpenAI(openai_api_key=api_key)"
   ]
  },
  {
   "cell_type": "code",
   "execution_count": 3,
   "id": "1b57f041",
   "metadata": {},
   "outputs": [
    {
     "data": {
      "text/plain": [
       "['budget', 'interest']"
      ]
     },
     "execution_count": 3,
     "metadata": {},
     "output_type": "execute_result"
    }
   ],
   "source": [
    "system_template = 'You are an AI assistant that helps people with their travel needs.'\n",
    "human_template = 'Provide a travel idea for {budget} with {interest}'\n",
    "\n",
    "system_message_prompt = SystemMessagePromptTemplate.from_template(system_template)\n",
    "human_message_prompt = HumanMessagePromptTemplate.from_template(human_template)\n",
    "chat_prompt = ChatPromptTemplate.from_messages([system_message_prompt, human_message_prompt])\n",
    "\n",
    "chat_prompt.input_variables"
   ]
  },
  {
   "cell_type": "code",
   "execution_count": 4,
   "id": "b4e6adae-ddfa-403f-afbc-eac1ff964c54",
   "metadata": {},
   "outputs": [],
   "source": [
    "def travel_idea(interest,budget):\n",
    "    '''\n",
    "    INPUTS:\n",
    "        interest: A str interest or hobby (e.g. fishing)\n",
    "        budget: A str budget (e.g. $10,000)\n",
    "    '''\n",
    "\n",
    "    travel_resp = chat(chat_prompt.format_prompt(budget=budget,interest=interest).to_messages())\n",
    "    return travel_resp.content"
   ]
  },
  {
   "cell_type": "code",
   "execution_count": 6,
   "id": "d25ec33f",
   "metadata": {},
   "outputs": [],
   "source": [
    "travel_resp = travel_idea(budget='$1000', interest='theme parks')"
   ]
  },
  {
   "cell_type": "code",
   "execution_count": 8,
   "id": "2953bbe1",
   "metadata": {},
   "outputs": [
    {
     "name": "stdout",
     "output_type": "stream",
     "text": [
      "How about a trip to Orlando, Florida, known as the \"Theme Park Capital of the World\"? With a budget of $1000, you can enjoy a thrilling vacation filled with visits to various theme parks. Here's an itinerary for a 4-day trip:\n",
      "\n",
      "Day 1: Arrive in Orlando and settle into your accommodation. Spend the day exploring Universal Orlando Resort. With a single-park ticket, you can experience the Wizarding World of Harry Potter, ride thrilling attractions like The Incredible Hulk Coaster and Transformers: The Ride-3D, and enjoy live entertainment.\n",
      "\n",
      "Day 2: Head to Walt Disney World Resort, starting with Magic Kingdom Park. Explore classic attractions like Space Mountain, Pirates of the Caribbean, and It's a Small World. Be sure to catch the enchanting fireworks show, Happily Ever After, in the evening.\n",
      "\n",
      "Day 3: Spend the day at Disney's Animal Kingdom, where you can experience the immersive world of Pandora – The World of Avatar, go on a safari at Kilimanjaro Safaris, and enjoy shows like Festival of the Lion King. In the evening, visit Disney Springs, a lively entertainment district filled with shops, restaurants, and live performances.\n",
      "\n",
      "Day 4: Visit SeaWorld Orlando, where you can get up close with marine animals, enjoy thrilling rides like Mako and Manta, and watch incredible shows featuring dolphins and orcas. End your trip with a visit to ICON Park, a complex that offers attractions like the Orlando Eye, Madame Tussauds, and SEA LIFE Orlando Aquarium.\n",
      "\n",
      "Tips:\n",
      "- Look for discounted tickets online or consider purchasing multi-day passes to save money.\n",
      "- Pack sunscreen, comfortable shoes, and refillable water bottles to stay hydrated.\n",
      "- Consider staying in a hotel with complimentary shuttle services to the theme parks to save on transportation costs.\n",
      "\n",
      "Remember to check the operating hours and any COVID-19 guidelines or restrictions in place before your trip. Have a fantastic time exploring the exciting world of Orlando's theme parks!\n"
     ]
    }
   ],
   "source": [
    "print(travel_resp)"
   ]
  },
  {
   "cell_type": "markdown",
   "id": "34d0ecc5-a526-4a9b-933f-e7785f9401df",
   "metadata": {},
   "source": [
    "**Example Solution**\n",
    "\n",
    "Keep in mind your solution may differ slightly, but as long as it works, that's ok!"
   ]
  },
  {
   "cell_type": "code",
   "execution_count": null,
   "id": "474a9fe5",
   "metadata": {},
   "outputs": [],
   "source": []
  },
  {
   "cell_type": "code",
   "execution_count": 2,
   "id": "320be1cb-a639-460d-8472-fb6def536b19",
   "metadata": {},
   "outputs": [],
   "source": [
    "# DONT FORGET TO SETUP YOUR API KEY!"
   ]
  },
  {
   "cell_type": "code",
   "execution_count": 7,
   "id": "df2fd2ad-66f9-4462-9436-5cc5e7ea2d7f",
   "metadata": {},
   "outputs": [],
   "source": [
    "# DON\"T FORGET YOUR IMPORTS!\n",
    "\n",
    "def travel_idea(interest,budget):\n",
    "    '''\n",
    "    INPUTS:\n",
    "        interest: A str interest or hobby (e.g. fishing)\n",
    "        budget: A str budget (e.g. $10,000)\n",
    "    '''\n",
    "    pass"
   ]
  },
  {
   "cell_type": "code",
   "execution_count": 8,
   "id": "f7e240b6-96cf-4163-ad19-90a44cf7ef24",
   "metadata": {},
   "outputs": [
    {
     "name": "stdout",
     "output_type": "stream",
     "text": [
      "Certainly! Here's an example travel itinerary for a fishing trip on a budget of $10,000:\n",
      "\n",
      "Day 1: Arrival in Anchorage, Alaska\n",
      "- Fly into Anchorage and check into a budget-friendly hotel.\n",
      "- Spend the day exploring the city and enjoying local attractions.\n",
      "\n",
      "Day 2-3: Fishing in Kenai Peninsula\n",
      "- Rent a car and drive to the beautiful Kenai Peninsula.\n",
      "- Book a guided fishing trip on the Kenai River, known for its salmon and trout species.\n",
      "- Stay at a budget-friendly cabin or campground in the area.\n",
      "\n",
      "Day 4-6: Fishing in Yellowstone National Park, Wyoming\n",
      "- Fly from Anchorage to Jackson Hole, Wyoming.\n",
      "- Rent a car and drive to Yellowstone National Park.\n",
      "- Purchase a fishing permit and spend a few days fishing in the park's pristine rivers and lakes.\n",
      "- Stay at a budget-friendly lodge or campground within or near the park.\n",
      "\n",
      "Day 7-9: Fishing in Gunnison, Colorado\n",
      "- Fly from Jackson Hole to Gunnison, Colorado.\n",
      "- Rent a car and drive to Gunnison, known for its excellent trout fishing.\n",
      "- Hire a local guide and spend a few days fishing in the Gunnison River or nearby Blue Mesa Reservoir.\n",
      "- Stay at a budget-friendly hotel or campground in the area.\n",
      "\n",
      "Day 10-12: Fishing in Baja California, Mexico\n",
      "- Fly from Gunnison to Cabo San Lucas, Mexico.\n",
      "- Book a fishing charter and enjoy deep-sea fishing in the waters off the coast of Baja California.\n",
      "- Spend a couple of days exploring the vibrant local culture and relaxing on the beautiful beaches.\n",
      "- Stay at a budget-friendly hotel or hostel in Cabo San Lucas.\n",
      "\n",
      "Day 13: Return to Anchorage\n",
      "- Fly back to Anchorage from Cabo San Lucas.\n",
      "- Enjoy a final evening in the city, trying out local seafood and reflecting on your fishing adventures.\n",
      "\n",
      "Day 14: Departure\n",
      "- Check out of your hotel and fly back home, carrying wonderful memories of your fishing trip.\n",
      "\n",
      "Please note that the prices for flights, accommodations, and fishing charters may vary depending on the time of year and availability. It's always recommended to do thorough research and compare prices to stay within your budget.\n"
     ]
    }
   ],
   "source": [
    "print(travel_idea('fishing','$10,000'))"
   ]
  }
 ],
 "metadata": {
  "kernelspec": {
   "display_name": "Python 3 (ipykernel)",
   "language": "python",
   "name": "python3"
  },
  "language_info": {
   "codemirror_mode": {
    "name": "ipython",
    "version": 3
   },
   "file_extension": ".py",
   "mimetype": "text/x-python",
   "name": "python",
   "nbconvert_exporter": "python",
   "pygments_lexer": "ipython3",
   "version": "3.11.5"
  }
 },
 "nbformat": 4,
 "nbformat_minor": 5
}
