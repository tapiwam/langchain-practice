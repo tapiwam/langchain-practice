{
 "cells": [
  {
   "cell_type": "markdown",
   "id": "64959efd",
   "metadata": {},
   "source": [
    "# Lanchain OpenAI Setup"
   ]
  },
  {
   "cell_type": "code",
   "execution_count": 1,
   "id": "938556af-541a-4286-bf98-ef139125a078",
   "metadata": {
    "tags": []
   },
   "outputs": [],
   "source": [
    "import langchain\n",
    "from langchain_openai import OpenAI\n",
    "from langchain_openai import ChatOpenAI\n",
    "from langchain.schema import AIMessage, HumanMessage, SystemMessage\n",
    "\n",
    "# Import chat templates\n",
    "from langchain.prompts import (\n",
    "    ChatPromptTemplate,\n",
    "    PromptTemplate,\n",
    "    SystemMessagePromptTemplate,\n",
    "    AIMessagePromptTemplate,\n",
    "    HumanMessagePromptTemplate,\n",
    ")\n",
    "\n",
    "# Caching\n",
    "from langchain.cache import InMemoryCache\n",
    "from langchain.cache import SQLiteCache\n",
    "from langchain.globals import set_llm_cache"
   ]
  },
  {
   "cell_type": "code",
   "execution_count": 2,
   "id": "9faf781b-16dd-4f62-9922-82ee6940461f",
   "metadata": {},
   "outputs": [],
   "source": [
    "cacheType = 'in_memory'\n",
    "\n",
    "if cacheType == 'in_memory':\n",
    "    set_llm_cache(InMemoryCache())\n",
    "elif cacheType == 'sqlite':\n",
    "    set_llm_cache(SQLiteCache(database_path=\".langchain.db\"))\n",
    "\n",
    "# Set OpenAI API key and create LLM and Chat LLM. Note that key can be stored in a separate file or as an environment variable. Refer to docs.\n",
    "api_key = open('./openai_key.txt').read()\n",
    "llm = OpenAI(openai_api_key=api_key)\n",
    "chat = ChatOpenAI(openai_api_key=api_key)"
   ]
  },
  {
   "cell_type": "code",
   "execution_count": 20,
   "id": "41982e27",
   "metadata": {},
   "outputs": [],
   "source": [
    "# Step 1 - Import parser\n",
    "\n",
    "# Import comma separated list parser from langchain\n",
    "from langchain.output_parsers import (\n",
    "    CommaSeparatedListOutputParser,\n",
    "    DatetimeOutputParser\n",
    ")"
   ]
  },
  {
   "cell_type": "code",
   "execution_count": 4,
   "id": "eab49119-15b2-47bb-910a-6f99ef888de4",
   "metadata": {
    "tags": []
   },
   "outputs": [
    {
     "data": {
      "text/plain": [
       "'Your response should be a list of comma separated values, eg: `foo, bar, baz`'"
      ]
     },
     "execution_count": 4,
     "metadata": {},
     "output_type": "execute_result"
    }
   ],
   "source": [
    "# Step 2 - format instructions\n",
    "output_parser = CommaSeparatedListOutputParser()\n",
    "output_parser.get_format_instructions()"
   ]
  },
  {
   "cell_type": "code",
   "execution_count": 5,
   "id": "3a28141e-5ead-44e4-8874-04ad7d672462",
   "metadata": {},
   "outputs": [
    {
     "data": {
      "text/plain": [
       "['foo', 'bar', 'baz']"
      ]
     },
     "execution_count": 5,
     "metadata": {},
     "output_type": "execute_result"
    }
   ],
   "source": [
    "sample_response = \"foo, bar, baz\"\n",
    "output_parser.parse(sample_response)"
   ]
  },
  {
   "cell_type": "code",
   "execution_count": 6,
   "id": "f266586b",
   "metadata": {},
   "outputs": [],
   "source": [
    "human_template = \"{request}\\n{format_instructions}\"\n",
    "human_prompt = HumanMessagePromptTemplate.from_template(human_template)\n",
    "\n",
    "chat_prompt = ChatPromptTemplate.from_messages([human_prompt])"
   ]
  },
  {
   "cell_type": "code",
   "execution_count": 13,
   "id": "ada99bd4",
   "metadata": {},
   "outputs": [],
   "source": [
    "request = \"give me 5 characteristics of dogs\"\n",
    "model_request = chat_prompt.format_prompt(request=request, format_instructions=output_parser.get_format_instructions()).to_messages()"
   ]
  },
  {
   "cell_type": "code",
   "execution_count": 16,
   "id": "d06ff5db",
   "metadata": {},
   "outputs": [
    {
     "name": "stdout",
     "output_type": "stream",
     "text": [
      "Original output: loyal, friendly, playful, protective, trainable\n",
      "Parsed output: ['loyal', 'friendly', 'playful', 'protective', 'trainable']\n"
     ]
    }
   ],
   "source": [
    "result = chat(model_request)\n",
    "print(f'Original output: {result.content}') # result.content\n",
    "print(f'Parsed output: {output_parser.parse(result.content)}')"
   ]
  },
  {
   "cell_type": "markdown",
   "id": "1d5a91d2",
   "metadata": {},
   "source": [
    "### Handling incorrect parse responses\n",
    "\n",
    "There are two main ways to solve this problem:\n",
    "- System prompt - Have a strong system prompt to combine with your format instructions.\n",
    "- OutputFixingParser - Using a chain, send your original reply to an LLM to try to fix it"
   ]
  },
  {
   "cell_type": "code",
   "execution_count": 21,
   "id": "dca5912a",
   "metadata": {},
   "outputs": [
    {
     "data": {
      "text/plain": [
       "\"Write a datetime string that matches the following pattern: '%Y-%m-%dT%H:%M:%S.%fZ'.\\n\\nExamples: 0111-02-24T13:48:28.608735Z, 1824-09-06T13:25:32.595436Z, 2008-02-23T15:18:39.431396Z\\n\\nReturn ONLY this string, no other words!\""
      ]
     },
     "execution_count": 21,
     "metadata": {},
     "output_type": "execute_result"
    }
   ],
   "source": [
    "datetime_parser = DatetimeOutputParser()\n",
    "datetime_parser.get_format_instructions()"
   ]
  },
  {
   "cell_type": "code",
   "execution_count": 28,
   "id": "ab4b8669",
   "metadata": {},
   "outputs": [],
   "source": [
    "dt_template = \"{request}\\n{format_instructions}\"\n",
    "dt_prompt = HumanMessagePromptTemplate.from_template(dt_template)\n",
    "\n",
    "# Using system prompt to guide the model\n",
    "dt_system_template = \"You only respond with a datetime string.\"\n",
    "dt_system_prompt = SystemMessagePromptTemplate.from_template(dt_system_template)\n",
    "\n",
    "dt_chat_prompt = ChatPromptTemplate.from_messages([dt_prompt, dt_system_prompt])"
   ]
  },
  {
   "cell_type": "code",
   "execution_count": 29,
   "id": "eef14ac8",
   "metadata": {},
   "outputs": [],
   "source": [
    "dt_request = \"What data was the 13th Amendment oratified in the US?\"\n",
    "dt_model_request = dt_chat_prompt.format_prompt(request=dt_request, format_instructions=datetime_parser.get_format_instructions()).to_messages()"
   ]
  },
  {
   "cell_type": "code",
   "execution_count": 30,
   "id": "f716f918",
   "metadata": {},
   "outputs": [
    {
     "name": "stdout",
     "output_type": "stream",
     "text": [
      "Original output: 1865-12-06T00:00:00.000000Z\n",
      "Parsed output: 1865-12-06 00:00:00\n"
     ]
    }
   ],
   "source": [
    "dt_result = chat(dt_model_request, temperature=0.0)\n",
    "print(f'Original output: {dt_result.content}') # result.content\n",
    "print(f'Parsed output: {datetime_parser.parse(dt_result.content)}')"
   ]
  },
  {
   "cell_type": "code",
   "execution_count": 32,
   "id": "73482956",
   "metadata": {},
   "outputs": [
    {
     "name": "stdout",
     "output_type": "stream",
     "text": [
      "1865-12-06 00:00:00\n"
     ]
    }
   ],
   "source": [
    "# Fix misformatted output using OutputFixingParser. This will reprompt the model to try and get it to fix the output.\n",
    "\n",
    "from langchain.output_parsers import OutputFixingParser\n",
    "misformatted = dt_result.content\n",
    "\n",
    "new_parser = OutputFixingParser.from_llm(parser=datetime_parser, llm=chat)\n",
    "fixed = new_parser.parse(misformatted)\n",
    "\n",
    "print(fixed)"
   ]
  },
  {
   "cell_type": "code",
   "execution_count": null,
   "id": "b0600789",
   "metadata": {},
   "outputs": [],
   "source": []
  }
 ],
 "metadata": {
  "kernelspec": {
   "display_name": "Python 3 (ipykernel)",
   "language": "python",
   "name": "python3"
  },
  "language_info": {
   "codemirror_mode": {
    "name": "ipython",
    "version": 3
   },
   "file_extension": ".py",
   "mimetype": "text/x-python",
   "name": "python",
   "nbconvert_exporter": "python",
   "pygments_lexer": "ipython3",
   "version": "3.11.5"
  }
 },
 "nbformat": 4,
 "nbformat_minor": 5
}
