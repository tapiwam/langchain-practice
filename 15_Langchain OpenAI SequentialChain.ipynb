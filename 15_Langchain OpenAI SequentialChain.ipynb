{
 "cells": [
  {
   "cell_type": "code",
   "execution_count": 5,
   "id": "9bb975c6-ea6c-4886-bce4-4d970e7ea6ca",
   "metadata": {
    "tags": []
   },
   "outputs": [],
   "source": [
    "from langchain_openai import ChatOpenAI\n",
    "from langchain.prompts.chat import ChatPromptTemplate, HumanMessagePromptTemplate\n",
    "from langchain.chains import LLMChain, SimpleSequentialChain, SequentialChain\n"
   ]
  },
  {
   "cell_type": "code",
   "execution_count": 7,
   "id": "f81691e5-ae25-4a5f-9d1e-1e460045a8b1",
   "metadata": {
    "tags": []
   },
   "outputs": [],
   "source": [
    "import os\n",
    "\n",
    "api_key = open('./openai_key.txt').read()\n",
    "os.environ['OPENAI_API_KEY'] = api_key"
   ]
  },
  {
   "cell_type": "code",
   "execution_count": 9,
   "id": "31dae069-7ea9-4800-ac2e-b456ef5931b7",
   "metadata": {
    "tags": []
   },
   "outputs": [],
   "source": [
    "chat = ChatOpenAI()"
   ]
  },
  {
   "cell_type": "markdown",
   "id": "03888930-7fec-4439-82f9-96f14f9ad5c2",
   "metadata": {},
   "source": [
    "# Chain Setup\n",
    "\n",
    "- 1 - Emplyee Perormance review \n",
    "- 2 - Output a summary from the initial review\n",
    "- 3 - Take the summary and output a list of weaknesses\n",
    "- 4 - Come up with Improement plan given weaknesses"
   ]
  },
  {
   "cell_type": "code",
   "execution_count": 13,
   "id": "346dfdce-cea6-4688-876a-0d97f4da5af9",
   "metadata": {
    "tags": []
   },
   "outputs": [],
   "source": [
    "template1 = \"Give me a a summary of the employee's perfomance review:\\n {review}\"\n",
    "first_prompt = ChatPromptTemplate.from_template(template1)\n",
    "chain_one = LLMChain(llm=chat, prompt=first_prompt, output_key='review_summary')"
   ]
  },
  {
   "cell_type": "code",
   "execution_count": 17,
   "id": "86507b1a-7951-4fbb-83d7-a040caaf2371",
   "metadata": {
    "tags": []
   },
   "outputs": [],
   "source": [
    "template2 = 'Identify key employee weaknesses in this review summary:\\n{review_summary}'\n",
    "second_prompt = ChatPromptTemplate.from_template(template2)\n",
    "chain_two = LLMChain(llm=chat, prompt=second_prompt, output_key='weaknesses')"
   ]
  },
  {
   "cell_type": "code",
   "execution_count": 19,
   "id": "6b5ca2e4-e9d7-4755-9f72-6c2f920eff26",
   "metadata": {
    "tags": []
   },
   "outputs": [],
   "source": [
    "template3 = 'Create a personalized plan to help address and fix these weaknesses:\\n{weaknesses}'\n",
    "third_prompt = ChatPromptTemplate.from_template(template3)\n",
    "chain_three = LLMChain(llm=chat, prompt=third_prompt, output_key='final_plan')"
   ]
  },
  {
   "cell_type": "markdown",
   "id": "71857cf0-45d8-4765-9b76-26a3b289efe7",
   "metadata": {},
   "source": [
    "# Build out full chain"
   ]
  },
  {
   "cell_type": "code",
   "execution_count": 28,
   "id": "51a273f3-060e-426c-be8f-f655fc064e7a",
   "metadata": {
    "tags": []
   },
   "outputs": [],
   "source": [
    "full_chain = SequentialChain(chains=[chain_one, chain_two, chain_three], \n",
    "                             input_variables=['review'],\n",
    "                             output_variables=['review_summary', 'weaknesses', 'final_plan'],\n",
    "                             verbose = True)"
   ]
  },
  {
   "cell_type": "code",
   "execution_count": 30,
   "id": "35598cc1-7396-4eaf-93d3-8cee30a8110c",
   "metadata": {
    "tags": []
   },
   "outputs": [],
   "source": [
    "employee_review = '''\n",
    "Employee Information:\n",
    "Name: Joe Schmo\n",
    "Position: Software Engineer\n",
    "Date of Review: July 14, 2023\n",
    "\n",
    "Strengths:\n",
    "Joe is a highly skilled software engineer with a deep understanding of programming languages, algorithms, and software development best practices. His technical expertise shines through in his ability to efficiently solve complex problems and deliver high-quality code.\n",
    "\n",
    "One of Joe's greatest strengths is his collaborative nature. He actively engages with cross-functional teams, contributing valuable insights and seeking input from others. His open-mindedness and willingness to learn from colleagues make him a true team player.\n",
    "\n",
    "Joe consistently demonstrates initiative and self-motivation. He takes the lead in seeking out new projects and challenges, and his proactive attitude has led to significant improvements in existing processes and systems. His dedication to self-improvement and growth is commendable.\n",
    "\n",
    "Another notable strength is Joe's adaptability. He has shown great flexibility in handling changing project requirements and learning new technologies. This adaptability allows him to seamlessly transition between different projects and tasks, making him a valuable asset to the team.\n",
    "\n",
    "Joe's problem-solving skills are exceptional. He approaches issues with a logical mindset and consistently finds effective solutions, often thinking outside the box. His ability to break down complex problems into manageable parts is key to his success in resolving issues efficiently.\n",
    "\n",
    "Weaknesses:\n",
    "While Joe possesses numerous strengths, there are a few areas where he could benefit from improvement. One such area is time management. Occasionally, Joe struggles with effectively managing his time, resulting in missed deadlines or the need for additional support to complete tasks on time. Developing better prioritization and time management techniques would greatly enhance his efficiency.\n",
    "\n",
    "Another area for improvement is Joe's written communication skills. While he communicates well verbally, there have been instances where his written documentation lacked clarity, leading to confusion among team members. Focusing on enhancing his written communication abilities will help him effectively convey ideas and instructions.\n",
    "\n",
    "Additionally, Joe tends to take on too many responsibilities and hesitates to delegate tasks to others. This can result in an excessive workload and potential burnout. Encouraging him to delegate tasks appropriately will not only alleviate his own workload but also foster a more balanced and productive team environment.\n",
    "'''"
   ]
  },
  {
   "cell_type": "code",
   "execution_count": 36,
   "id": "e1fd1191-0144-4fd6-8fc5-3e2ceb830cca",
   "metadata": {
    "tags": []
   },
   "outputs": [
    {
     "name": "stdout",
     "output_type": "stream",
     "text": [
      "\n",
      "\n",
      "\u001b[1m> Entering new SequentialChain chain...\u001b[0m\n",
      "\n",
      "\u001b[1m> Finished chain.\u001b[0m\n"
     ]
    }
   ],
   "source": [
    "result = full_chain(employee_review)"
   ]
  },
  {
   "cell_type": "code",
   "execution_count": 42,
   "id": "8e737dc2-4f5b-45de-9ce6-87f2cdbd365f",
   "metadata": {
    "tags": []
   },
   "outputs": [
    {
     "data": {
      "text/plain": [
       "dict_keys(['review', 'review_summary', 'weaknesses', 'final_plan'])"
      ]
     },
     "execution_count": 42,
     "metadata": {},
     "output_type": "execute_result"
    }
   ],
   "source": [
    "result.keys()"
   ]
  },
  {
   "cell_type": "code",
   "execution_count": 52,
   "id": "b4ad4a86-528a-441c-a727-204bdca389f9",
   "metadata": {},
   "outputs": [
    {
     "name": "stdout",
     "output_type": "stream",
     "text": [
      "Personalized Plan to Address and Fix Weaknesses:\n",
      "\n",
      "1. Time Management:\n",
      "- Provide training or resources on time management techniques, such as prioritization, setting realistic deadlines, and creating a structured schedule.\n",
      "- Encourage the employee to utilize time management tools, such as calendars, to plan and track their tasks.\n",
      "- Set clear expectations regarding deadlines and regularly follow up to assess progress.\n",
      "- Offer support and guidance when necessary, ensuring the employee understands the importance of meeting deadlines and the consequences of missed deadlines.\n",
      "\n",
      "2. Written Communication Skills:\n",
      "- Offer writing workshops or training sessions to enhance the employee's written communication skills.\n",
      "- Provide examples of clear and concise documentation and explain the importance of effective written communication in the workplace.\n",
      "- Assign written tasks, such as drafting reports or emails, and provide constructive feedback to help the employee improve.\n",
      "- Encourage the use of proofreading tools or peer review to minimize errors and improve clarity.\n",
      "\n",
      "3. Delegation and Workload Management:\n",
      "- Conduct a workload assessment to identify tasks that can be delegated without compromising quality.\n",
      "- Clearly communicate the benefits of delegation, such as increased efficiency, skill development, and reduced burnout.\n",
      "- Provide training or resources on effective delegation techniques, including assigning tasks based on employee strengths and providing clear instructions.\n",
      "- Regularly check in with the employee to ensure they are comfortable with their workload and encourage open communication if adjustments are needed.\n",
      "- Recognize and reward the employee's efforts in delegating tasks and effectively managing their workload.\n",
      "\n",
      "Overall, it is important to provide ongoing support, guidance, and resources to help the employee address and improve their weaknesses. Regular feedback, coaching, and recognition for progress will also play a crucial role in their development.\n"
     ]
    }
   ],
   "source": [
    "print(result['final_plan'])"
   ]
  },
  {
   "cell_type": "code",
   "execution_count": null,
   "id": "080c2fe7-0b8c-458b-9b77-d3bc22581fae",
   "metadata": {},
   "outputs": [],
   "source": []
  }
 ],
 "metadata": {
  "kernelspec": {
   "display_name": "Python 3 (ipykernel)",
   "language": "python",
   "name": "python3"
  },
  "language_info": {
   "codemirror_mode": {
    "name": "ipython",
    "version": 3
   },
   "file_extension": ".py",
   "mimetype": "text/x-python",
   "name": "python",
   "nbconvert_exporter": "python",
   "pygments_lexer": "ipython3",
   "version": "3.11.5"
  }
 },
 "nbformat": 4,
 "nbformat_minor": 5
}
