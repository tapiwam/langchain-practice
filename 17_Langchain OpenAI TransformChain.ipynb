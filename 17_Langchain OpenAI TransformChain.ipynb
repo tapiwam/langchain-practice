{
 "cells": [
  {
   "cell_type": "code",
   "execution_count": null,
   "id": "92c10aa7-cce4-49eb-9b68-42f621166190",
   "metadata": {},
   "outputs": [],
   "source": [
    "# Transform Chain\n",
    "\n",
    "We will be intoducing out own"
   ]
  },
  {
   "cell_type": "code",
   "execution_count": 1,
   "id": "80b330bb-40a3-411b-a922-3bd6f6cc129b",
   "metadata": {
    "tags": []
   },
   "outputs": [],
   "source": [
    "yelp_review = open('extras/02-Chains/yelp_review.txt').read()"
   ]
  },
  {
   "cell_type": "code",
   "execution_count": 3,
   "id": "e1e35bb6-0133-40c2-8601-e6b564718437",
   "metadata": {
    "tags": []
   },
   "outputs": [
    {
     "data": {
      "text/plain": [
       "\"TITLE: AN ABSOLUTE DELIGHT! A CULINARY HAVEN!\\n\\nREVIEW:\\nOH MY GOODNESS, WHERE DO I BEGIN? THIS RESTAURANT IS ABSOLUTELY PHENOMENAL! I WENT THERE LAST NIGHT WITH MY FRIENDS, AND WE WERE BLOWN AWAY BY THE EXPERIENCE!\\n\\nFIRST OF ALL, THE AMBIANCE IS OUT OF THIS WORLD! THE MOMENT YOU STEP INSIDE, YOU'RE GREETED WITH A WARM AND INVITING ATMOSPHERE. THE DECOR IS STUNNING, AND IT IMMEDIATELY SETS THE TONE FOR AN UNFORGETTABLE DINING EXPERIENCE.\\n\\nNOW, LET'S TALK ABOUT THE FOOD! WOW, JUST WOW! THE MENU IS A PARADISE FOR FOOD LOVERS. EVERY DISH WE ORDERED WAS A MASTERPIECE. THE FLAVORS WERE BOLD, VIBRANT, AND EXPLODED IN OUR MOUTHS. FROM STARTERS TO DESSERTS, EVERY BITE WAS PURE BLISS!\\n\\nTHEIR SEAFOOD PLATTER IS A MUST-TRY! THE FRESHNESS OF THE SEAFOOD IS UNMATCHED, AND THE PRESENTATION IS SIMPLY STUNNING. I HAVE NEVER TASTED SUCH DELICIOUS AND PERFECTLY COOKED SEAFOOD IN MY LIFE. IT'S A SEAFOOD LOVER'S DREAM COME TRUE!\\n\\nTHE SERVICE WAS EXEMPLARY. THE STAFF WAS ATTENTIVE, FRIENDLY, AND EXTREMELY KNOWLEDGEABLE ABOUT THE MENU. THEY WENT ABOVE AND BEYOND TO ENSURE THAT WE HAD THE BEST DINING EXPERIENCE POSSIBLE.\\n\\nAND LET'S NOT FORGET ABOUT THE DESSERTS! OH MY, OH MY! I HAD THEIR SIGNATURE CHOCOLATE LAVA CAKE, AND IT WAS PURE HEAVEN. THE CAKE WAS MOIST, AND WHEN I CUT INTO IT, THE WARM CHOCOLATE OOOZED OUT, CREATING AN EXPLOSION OF FLAVOR IN MY MOUTH. IT WAS LIKE A SYMPHONY OF CHOCOLATEY GOODNESS!\\n\\nIN CONCLUSION, THIS RESTAURANT IS A HIDDEN GEM! IF YOU WANT TO INDULGE IN A MEMORABLE DINING EXPERIENCE, DO YOURSELF A FAVOR AND VISIT THIS PLACE. YOU WON'T REGRET IT! I CAN'T WAIT TO GO BACK AND TRY MORE OF THEIR DELECTABLE DISHES. KUDOS TO THE ENTIRE TEAM FOR CREATING SUCH A CULINARY HAVEN!\\n\\nALL I CAN SAY IS... WOOHOO!\""
      ]
     },
     "execution_count": 3,
     "metadata": {},
     "output_type": "execute_result"
    }
   ],
   "source": [
    "yelp_review"
   ]
  },
  {
   "cell_type": "code",
   "execution_count": 7,
   "id": "dabcbf4a-763e-4111-a659-b4b59d139d9d",
   "metadata": {
    "tags": []
   },
   "outputs": [],
   "source": [
    "# Lets suppose we want only the review in lowercase\n",
    "# print(yelp_review.split('REVIEW:')[-1].lower())"
   ]
  },
  {
   "cell_type": "markdown",
   "id": "dd1209fb-5dc2-4307-9fd4-1a549180655d",
   "metadata": {},
   "source": [
    "### Flow\n",
    "\n",
    "- INPUT -> CUSTOM PYTHON TRANSFORMATION --> LLMCHAIN"
   ]
  },
  {
   "cell_type": "code",
   "execution_count": 13,
   "id": "8c272929-bae3-408a-84bc-17d5a910be34",
   "metadata": {
    "tags": []
   },
   "outputs": [],
   "source": [
    "from langchain.chains import TransformChain, LLMChain, SimpleSequentialChain\n",
    "from langchain_openai import ChatOpenAI\n",
    "from langchain.prompts.chat import ChatPromptTemplate"
   ]
  },
  {
   "cell_type": "code",
   "execution_count": 16,
   "id": "ad9e76a0-37f5-45f0-88ab-162eaf8a42ec",
   "metadata": {
    "tags": []
   },
   "outputs": [],
   "source": [
    "import os\n",
    "\n",
    "api_key = open('./openai_key.txt').read()\n",
    "os.environ['OPENAI_API_KEY'] = api_key"
   ]
  },
  {
   "cell_type": "code",
   "execution_count": 19,
   "id": "1d86066c-bad8-4c32-992d-90037205acb9",
   "metadata": {
    "tags": []
   },
   "outputs": [],
   "source": [
    "chat = ChatOpenAI()"
   ]
  },
  {
   "cell_type": "code",
   "execution_count": 21,
   "id": "b2cd9bb6-92a3-4737-9806-cc52fa9a0c5c",
   "metadata": {
    "tags": []
   },
   "outputs": [],
   "source": [
    "# Function for our transformation\n",
    "def transformer_function(inputs: dict) -> dict:\n",
    "    text = inputs['text']\n",
    "    only_review_text = text.split('REVIEW:')[-1]\n",
    "    lower_case_text = only_review_text.lower()\n",
    "    return { 'output': lower_case_text }"
   ]
  },
  {
   "cell_type": "code",
   "execution_count": 23,
   "id": "6f71c8ee-0037-4953-a162-fcb3f7495190",
   "metadata": {
    "tags": []
   },
   "outputs": [],
   "source": [
    "transformer_chain = TransformChain(input_variables=['text'],\n",
    "                                   output_variables=['output'],\n",
    "                                   transform=transformer_function)"
   ]
  },
  {
   "cell_type": "code",
   "execution_count": 29,
   "id": "c6f06f88-5e29-4523-a2bb-a7c7dd81c5e5",
   "metadata": {
    "tags": []
   },
   "outputs": [],
   "source": [
    "template = 'Create a one sentence summary of this review:\\n{review}'\n",
    "chat_prompt = ChatPromptTemplate.from_template(template)\n",
    "summary_chain = LLMChain(llm=chat, prompt=chat_prompt, output_key='review_summary')"
   ]
  },
  {
   "cell_type": "code",
   "execution_count": 31,
   "id": "61ad3cb5-5f10-4581-a62a-19e7806dad74",
   "metadata": {
    "tags": []
   },
   "outputs": [],
   "source": [
    "sequential_chain = SimpleSequentialChain(chains=[transformer_chain, summary_chain],\n",
    "                                         verbose=True)"
   ]
  },
  {
   "cell_type": "code",
   "execution_count": 33,
   "id": "54d7f588-8e37-4329-a164-578786bff34d",
   "metadata": {
    "tags": []
   },
   "outputs": [
    {
     "name": "stdout",
     "output_type": "stream",
     "text": [
      "\n",
      "\n",
      "\u001b[1m> Entering new SimpleSequentialChain chain...\u001b[0m\n",
      "\u001b[36;1m\u001b[1;3m\n",
      "oh my goodness, where do i begin? this restaurant is absolutely phenomenal! i went there last night with my friends, and we were blown away by the experience!\n",
      "\n",
      "first of all, the ambiance is out of this world! the moment you step inside, you're greeted with a warm and inviting atmosphere. the decor is stunning, and it immediately sets the tone for an unforgettable dining experience.\n",
      "\n",
      "now, let's talk about the food! wow, just wow! the menu is a paradise for food lovers. every dish we ordered was a masterpiece. the flavors were bold, vibrant, and exploded in our mouths. from starters to desserts, every bite was pure bliss!\n",
      "\n",
      "their seafood platter is a must-try! the freshness of the seafood is unmatched, and the presentation is simply stunning. i have never tasted such delicious and perfectly cooked seafood in my life. it's a seafood lover's dream come true!\n",
      "\n",
      "the service was exemplary. the staff was attentive, friendly, and extremely knowledgeable about the menu. they went above and beyond to ensure that we had the best dining experience possible.\n",
      "\n",
      "and let's not forget about the desserts! oh my, oh my! i had their signature chocolate lava cake, and it was pure heaven. the cake was moist, and when i cut into it, the warm chocolate ooozed out, creating an explosion of flavor in my mouth. it was like a symphony of chocolatey goodness!\n",
      "\n",
      "in conclusion, this restaurant is a hidden gem! if you want to indulge in a memorable dining experience, do yourself a favor and visit this place. you won't regret it! i can't wait to go back and try more of their delectable dishes. kudos to the entire team for creating such a culinary haven!\n",
      "\n",
      "all i can say is... woohoo!\u001b[0m\n",
      "\u001b[33;1m\u001b[1;3mThis review gushes about the phenomenal experience at a restaurant with stunning ambiance, delicious food, exemplary service, and heavenly desserts, making it a hidden gem worth visiting.\u001b[0m\n",
      "\n",
      "\u001b[1m> Finished chain.\u001b[0m\n"
     ]
    }
   ],
   "source": [
    "result = sequential_chain(yelp_review)"
   ]
  },
  {
   "cell_type": "code",
   "execution_count": null,
   "id": "3f92e95e-9393-41d8-9489-19eb26062c6b",
   "metadata": {},
   "outputs": [],
   "source": []
  }
 ],
 "metadata": {
  "kernelspec": {
   "display_name": "Python 3 (ipykernel)",
   "language": "python",
   "name": "python3"
  },
  "language_info": {
   "codemirror_mode": {
    "name": "ipython",
    "version": 3
   },
   "file_extension": ".py",
   "mimetype": "text/x-python",
   "name": "python",
   "nbconvert_exporter": "python",
   "pygments_lexer": "ipython3",
   "version": "3.11.5"
  }
 },
 "nbformat": 4,
 "nbformat_minor": 5
}
