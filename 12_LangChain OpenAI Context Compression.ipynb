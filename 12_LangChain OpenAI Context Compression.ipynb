{
 "cells": [
  {
   "cell_type": "markdown",
   "id": "64959efd",
   "metadata": {},
   "source": [
    "# Lanchain OpenAI Setup"
   ]
  },
  {
   "cell_type": "code",
   "execution_count": 2,
   "id": "938556af-541a-4286-bf98-ef139125a078",
   "metadata": {
    "tags": []
   },
   "outputs": [],
   "source": [
    "# import langchain\n",
    "import os\n",
    "import logging\n",
    "from langchain_openai import OpenAI\n",
    "from langchain_openai import ChatOpenAI\n",
    "from langchain.schema import AIMessage, HumanMessage, SystemMessage\n",
    "\n",
    "# Import chat templates\n",
    "from langchain.prompts import (\n",
    "    ChatPromptTemplate,\n",
    "    PromptTemplate,\n",
    "    SystemMessagePromptTemplate,\n",
    "    AIMessagePromptTemplate,\n",
    "    HumanMessagePromptTemplate,\n",
    ")\n",
    "\n",
    "# Caching\n",
    "from langchain.cache import InMemoryCache\n",
    "from langchain.cache import SQLiteCache\n",
    "from langchain.globals import set_llm_cache\n",
    "\n",
    "# Embeddings and documents\n",
    "from langchain_openai import OpenAIEmbeddings\n",
    "from langchain.text_splitter import CharacterTextSplitter\n",
    "from langchain.document_loaders import TextLoader\n",
    "from langchain.vectorstores import Chroma\n",
    "\n",
    "# Context compression\n",
    "from langchain.retrievers import ContextualCompressionRetriever\n",
    "from langchain.retrievers.document_compressors import LLMChainExtractor"
   ]
  },
  {
   "cell_type": "code",
   "execution_count": 3,
   "id": "9faf781b-16dd-4f62-9922-82ee6940461f",
   "metadata": {},
   "outputs": [],
   "source": [
    "cacheType = 'in_memory'\n",
    "\n",
    "if cacheType == 'in_memory':\n",
    "    set_llm_cache(InMemoryCache())\n",
    "elif cacheType == 'sqlite':\n",
    "    set_llm_cache(SQLiteCache(database_path=\".langchain.db\"))\n",
    "\n",
    "# Set OpenAI API key and create LLM and Chat LLM. Note that key can be stored in a separate file or as an environment variable. Refer to docs.\n",
    "api_key = open('./openai_key.txt').read()\n",
    "os.environ['OPENAI_API_KEY'] = api_key\n",
    "\n",
    "logging.basicConfig(filename='example.log', encoding='utf-8', level=logging.DEBUG)"
   ]
  },
  {
   "cell_type": "code",
   "execution_count": 4,
   "id": "516fbba0-af3c-41ad-bfd3-36d7918d1d74",
   "metadata": {
    "tags": []
   },
   "outputs": [],
   "source": [
    "def get_embedding_function():\n",
    "    embedding_function = OpenAIEmbeddings()\n",
    "    return embedding_function\n",
    "\n",
    "\n",
    "def load_text_file_into_db(file, db_name,embedding_function, chunk_size=500): \n",
    "    logging.info(f'Loading file into DB. file={file} db={db_name}, chunk_size={chunk_size}')\n",
    "    loader = TextLoader(file)\n",
    "    documents = loader.load()\n",
    "    docs = split_documents_into_chunks(documents, chunk_size)\n",
    "    db = Chroma.from_documents(docs, embedding_function, persist_directory=db_name)\n",
    "    \n",
    "    # save to disk\n",
    "    db.persist()\n",
    "    logging.info(f'Persited file into DB. file={file} db={db_name}, chunk_size={chunk_size}')\n",
    "    return db\n",
    "\n",
    "\n",
    "def get_chroma_db(db_path, embedding_function):\n",
    "    return Chroma(persist_directory=db_path, embedding_function=embedding_function)\n",
    "\n",
    "\n",
    "def split_documents_into_chunks(documents, chunk_size=500):\n",
    "    text_splitter = CharacterTextSplitter.from_tiktoken_encoder(chunk_size=chunk_size)\n",
    "    docs = text_splitter.split_documents(documents)\n",
    "    return docs\n",
    "\n",
    "def load_text_files_into_db(files: list, embedding_function):\n",
    "    db = None\n",
    "    for file in files:\n",
    "        db = load_text_file_into_db('extras/01-Data-Connections/some_data/FDR_State_of_Union_1944.txt',\n",
    "                    db_path, embedding_function, chunk_size=500)\n",
    "    \n",
    "    return db"
   ]
  },
  {
   "cell_type": "code",
   "execution_count": 5,
   "id": "3a28141e-5ead-44e4-8874-04ad7d672462",
   "metadata": {},
   "outputs": [],
   "source": [
    "db_path = './speech_new_db_1'\n",
    "question = \"What was Lincon's stance on slavery?\"\n",
    "\n",
    "files = ['extras/01-Data-Connections/some_data/FDR_State_of_Union_1944.txt',\n",
    "         'extras/01-Data-Connections/some_data/Lincoln_State_of_Union_1862.txt']"
   ]
  },
  {
   "cell_type": "code",
   "execution_count": 6,
   "id": "7d978cd7-a967-4967-b331-2e938e9a04ad",
   "metadata": {},
   "outputs": [],
   "source": [
    "embedding_function = get_embedding_function()\n",
    "db = load_text_files_into_db(files, embedding_function)"
   ]
  },
  {
   "cell_type": "code",
   "execution_count": 7,
   "id": "04405adb-a03b-4ff1-8985-c13ca2e68fc1",
   "metadata": {
    "tags": []
   },
   "outputs": [],
   "source": [
    "#db = load_text_file_into_db('extras/01-Data-Connections/some_data/FDR_State_of_Union_1944.txt',\n",
    "#                    db_path, embedding_function, chunk_size=500)"
   ]
  },
  {
   "cell_type": "code",
   "execution_count": 8,
   "id": "8e912dc3-5f6b-490e-ad44-f71c8be0a80e",
   "metadata": {
    "tags": []
   },
   "outputs": [],
   "source": [
    "#db = load_text_file_into_db('extras/01-Data-Connections/some_data/Lincoln_State_of_Union_1862.txt',\n",
    "#                    db_path, embedding_function, chunk_size=500)"
   ]
  },
  {
   "cell_type": "code",
   "execution_count": 9,
   "id": "4703188b-af93-42c4-8dea-d5e1c09afcbe",
   "metadata": {},
   "outputs": [],
   "source": [
    "# LLM Use compression\n",
    "chat = ChatOpenAI(temperature=0)\n",
    "\n",
    "# LLM -> LLMChainExtractor\n",
    "compressor = LLMChainExtractor.from_llm(chat)"
   ]
  },
  {
   "cell_type": "code",
   "execution_count": 10,
   "id": "8585f4d4-fd1f-4c4f-86a2-a824332eb24c",
   "metadata": {
    "tags": []
   },
   "outputs": [],
   "source": [
    "# Context Retriever\n",
    "compression_retriever = ContextualCompressionRetriever(base_compressor=compressor,\n",
    "                                                       base_retriever=db.as_retriever())"
   ]
  },
  {
   "cell_type": "code",
   "execution_count": 11,
   "id": "964b0b63-4638-4a96-9a37-c04f62176e64",
   "metadata": {
    "tags": []
   },
   "outputs": [
    {
     "ename": "NameError",
     "evalue": "name 'db_connection' is not defined",
     "output_type": "error",
     "traceback": [
      "\u001b[1;31m---------------------------------------------------------------------------\u001b[0m",
      "\u001b[1;31mNameError\u001b[0m                                 Traceback (most recent call last)",
      "Cell \u001b[1;32mIn[11], line 2\u001b[0m\n\u001b[0;32m      1\u001b[0m \u001b[38;5;66;03m# Old way without OpenAI\u001b[39;00m\n\u001b[1;32m----> 2\u001b[0m docs \u001b[38;5;241m=\u001b[39m db_connection\u001b[38;5;241m.\u001b[39msimilarity_search(question)\n\u001b[0;32m      3\u001b[0m docs[\u001b[38;5;241m0\u001b[39m]\u001b[38;5;241m.\u001b[39mpage_content[:\u001b[38;5;241m500\u001b[39m]\n",
      "\u001b[1;31mNameError\u001b[0m: name 'db_connection' is not defined"
     ]
    }
   ],
   "source": [
    "# Old way without OpenAI\n",
    "docs = db_connection.similarity_search(question)\n",
    "docs[0].page_content[:500]"
   ]
  },
  {
   "cell_type": "code",
   "execution_count": null,
   "id": "1f60ea83-da9c-41bb-ad45-1efca691656c",
   "metadata": {
    "tags": []
   },
   "outputs": [],
   "source": [
    "# New way with context retriever\n",
    "compressed_docs = compression_retriever.get_relevant_documents(question)"
   ]
  },
  {
   "cell_type": "code",
   "execution_count": null,
   "id": "be656207-9e2a-4822-a5a0-3c1113fccf0f",
   "metadata": {
    "tags": []
   },
   "outputs": [],
   "source": [
    "compressed_docs[0]"
   ]
  },
  {
   "cell_type": "code",
   "execution_count": null,
   "id": "9cf6fda8-d965-4c10-aa13-980bf14334c8",
   "metadata": {},
   "outputs": [],
   "source": []
  }
 ],
 "metadata": {
  "kernelspec": {
   "display_name": "Python 3 (ipykernel)",
   "language": "python",
   "name": "python3"
  },
  "language_info": {
   "codemirror_mode": {
    "name": "ipython",
    "version": 3
   },
   "file_extension": ".py",
   "mimetype": "text/x-python",
   "name": "python",
   "nbconvert_exporter": "python",
   "pygments_lexer": "ipython3",
   "version": "3.11.5"
  }
 },
 "nbformat": 4,
 "nbformat_minor": 5
}
