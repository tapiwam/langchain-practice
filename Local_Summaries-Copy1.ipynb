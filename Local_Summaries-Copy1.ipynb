{
 "cells": [
  {
   "cell_type": "markdown",
   "id": "64959efd",
   "metadata": {},
   "source": [
    "# Lanchain OpenAI Setup"
   ]
  },
  {
   "cell_type": "code",
   "execution_count": 3,
   "id": "938556af-541a-4286-bf98-ef139125a078",
   "metadata": {
    "tags": []
   },
   "outputs": [],
   "source": [
    "import os\n",
    "api_key = open('./openai_key.txt').read()\n",
    "os.environ['OPENAI_API_KEY'] = api_key"
   ]
  },
  {
   "cell_type": "code",
   "execution_count": 4,
   "id": "254ea1fe-8746-4c51-9d8e-c4c1aaa1eb5c",
   "metadata": {
    "tags": []
   },
   "outputs": [],
   "source": [
    "from langchain.vectorstores import Chroma\n",
    "from langchain.embeddings import OpenAIEmbeddings\n",
    "from langchain.text_splitter import RecursiveCharacterTextSplitter\n",
    "from langchain_openai import OpenAI\n",
    "from langchain_openai import ChatOpenAI\n",
    "from langchain.chains import RetrievalQA\n",
    "from langchain.document_loaders import TextLoader\n",
    "from langchain.document_loaders import DirectoryLoader"
   ]
  },
  {
   "cell_type": "code",
   "execution_count": 6,
   "id": "9faf781b-16dd-4f62-9922-82ee6940461f",
   "metadata": {},
   "outputs": [],
   "source": [
    "# Caching\n",
    "from langchain.cache import InMemoryCache\n",
    "from langchain.cache import SQLiteCache\n",
    "from langchain.globals import set_llm_cache\n",
    "\n",
    "\n",
    "cacheType = 'in_memory'\n",
    "\n",
    "if cacheType == 'in_memory':\n",
    "    set_llm_cache(InMemoryCache())\n",
    "elif cacheType == 'sqlite':\n",
    "    set_llm_cache(SQLiteCache(database_path=\".langchain.db\"))"
   ]
  },
  {
   "cell_type": "code",
   "execution_count": 7,
   "id": "8a3313f5-24c4-49f4-9bff-5e6fdb0cfe37",
   "metadata": {
    "tags": []
   },
   "outputs": [],
   "source": [
    "# Set OpenAI API key and create LLM and Chat LLM. Note that key can be stored in a separate file or as an environment variable. Refer to docs.\n",
    "\n",
    "llm = OpenAI()\n",
    "chat = ChatOpenAI()"
   ]
  },
  {
   "cell_type": "markdown",
   "id": "9a97e058-a20b-488c-ab7b-952f580fbaaa",
   "metadata": {},
   "source": [
    "# Load Multiple documents and process"
   ]
  },
  {
   "cell_type": "code",
   "execution_count": 9,
   "id": "eab49119-15b2-47bb-910a-6f99ef888de4",
   "metadata": {
    "tags": []
   },
   "outputs": [],
   "source": [
    "# Load all files in dirl\n",
    "loader = DirectoryLoader('./new_articles/', glob=\"./*.txt\", loader_cls=TextLoader)\n",
    "\n",
    "documents = loader.load()"
   ]
  },
  {
   "cell_type": "code",
   "execution_count": 12,
   "id": "3a28141e-5ead-44e4-8874-04ad7d672462",
   "metadata": {},
   "outputs": [],
   "source": [
    "# split \n",
    "text_splitter = RecursiveCharacterTextSplitter(chunk_size=1000, chunk_overlap=200)\n",
    "texts = text_splitter.split_documents(documents)"
   ]
  },
  {
   "cell_type": "code",
   "execution_count": 13,
   "id": "b06dac15-f08e-4291-98d4-68687aae7f06",
   "metadata": {
    "tags": []
   },
   "outputs": [
    {
     "data": {
      "text/plain": [
       "Document(page_content='Customers can customize the tools and apps or build their own using Pandoâ€™s APIs. This, along with the platformâ€™s emphasis on no-code capabilities, differentiates Pando from incumbents like SAP, Oracle, Blue Yonder and E2Open, Jayakrishnan asserts.\\n\\n\"Pando comes pre-integrated with leading enterprise resource planning (ERPs) systems and has ready APIs and a professional services team to integrate with any new ERPs and enterprise systems,\" he added. \"Pandoâ€™s no-code capabilities enable business users to customize the apps while maintaining platform integrity â€” reducing the need for IT resources for each customization.\"', metadata={'source': 'new_articles\\\\05-03-ai-powered-supply-chain-startup-pando-lands-30m-investment.txt'})"
      ]
     },
     "execution_count": 13,
     "metadata": {},
     "output_type": "execute_result"
    }
   ],
   "source": [
    "texts[3]"
   ]
  },
  {
   "cell_type": "markdown",
   "id": "b8263347-2d57-4a27-885f-6370acbaa921",
   "metadata": {
    "tags": []
   },
   "source": [
    "# Create DB"
   ]
  },
  {
   "cell_type": "code",
   "execution_count": 16,
   "id": "39742b53-f866-4faa-871b-0190da92f002",
   "metadata": {
    "tags": []
   },
   "outputs": [
    {
     "name": "stderr",
     "output_type": "stream",
     "text": [
      "C:\\ProgramData\\anaconda3\\Lib\\site-packages\\langchain_core\\_api\\deprecation.py:117: LangChainDeprecationWarning: The class `langchain_community.embeddings.openai.OpenAIEmbeddings` was deprecated in langchain-community 0.1.0 and will be removed in 0.2.0. An updated version of the class exists in the langchain-openai package and should be used instead. To use it run `pip install -U langchain-openai` and import as `from langchain_openai import OpenAIEmbeddings`.\n",
      "  warn_deprecated(\n"
     ]
    }
   ],
   "source": [
    "persist_dir = 'articles_db'\n",
    "\n",
    "# Embeddings\n",
    "embedding = OpenAIEmbeddings()\n",
    "\n",
    "vecordb = Chroma.from_documents(documents=texts,\n",
    "                                embedding=embedding,\n",
    "                                persist_directory=persist_dir)"
   ]
  },
  {
   "cell_type": "code",
   "execution_count": 17,
   "id": "c0e4f17c-7541-4601-b5cc-0cde0291ef98",
   "metadata": {
    "tags": []
   },
   "outputs": [],
   "source": [
    "vecordb.persist()\n",
    "vecordb = None"
   ]
  },
  {
   "cell_type": "code",
   "execution_count": 18,
   "id": "2d47787d-b97f-42c8-b846-0a4a044e68fe",
   "metadata": {
    "tags": []
   },
   "outputs": [],
   "source": [
    "# Now load DB from disk and use it as normal\n",
    "vecordb = Chroma(persist_directory =persist_dir,\n",
    "                 embedding_function=embedding)"
   ]
  },
  {
   "cell_type": "code",
   "execution_count": null,
   "id": "b33c721f-3fc5-4a6d-a39b-231c85ab1e82",
   "metadata": {},
   "outputs": [],
   "source": []
  },
  {
   "cell_type": "code",
   "execution_count": 39,
   "id": "7ac7013d-9c1a-41c5-a3ad-d3512f9260b2",
   "metadata": {
    "tags": []
   },
   "outputs": [],
   "source": [
    "from langchain.schema import AIMessage, HumanMessage, SystemMessage\n",
    "\n",
    "# Import chat templates\n",
    "from langchain.prompts import (\n",
    "    ChatPromptTemplate,\n",
    "    PromptTemplate,\n",
    "    SystemMessagePromptTemplate,\n",
    "    AIMessagePromptTemplate,\n",
    "    HumanMessagePromptTemplate,\n",
    ")\n"
   ]
  },
  {
   "cell_type": "code",
   "execution_count": 27,
   "id": "43e327ca-5354-438d-b00e-e296e441fb5a",
   "metadata": {
    "tags": []
   },
   "outputs": [],
   "source": [
    "test1 = documents[0]"
   ]
  },
  {
   "cell_type": "code",
   "execution_count": 123,
   "id": "1152dc4a-50db-4138-a415-7c486efe400c",
   "metadata": {
    "tags": []
   },
   "outputs": [
    {
     "data": {
      "text/plain": [
       "'new_articles\\\\05-03-ai-powered-supply-chain-startup-pando-lands-30m-investment.txt'"
      ]
     },
     "execution_count": 123,
     "metadata": {},
     "output_type": "execute_result"
    }
   ],
   "source": [
    "test1.metadata['source']"
   ]
  },
  {
   "cell_type": "code",
   "execution_count": 29,
   "id": "7729c05c-812b-4389-825e-89357f0c9a30",
   "metadata": {
    "tags": []
   },
   "outputs": [],
   "source": [
    "from langchain.chains.summarize import load_summarize_chain\n",
    "chain = load_summarize_chain(llm=chat, chain_type=\"stuff\")"
   ]
  },
  {
   "cell_type": "code",
   "execution_count": 35,
   "id": "6b0eab88-852a-4c9d-b1bd-45b56567a720",
   "metadata": {
    "tags": []
   },
   "outputs": [],
   "source": [
    "r1 = chain.run([test1])"
   ]
  },
  {
   "cell_type": "code",
   "execution_count": 60,
   "id": "ab7d66f7-001c-4d74-8d22-820d126d8eb9",
   "metadata": {
    "tags": []
   },
   "outputs": [],
   "source": [
    "q_template = \"\"\"Create a few questions and answers covering the below text starting and ending with ### :\n",
    "###{text}###\n",
    "\n",
    "INSTUCTIONS:\n",
    "Format each question with 'Q: ' prepended on a new line.\n",
    "Format each question with 'A: ' prepended on a new line.\n",
    "Add an additional new line after each pair.\n",
    "If there is not enough infomation, return an empty string.\n",
    "\"\"\"\n",
    "\n",
    "chat_prompt = ChatPromptTemplate.from_template(q_template)\n",
    "request = chat_prompt.format_prompt(text = r1).to_messages()"
   ]
  },
  {
   "cell_type": "code",
   "execution_count": 62,
   "id": "a9603794-b286-46ca-8e2f-274524ea7685",
   "metadata": {
    "tags": []
   },
   "outputs": [],
   "source": [
    "resp1 = chat(request)"
   ]
  },
  {
   "cell_type": "code",
   "execution_count": 63,
   "id": "f7fed8b9-a009-4ca5-a830-266559e83cb6",
   "metadata": {
    "tags": []
   },
   "outputs": [
    {
     "name": "stdout",
     "output_type": "stream",
     "text": [
      "Q: How much funding did Pando raise in its Series B funding round?\n",
      "A: Pando raised $30 million in its Series B funding round.\n",
      "\n",
      "Q: What is the total amount raised by Pando so far?\n",
      "A: Pando has raised a total of $45 million.\n",
      "\n",
      "Q: What are the intended uses of the funds raised by Pando?\n",
      "A: The funds raised by Pando will be used to expand the company's sales, marketing, and delivery capabilities.\n",
      "\n",
      "Q: What does Pando's software-as-a-service platform offer?\n",
      "A: Pando's software-as-a-service platform consolidates supply chain data and provides tools for freight procurement, trade management, and more.\n",
      "\n",
      "Q: How does Pando's platform differentiate itself?\n",
      "A: Pando's platform differentiates itself with its no-code capabilities and integration with leading enterprise resource planning systems.\n",
      "\n",
      "Q: How much has Pando's revenue increased since its Series A funding?\n",
      "A: Pando's revenue has increased 8 times since its Series A funding.\n",
      "\n",
      "Q: How much has Pando's customer base expanded since its Series A funding?\n",
      "A: Pando's customer base has expanded 5 times since its Series A funding.\n",
      "\n",
      "Q: What is the estimated value of the digital logistics market by 2025?\n",
      "A: The digital logistics market is estimated to reach $46.5 billion by 2025.\n"
     ]
    }
   ],
   "source": [
    "print(resp1.content)"
   ]
  },
  {
   "cell_type": "markdown",
   "id": "94000a34-11a0-44bf-b1bc-a48cd11d97b4",
   "metadata": {},
   "source": [
    "## Pydantic "
   ]
  },
  {
   "cell_type": "code",
   "execution_count": 176,
   "id": "ad3f1471-deb6-46c2-9124-0a0183f01071",
   "metadata": {
    "tags": []
   },
   "outputs": [],
   "source": [
    "from pydantic import BaseModel, Field\n",
    "from typing import List\n",
    "from langchain.output_parsers import PydanticOutputParser"
   ]
  },
  {
   "cell_type": "code",
   "execution_count": 177,
   "id": "e6d45a24-5e70-413a-8d88-9bea689dd372",
   "metadata": {},
   "outputs": [],
   "source": [
    "class QAModel(BaseModel):\n",
    "    question: str = Field(description=\"Question\")\n",
    "    answer: str = Field(description=\"Answer to question\")\n",
    "\n",
    "class QADocument(BaseModel):\n",
    "    metadata: dict = None\n",
    "    original: str= None\n",
    "    source: str = Field(description=\"Metdata for the source document\")\n",
    "    summary: str = Field(description=\"Original content being processed\")\n",
    "    items: List[QAModel] = []"
   ]
  },
  {
   "cell_type": "code",
   "execution_count": 254,
   "id": "7ade5de0-2305-48c4-a4c9-1fb8a6316cd4",
   "metadata": {},
   "outputs": [],
   "source": [
    "from langchain.schema import Document\n",
    "\n",
    "def creat_document_lc(page_content:str, metadata:dict):\n",
    "    return Document(page_content=page_content, metadata=metadata)\n",
    "\n",
    "def format_page_content(response: QAModel):\n",
    "    return f\"\"\"Question: {response.question}\\nAnswer: {response.answer}\"\"\"\n",
    "\n",
    "def format_page_metadata(result: QADocument):\n",
    "    qaCount = 0 if not result.items else len(result.items)\n",
    "    return {\n",
    "        'source': result.source,\n",
    "        'qaCount': qaCount\n",
    "        # Additional properties here if necessary\n",
    "    }\n",
    "\n",
    "def export_document(result: QADocument) -> list :\n",
    "    metadata = format_page_metadata(result)\n",
    "    final_str = f\"***Summary***:\\n\\n{result.summary}\\n\\n***Possible QA***\\n\"\n",
    "    \n",
    "    for item in result.items:\n",
    "        qa = format_page_content(item)\n",
    "        final_str += f\"\\n{qa}\\n\"\n",
    "    \n",
    "    final_str += f\"\\n***Original***\\n\\n{result.original}\"\n",
    "    \n",
    "    doc = creat_document_lc(page_content=final_str, metadata=metadata)\n",
    "    return doc\n",
    "        "
   ]
  },
  {
   "cell_type": "code",
   "execution_count": 255,
   "id": "cc6156af-c729-4de3-8946-ae56ea4924c6",
   "metadata": {},
   "outputs": [],
   "source": [
    "human_template = \"\"\"{request}\\n{format_instructions}\"\"\"\n",
    "human_prompt = HumanMessagePromptTemplate.from_template(human_template)\n",
    "chat_prompt = ChatPromptTemplate.from_messages([human_prompt])"
   ]
  },
  {
   "cell_type": "code",
   "execution_count": 270,
   "id": "5d2ef713-5194-4938-82f1-187763a3975d",
   "metadata": {},
   "outputs": [],
   "source": [
    "def generate_request_for_questions(source_name: str, summary: str):\n",
    "    q_template1 = f\"\"\"Create a few questions and answers covering the below text starting and ending with ### :\n",
    "    ###{summary}###\n",
    "\n",
    "    Text metadata to be included in results:\n",
    "    source: {source_name}\n",
    "    summary: [This should be the text provided igenerate_request_for_questionsn above with ###]\n",
    "    original: [This can be left blank]\n",
    "    metadata: [This can be left blank]\n",
    "    \"\"\"\n",
    "\n",
    "    request = chat_prompt.format_prompt(request=q_template1,\n",
    "                                       format_instructions=parser.get_format_instructions()).to_messages()\n",
    "    \n",
    "    return request\n"
   ]
  },
  {
   "cell_type": "code",
   "execution_count": 260,
   "id": "df409ce9-c0f2-4cd3-8a33-126d9deeaaf2",
   "metadata": {},
   "outputs": [],
   "source": [
    "parser = PydanticOutputParser(pydantic_object=QADocument)\n",
    "# parser.get_format_instructions()"
   ]
  },
  {
   "cell_type": "code",
   "execution_count": 282,
   "id": "8c8d8213-89c8-46c8-8558-1b011130fe82",
   "metadata": {
    "scrolled": true,
    "tags": []
   },
   "outputs": [],
   "source": [
    "# This will genrate a Summary -> Generate Questions -> Create new document wrapper\n",
    "def process_document(document: Document) -> Document:\n",
    "    print(\"Processing document: \", document.metadata['source'])\n",
    "    \n",
    "    try:\n",
    "        # Create summary\n",
    "        doc_name = document.metadata['source']\n",
    "        summary_resp = chain.run([document])\n",
    "\n",
    "        # Create request for questions\n",
    "        question_request = generate_request_for_questions(source_name=doc_name, summary=summary_resp)\n",
    "        question_response = chat(question_request, temperature=0.0)\n",
    "        parsed_questions_qadoc = parser.parse(question_response.content)\n",
    "\n",
    "        # Set core details\n",
    "        parsed_questions_qadoc.original = document.page_content\n",
    "\n",
    "        # Generate new doc\n",
    "        final_doc = export_document(parsed_questions_qadoc)\n",
    "\n",
    "    except Exception as error:\n",
    "        # handle the exception\n",
    "        print(\"An exception occurred:\", error)\n",
    "    \n",
    "    print(\"Done processing document: \", document.metadata['source'])\n",
    "    \n",
    "    return final_doc\n",
    "    \n",
    "    \n",
    "    "
   ]
  },
  {
   "cell_type": "code",
   "execution_count": 289,
   "id": "424821d8-e370-4e13-9dff-d62ee1c4885a",
   "metadata": {},
   "outputs": [
    {
     "name": "stdout",
     "output_type": "stream",
     "text": [
      "Processing document:  new_articles\\05-03-ai-powered-supply-chain-startup-pando-lands-30m-investment.txt\n",
      "Done processing document:  new_articles\\05-03-ai-powered-supply-chain-startup-pando-lands-30m-investment.txt\n",
      "Processing document:  new_articles\\05-03-ai-replace-tv-writers-strike.txt\n",
      "Done processing document:  new_articles\\05-03-ai-replace-tv-writers-strike.txt\n",
      "Processing document:  new_articles\\05-03-chatgpt-everything-you-need-to-know-about-the-ai-powered-chatbot.txt\n",
      "Done processing document:  new_articles\\05-03-chatgpt-everything-you-need-to-know-about-the-ai-powered-chatbot.txt\n",
      "Processing document:  new_articles\\05-03-checks-the-ai-powered-data-protection-project-incubated-in-area-120-officially-exits-to-google.txt\n",
      "Done processing document:  new_articles\\05-03-checks-the-ai-powered-data-protection-project-incubated-in-area-120-officially-exits-to-google.txt\n",
      "Processing document:  new_articles\\05-03-databricks-acquires-ai-centric-data-governance-platform-okera.txt\n",
      "Done processing document:  new_articles\\05-03-databricks-acquires-ai-centric-data-governance-platform-okera.txt\n",
      "Processing document:  new_articles\\05-03-nova-is-building-guardrails-for-generative-ai-content-to-protect-brand-integrity.txt\n",
      "Done processing document:  new_articles\\05-03-nova-is-building-guardrails-for-generative-ai-content-to-protect-brand-integrity.txt\n",
      "Processing document:  new_articles\\05-03-spawning-lays-out-its-plans-for-letting-creators-opt-out-of-generative-ai-training.txt\n",
      "Done processing document:  new_articles\\05-03-spawning-lays-out-its-plans-for-letting-creators-opt-out-of-generative-ai-training.txt\n"
     ]
    }
   ],
   "source": [
    "# Run through all documents\n",
    "\n",
    "enriched_documents = []\n",
    "for doc in documents:\n",
    "    enriched = process_document(document=doc)\n",
    "    enriched_documents.append( enriched )\n",
    "    "
   ]
  },
  {
   "cell_type": "code",
   "execution_count": 291,
   "id": "42b36f0b-ac2f-4fec-b5e9-ceae3f29ad86",
   "metadata": {
    "tags": []
   },
   "outputs": [
    {
     "data": {
      "text/plain": [
       "Document(page_content='***Summary***:\\n\\nChatGPT, an AI-powered chatbot developed by OpenAI, has gained popularity for its ability to generate text in various domains. OpenAI has made significant updates to ChatGPT, including the integration of GPT-4, the latest language-writing model, and the introduction of plugins that allow access to external knowledge sources. However, there have been some concerns and controversies surrounding ChatGPT, such as the rise of malware posing as ChatGPT, potential misuse for fraud, and issues related to data privacy and plagiarism. Despite these challenges, ChatGPT continues to be widely used and has found applications in ad and marketing copy generation, customer service, and more.\\n\\n***Possible QA***\\n\\nQuestion: What is ChatGPT?\\nAnswer: ChatGPT is an AI-powered chatbot developed by OpenAI.\\n\\nQuestion: What updates have been made to ChatGPT?\\nAnswer: OpenAI has integrated GPT-4, the latest language-writing model, and introduced plugins that allow access to external knowledge sources.\\n\\nQuestion: What are some concerns and controversies surrounding ChatGPT?\\nAnswer: Some concerns include the rise of malware posing as ChatGPT, potential misuse for fraud, and issues related to data privacy and plagiarism.\\n\\nQuestion: In which domains is ChatGPT widely used?\\nAnswer: ChatGPT is widely used in ad and marketing copy generation, customer service, and more.\\n\\n***Original***\\n\\nChatGPT: Everything you need to know about the AI-powered chatbot\\n\\nChatGPT, OpenAI\\'s text-generating AI chatbot, has taken the world by storm. It\\'s able to write essays, code and more given short text prompts, hyper-charging productivity. But it also has a moreâ€¦nefarious side.\\n\\nIn any case, AI tools are not going away â€” and indeed has expanded dramatically since its launch just a few months ago. Major brands are experimenting with it, using the AI to generate ad and marketing copy, for example.\\n\\nAnd OpenAI is heavily investing in it. ChatGPT was recently super-charged by GPT-4, the latest language-writing model from OpenAI\\'s labs. Paying ChatGPT users have access to GPT-4, which can write more naturally and fluently than the model that previously powered ChatGPT. In addition to GPT-4, OpenAI recently connected ChatGPT to the internet with plugins available in alpha to users and developers on the waitlist.\\n\\nHere\\'s a timeline of ChatGPT product updates and releases, starting with the latest, to be updated regularly. We also answer the most common FAQs (see below).\\n\\nTimeline of the most recent ChatGPT updates\\n\\nMay 3, 2023\\n\\nMeta said in a report on May 3 that malware posing as ChatGPT was on the rise across its platforms.The company said that since March 2023, its security teams have uncovered 10 malware families using ChatGPT (and similar themes) to deliver malicious software to users\\' devices.\\n\\n\"In one case, we\\'ve seen threat actors create malicious browser extensions available in official web stores that claim to offer ChatGPT-based tools,\" said Meta security engineers Duc H. Nguyen and Ryan Victory in a blog post. \"They would then promote these malicious extensions on social media and through sponsored search results to trick people into downloading malware.\"\\n\\nApril 28, 2023\\n\\nVC firms including Sequoia Capital, Andreessen Horowitz, Thrive and K2 Global are picking up new shares, according to documents seen by TechCrunch. A source tells us Founders Fund is also investing. Altogether the VCs have put in just over $300 million at a valuation of $27 billion to $29 billion. This is separate to a big investment from Microsoft announced earlier this year, a person familiar with the development told TechCrunch, which closed in January. The size of Microsoft\\'s investment is believed to be around $10 billion, a figure we confirmed with our source.\\n\\nApril 25, 2023\\n\\nCalled ChatGPT Business, OpenAI describes the forthcoming offering as \"for professionals who need more control over their data as well as enterprises seeking to manage their end users.\"\\n\\n\"ChatGPT Business will follow our API\\'s data usage policies, which means that end users\\' data won\\'t be used to train our models by default,\" OpenAI wrote in a blog post. \"We plan to make ChatGPT Business available in the coming months.\"\\n\\nApril 24, 2023\\n\\nOpenAI applied for a trademark for \"GPT,\" which stands for \"Generative Pre-trained Transformer,\" last December. Last month, the company petitioned the USPTO to speed up the process, citing the \"myriad infringements and counterfeit apps\" beginning to spring into existence.\\n\\nUnfortunately for OpenAI, its petition was dismissed last week. According to the agency, OpenAI\\'s attorneys neglected to pay an associated fee as well as provide \"appropriate documentary evidence supporting the justification of special action.\"\\n\\nThat means a decision could take up to five more months.\\n\\nApril 22, 2023\\n\\nAuto-GPT is an open source app created by game developer Toran Bruce Richards that uses OpenAI\\'s latest text-generating models, GPT-3.5 and GPT-4, to interact with software and services online, allowing it to \"autonomously\" perform tasks.\\n\\nDepending on what objective the tool\\'s provided, Auto-GPT can behave in veryâ€¦ unexpected ways. One Reddit user claims that, given a budget of $100 to spend within a server instance, Auto-GPT made a wiki page on cats, exploited a flaw in the instance to gain admin-level access and took over the Python environment in which it was running â€” and then \"killed\" itself.\\n\\nApril 18, 2023\\n\\nFTC chair Lina Khan and fellow commissioners warned House representatives of the potential for modern AI technologies, like ChatGPT, to be used to \"turbocharge\" fraud in a congressional hearing.\\n\\n\"AI presents a whole set of opportunities, but also presents a whole set of risks,\" Khan told the House representatives. \"And I think we\\'ve already seen ways in which it could be used to turbocharge fraud and scams. We\\'ve been putting market participants on notice that instances in which AI tools are effectively being designed to deceive people can place them on the hook for FTC action,\" she stated.\\n\\nApril 17, 2023\\n\\nThe company behind the popular iPhone customization app Brass, sticker maker StickerHub and others is out today with a new AI chat app called SuperChat, which allows iOS users to chat with virtual characters powered by OpenAI\\'s ChatGPT. However, what makes the app different from the default ChatGPT experience or the dozens of generic AI chat apps now available are the characters offered which you can use to engage with SuperChat\\'s AI features.\\n\\nApril 12, 2023\\n\\nItaly\\'s data protection watchdog has laid out what OpenAI needs to do for it to lift an order against ChatGPT issued at the end of last month â€” when it said it suspected the AI chatbot service was in breach of the EU\\'s GSPR and ordered the U.S.-based company to stop processing locals\\' data.\\n\\nThe DPA has given OpenAI a deadline â€” of April 30 â€” to get the regulator\\'s compliance demands done. (The local radio, TV and internet awareness campaign has a slightly more generous timeline of May 15 to be actioned.)\\n\\nApril 12, 2023\\n\\nA study co-authored by scientists at the Allen Institute for AI shows that assigning ChatGPT a \"persona\" â€” for example, \"a bad person,\" \"a horrible person\" or \"a nasty person\" â€” through the ChatGPT API increases its toxicity sixfold. Even more concerning, the co-authors found having ChatGPT pose as certain historical figures, gendered people and members of political parties also increased its toxicity â€” with journalists, men and Republicans in particular causing the machine learning model to say more offensive things than it normally would.\\n\\nThe research was conducted using the latest version of ChatGPT, but not the model currently in preview based on OpenAI\\'s GPT-4.\\n\\nApril 4, 2023\\n\\nYC Demo Day\\'s Winter 2023 batch features no fewer than four startups that claim to be building \"ChatGPT for X.\" They\\'re all chasing after a customer service software market that\\'ll be worth $58.1 billion by 2023, assuming the rather optimistic prediction from Acumen Research comes true.\\n\\nHere are the YC-backed startups that caught our eye:\\n\\nYuma, whose customer demographic is primarily Shopify merchants, provides ChatGPT-like AI systems that integrate with help desk software, suggesting drafts of replies to customer tickets.\\n\\nBaselit, which uses one of OpenAI\\'s text-understanding models to allow businesses to embed chatbot-style analytics for their customers.\\n\\nLasso customers send descriptions or videos of the processes they\\'d like to automate and the company combines ChatGPT-like interface with robotic process automation (RPA) and a Chrome extension to build out those automations.\\n\\nBerriAI, whose platform is designed to help developers spin up ChatGPT apps for their organization data through various data connectors.\\n\\nApril 1, 2023\\n\\nOpenAI has started geoblocking access to its generative AI chatbot, ChatGPT, in Italy.\\n\\nItaly\\'s data protection authority has just put out a timely reminder that some countries do have laws that already apply to cutting edge AI: it has ordered OpenAI to stop processing people\\'s data locally with immediate effect. The Italian DPA said it\\'s concerned that the ChatGPT maker is breaching the European Union\\'s General Data Protection Regulation (GDPR), and is opening an investigation.\\n\\nMarch 29, 2023\\n\\nThe letter\\'s signatories include Elon Musk, Steve Wozniak and Tristan Harris of the Center for Humane Technology, among others. The letter calls on \"all AI labs to immediately pause for at least 6 months the training of AI systems more powerful than GPT-4.\"\\n\\nThe letter reads:\\n\\nContemporary AI systems are now becoming human-competitive at general tasks,[3] and we must ask ourselves: Should we let machines flood our information channels with propaganda and untruth? Should we automate away all the jobs, including the fulfilling ones? Should we develop nonhuman minds that might eventually outnumber, outsmart, obsolete and replace us? Should we risk loss of control of our civilization? Such decisions must not be delegated to unelected tech leaders. Powerful AI systems should be developed only once we are confident that their effects will be positive and their risks will be manageable.\\n\\nMarch 23, 2023\\n\\nOpenAI launched plugins for ChatGPT, extending the bots functionality by granting it access to third-party knowledge sources and databases, including the web. Available in alpha to ChatGPT users and developers on the waitlist, OpenAI says that it\\'ll initially prioritize a small number of developers and subscribers to its premium ChatGPT Plus plan before rolling out larger-scale and API access.\\n\\nMarch 14, 2023\\n\\nGPT-4 is a powerful image- and text-understanding AI model from OpenAI. Released March 14, GPT-4 is available for paying ChatGPT Plus users and through a public API. Developers can sign up on a waitlist to access the API.\\n\\nMarch 9, 2023\\n\\nChatGPT is generally available through the Azure OpenAI Service, Microsoft\\'s fully managed, corporate-focused offering. Customers, who must already be \"Microsoft managed customers and partners,\" can apply here for special access.\\n\\nMarch 1, 2023\\n\\nOpenAI makes another move toward monetization by launching a paid API for ChatGPT. Instacart, Snap (Snapchat\\'s parent company) and Quizlet are among its initial customers.\\n\\nFebruary 7, 2023\\n\\nAt a press event in Redmond, Washington, Microsoft announced its long-rumored integration of OpenAI\\'s GPT-4 model into Bing, providing a ChatGPT-like experience within the search engine. The announcement spurred a 10x increase in new downloads for Bing globally, indicating a sizable consumer demand for new AI experiences.\\n\\nOther companies beyond Microsoft joined in on the AI craze by implementing ChatGPT, including OkCupid, Kaito, Snapchat and Discord â€” putting the pressure on Big Tech\\'s AI initiatives, like Google.\\n\\nFebruary 1, 2023\\n\\nAfter ChatGPT took the internet by storm, OpenAI launched a new pilot subscription plan for ChatGPT called ChatGPT Plus, aiming to monetize the technology starting at $20 per month.\\n\\nDecember 8, 2022\\n\\nA week after ChatGPT was released into the wild, two developers â€” Steven Tey and Dom Eccleston â€” made a Chrome extension called ShareGPT to make it easier to capture and share the AI\\'s answers with the world.\\n\\nNovember 30, 2022\\n\\nGPT-3.5 broke cover with ChatGPT, a fine-tuned version of GPT-3.5 that\\'s essentially a general-purpose chatbot. ChatGPT can engage with a range of topics, including programming, TV scripts and scientific concepts.\\n\\nWriters everywhere rolled their eyes at the new technology, much like artists did with OpenAI\\'s DALL-E model, but the latest chat-style iteration seemingly broadened its appeal and audience.\\n\\nFAQs:\\n\\nWhat is ChatGPT? How does it work?\\n\\nChatGPT is a general-purpose chatbot that uses artificial intelligence to generate text after a user enters a prompt, developed by tech startup OpenAI. The chatbot uses GPT-4, a large language model that uses deep learning to produce human-like text.\\n\\nWhen did ChatGPT get released?\\n\\nNovember 30, 2022 is when ChatGPT was released for public use.\\n\\nWhat is the latest version of ChatGPT?\\n\\nBoth the free version of ChatGPT and the paid ChatGPT Plus are regularly updated with new GPT models. The most recent model is GPT-4.\\n\\nIs ChatGPT free?\\n\\nThere is a free version of ChatGPT that only requires a sign-in in addition to the paid version, ChatGPT Plus.\\n\\nWho uses ChatGPT?\\n\\nAnyone can use ChatGPT! More and more tech companies and search engines are utilizing the chatbot to automate text or quickly answer user questions/concerns.\\n\\nWhat is the difference between ChatGPT and a chatbot?\\n\\nA chatbot can be any software/system that holds dialogue with you/a person but doesn\\'t necessarily have to be AI-powered. For example, there are chatbots that are rules-based in the sense that they\\'ll give canned responses to questions.\\n\\nChatGPT is AI-powered and utilizes LLM technology to generate text after a prompt.\\n\\nCan ChatGPT write essays?\\n\\nYes.\\n\\nCan ChatGPT commit libel?\\n\\nDue to the nature of how these models work, they don\\'t know or care whether something is true, only that it looks true. That\\'s a problem when you\\'re using it to do your homework, sure, but when it accuses you of a crime you didn\\'t commit, that may well at this point be libel.\\n\\nWe will see how handling troubling statements produced by ChatGPT will play out over the next few months as tech and legal experts attempt to tackle the fastest moving target in the industry.\\n\\nDoes ChatGPT have an app?\\n\\nThere is not an app available for iPhone or Android, but users have options to enable the chatbot on their mobile devices via their browser or a third-party app that uses ChatGPT\\'s public API.\\n\\nWhat is the ChatGPT character limit?\\n\\nIt\\'s not documented anywhere that ChatGPT has a character limit. However, users have noted that there are some character limitations after around 500 words.\\n\\nDoes ChatGPT have an API?\\n\\nYes, it was released March 1, 2023.\\n\\nWhat are some sample everyday uses for ChatGPT?\\n\\nEveryday examples include programing, scripts, email replies, listicles, blog ideas, summarization, etc.\\n\\nWhat are some advanced uses for ChatGPT?\\n\\nAdvanced use examples include debugging code, programming languages, scientific concepts, complex problem solving, etc.\\n\\nHow good is ChatGPT at writing code?\\n\\nIt depends on the nature of the program. While ChatGPT can write workable Python code, it can\\'t necessarily program an entire app\\'s worth of code. That\\'s because ChatGPT lacks context awareness â€” in other words, the generated code isn\\'t always appropriate for the specific context in which it\\'s being used.\\n\\nCan you save a ChatGPT chat?\\n\\nYes. OpenAI allows users to save chats in the ChatGPT interface, stored in the sidebar of the screen. There are no built-in sharing features yet.\\n\\nAre there alternatives to ChatGPT?\\n\\nYes. There are multiple AI-powered chatbot competitors such as Together, Google\\'s Bard and Anthropic\\'s Claude, and developers are creating open source alternatives. But the latter are harder â€” if not impossible â€” to run today.\\n\\nHow does ChatGPT handle data privacy?\\n\\nOpenAI has said that individuals in \"certain jurisdictions\" (such as the EU) can object to the processing of their personal information by its AI models by filling out this form. This includes the ability to make requests for deletion of AI-generated references about you. Although OpenAI notes it may not grant every request since it must balance privacy requests against freedom of expression \"in accordance with applicable laws\".\\n\\nThe web form for making a deletion of data about you request is entitled \"OpenAI Personal Data Removal Request\".\\n\\nIn its privacy policy, the ChatGPT maker makes a passing acknowledgement of the objection requirements attached to relying on \"legitimate interest\" (LI), pointing users towards more information about requesting an opt out â€” when it writes: \"See here for instructions on how you can opt out of our use of your information to train our models.\"\\n\\nWhat controversies have surrounded ChatGPT?\\n\\nRecently, Discord announced that it had integrated OpenAI\\'s technology into its bot named Clyde where two users tricked Clyde into providing them with instructions for making the illegal drug methamphetamine (meth) and the incendiary mixture napalm.\\n\\nAn Australian mayor has publicly announced he may sue OpenAI for defamation due to ChatGPT\\'s false claims that he had served time in prison for bribery. This would be the first defamation lawsuit against the text-generating service.\\n\\nCNET found itself in the midst of controversy after Futurism reported the publication was publishing articles under a mysterious byline completely generated by AI. The private equity company that owns CNET, Red Ventures, was accused of using ChatGPT for SEO farming, even if the information was incorrect.\\n\\nSeveral major school systems and colleges, including New York City Public Schools, have banned ChatGPT from their networks and devices. They claim that the AI impedes the learning process by promoting plagiarism and misinformation, a claim that not every educator agrees with.\\n\\nThere have also been cases of ChatGPT accusing individuals of false crimes.\\n\\nWhere can I find examples of ChatGPT prompts?\\n\\nSeveral marketplaces host and provide ChatGPT prompts, either for free or for a nominal fee. One is PromptBase. Another is ChatX. More launch every day.\\n\\nCan ChatGPT be detected?\\n\\nPoorly. Several tools claim to detect ChatGPT-generated text, but in our tests, they\\'re inconsistent at best.\\n\\nAre ChatGPT chats public?\\n\\nNo. But OpenAI recently disclosed a bug, since fixed, that exposed the titles of some users\\' conversations to other people on the service.\\n\\nWho owns the copyright on ChatGPT-created content or media?\\n\\nThe user who requested the input from ChatGPT is the copyright owner.\\n\\nWhat lawsuits are there surrounding ChatGPT?\\n\\nNone specifically targeting ChatGPT. But OpenAI is involved in at least one lawsuit that has implications for AI systems trained on publicly available data, which would touch on ChatGPT.\\n\\nAre there issues regarding plagiarism with ChatGPT?\\n\\nYes. Text-generating AI models like ChatGPT have a tendency to regurgitate content from their training data.', metadata={'source': 'new_articles\\\\05-03-chatgpt-everything-you-need-to-know-about-the-ai-powered-chatbot.txt', 'qaCount': 4})"
      ]
     },
     "execution_count": 291,
     "metadata": {},
     "output_type": "execute_result"
    }
   ],
   "source": [
    "enriched_documents[2]"
   ]
  },
  {
   "cell_type": "markdown",
   "id": "7188dd9b-4414-446a-9505-c5808d3e4ba4",
   "metadata": {},
   "source": [
    "# Retriever"
   ]
  },
  {
   "cell_type": "code",
   "execution_count": null,
   "id": "551435c1-2859-4b2b-857b-a7b9ca49ccad",
   "metadata": {},
   "outputs": [],
   "source": []
  },
  {
   "cell_type": "code",
   "execution_count": 83,
   "id": "83d0e4fe-5c0f-49e9-8014-02d6a9bc86fe",
   "metadata": {
    "tags": []
   },
   "outputs": [],
   "source": [
    "retriever = vecordb.as_retriever(search_kwargs={\"k\": 2})"
   ]
  },
  {
   "cell_type": "code",
   "execution_count": 85,
   "id": "f5ca6e7f-049a-4e5a-9da2-c5f084f90245",
   "metadata": {
    "tags": []
   },
   "outputs": [],
   "source": [
    "docs = retriever.get_relevant_documents(\"Databricks Okera\")"
   ]
  },
  {
   "cell_type": "code",
   "execution_count": 86,
   "id": "01bd466e-5d94-41fc-bad2-f92cb5640d8b",
   "metadata": {
    "tags": []
   },
   "outputs": [
    {
     "data": {
      "text/plain": [
       "Document(page_content='Databricks today announced that it has acquired Okera, a data governance platform with a focus on AI. The two companies did not disclose the purchase price. According to Crunchbase, Okera previously raised just under $30 million. Investors include Felicis, Bessemer Venture Partners, Cyber Mentor Fund, ClearSky and Emergent Ventures.', metadata={'source': 'new_articles\\\\05-03-databricks-acquires-ai-centric-data-governance-platform-okera.txt'})"
      ]
     },
     "execution_count": 86,
     "metadata": {},
     "output_type": "execute_result"
    }
   ],
   "source": [
    "docs[0]"
   ]
  },
  {
   "cell_type": "markdown",
   "id": "af430692-307a-4085-b722-737b13f9efc9",
   "metadata": {},
   "source": [
    "# Make Chain"
   ]
  },
  {
   "cell_type": "code",
   "execution_count": 89,
   "id": "e3348e3c-8f63-42de-95a9-29947ad8ddd3",
   "metadata": {
    "tags": []
   },
   "outputs": [],
   "source": [
    "qa_chain = RetrievalQA.from_chain_type(llm=llm,\n",
    "                                       chain_type=\"stuff\",\n",
    "                                       retriever=retriever,\n",
    "                                       return_source_documents=True)"
   ]
  },
  {
   "cell_type": "code",
   "execution_count": 91,
   "id": "aba485d0-ce60-4b11-88c0-5f976e97a734",
   "metadata": {
    "tags": []
   },
   "outputs": [],
   "source": [
    "## Cite sources\n",
    "def process_llm_response(llm_response):\n",
    "    print(llm_response['result'])\n",
    "    print('\\n\\nSources:')\n",
    "    for source in llm_response[\"source_documents\"]:\n",
    "        print(source.metadata['source'])"
   ]
  },
  {
   "cell_type": "code",
   "execution_count": 93,
   "id": "ab68bf17-cc4e-4224-ab40-0b20d549846f",
   "metadata": {
    "tags": []
   },
   "outputs": [
    {
     "name": "stdout",
     "output_type": "stream",
     "text": [
      " $30 million\n",
      "\n",
      "\n",
      "Sources:\n",
      "new_articles\\05-03-ai-powered-supply-chain-startup-pando-lands-30m-investment.txt\n",
      "new_articles\\05-03-ai-powered-supply-chain-startup-pando-lands-30m-investment.txt\n"
     ]
    }
   ],
   "source": [
    "# full example\n",
    "query = \"How much money did Pando raise?\"\n",
    "llm_response = qa_chain(query)\n",
    "process_llm_response(llm_response)"
   ]
  },
  {
   "cell_type": "code",
   "execution_count": 95,
   "id": "2d90a2c4-c1a0-45c8-bc5b-14b9bb889668",
   "metadata": {
    "tags": []
   },
   "outputs": [
    {
     "data": {
      "text/plain": [
       "{'query': 'What is the news about Pando?',\n",
       " 'result': \"\\nPando, a startup focused on developing fulfillment management technologies, has announced that it raised $30 million in a Series B funding round, bringing its total raised to $45 million. The funding will be used to expand Pando's global sales, marketing, and delivery capabilities. The company was co-launched by Nitin Jayakrishnan and Abhijeet Manohar, who previously worked together at iDelivery, and aims to solve logistics challenges for manufacturers, distributors, and retailers through a software-as-a-service platform.\",\n",
       " 'source_documents': [Document(page_content='Signaling that investments in the supply chain sector remain robust, Pando, a startup developing fulfillment management technologies, today announced that it raised $30 million in a Series B round, bringing its total raised to $45 million.\\n\\nIron Pillar and Uncorrelated Ventures led the round, with participation from existing investors Nexus Venture Partners, Chiratae Ventures and Next47. CEO and founder Nitin Jayakrishnan says that the new capital will be put toward expanding Pandoâ€™s global sales, marketing and delivery capabilities.\\n\\n\"We will not expand into new industries or adjacent product areas,\" he told TechCrunch in an email interview. \"Great talent is the foundation of the business â€” we will continue to augment our teams at all levels of the organization. Pando is also open to exploring strategic partnerships and acquisitions with this round of funding.\"', metadata={'source': 'new_articles\\\\05-03-ai-powered-supply-chain-startup-pando-lands-30m-investment.txt'}),\n",
       "  Document(page_content='Pando was co-launched by Jayakrishnan and Abhijeet Manohar, who previously worked together at iDelivery, an India-based freight tech marketplace â€” and their first startup. The two saw firsthand manufacturers, distributors and retailers were struggling with legacy tech and point solutions to understand, optimize and manage their global logistics operations â€” or at least, thatâ€™s the story Jayakrishnan tells.\\n\\n\"Supply chain leaders were trying to build their own tech and throwing people at the problem,\" he said. \"This caught our attention â€” we spent months talking to and building for enterprise users at warehouses, factories, freight yards and ports and eventually, in 2018, decided to start Pando to solve for global logistics through a software-as-a-service platform offering.\"', metadata={'source': 'new_articles\\\\05-03-ai-powered-supply-chain-startup-pando-lands-30m-investment.txt'})]}"
      ]
     },
     "execution_count": 95,
     "metadata": {},
     "output_type": "execute_result"
    }
   ],
   "source": [
    "# break it down\n",
    "query = \"What is the news about Pando?\"\n",
    "llm_response = qa_chain(query)\n",
    "# process_llm_response(llm_response)\n",
    "llm_response"
   ]
  },
  {
   "cell_type": "code",
   "execution_count": 97,
   "id": "e7fd6108-c894-40b0-bb81-5bb8872cb165",
   "metadata": {
    "tags": []
   },
   "outputs": [
    {
     "name": "stdout",
     "output_type": "stream",
     "text": [
      " Iron Pillar and Uncorrelated Ventures\n",
      "\n",
      "\n",
      "Sources:\n",
      "new_articles\\05-03-ai-powered-supply-chain-startup-pando-lands-30m-investment.txt\n",
      "new_articles\\05-03-ai-powered-supply-chain-startup-pando-lands-30m-investment.txt\n"
     ]
    }
   ],
   "source": [
    "query = \"Who led the round in Pando?\"\n",
    "llm_response = qa_chain(query)\n",
    "process_llm_response(llm_response)"
   ]
  },
  {
   "cell_type": "code",
   "execution_count": 99,
   "id": "f52d1fe3-0ffd-485c-9570-2850070b38c5",
   "metadata": {
    "tags": []
   },
   "outputs": [
    {
     "name": "stdout",
     "output_type": "stream",
     "text": [
      " Okera, a data governance platform with a focus on AI.\n",
      "\n",
      "\n",
      "Sources:\n",
      "new_articles\\05-03-databricks-acquires-ai-centric-data-governance-platform-okera.txt\n",
      "new_articles\\05-03-databricks-acquires-ai-centric-data-governance-platform-okera.txt\n"
     ]
    }
   ],
   "source": [
    "query = \"What did databricks acquire?\"\n",
    "llm_response = qa_chain(query)\n",
    "process_llm_response(llm_response)"
   ]
  },
  {
   "cell_type": "code",
   "execution_count": 101,
   "id": "9d56d870-655c-49a9-a204-8e33083831fa",
   "metadata": {
    "tags": []
   },
   "outputs": [
    {
     "name": "stdout",
     "output_type": "stream",
     "text": [
      " Generative AI is a technology that uses algorithms and machine learning to generate new content such as art, code, and text. It involves training models on large datasets and then using those models to create new content that adheres to certain rules or guidelines. However, there have been legal disputes over the use of copyrighted data to train these models, leading to the development of tools like BrandGuard and BrandGPT to protect brand integrity.\n",
      "\n",
      "\n",
      "Sources:\n",
      "new_articles\\05-03-nova-is-building-guardrails-for-generative-ai-content-to-protect-brand-integrity.txt\n",
      "new_articles\\05-03-spawning-lays-out-its-plans-for-letting-creators-opt-out-of-generative-ai-training.txt\n"
     ]
    }
   ],
   "source": [
    "query = \"What is generative ai?\"\n",
    "llm_response = qa_chain(query)\n",
    "process_llm_response(llm_response)"
   ]
  },
  {
   "cell_type": "code",
   "execution_count": null,
   "id": "d61d836e-9c43-47cf-870d-6249a298eb88",
   "metadata": {},
   "outputs": [],
   "source": []
  }
 ],
 "metadata": {
  "kernelspec": {
   "display_name": "Python 3 (ipykernel)",
   "language": "python",
   "name": "python3"
  },
  "language_info": {
   "codemirror_mode": {
    "name": "ipython",
    "version": 3
   },
   "file_extension": ".py",
   "mimetype": "text/x-python",
   "name": "python",
   "nbconvert_exporter": "python",
   "pygments_lexer": "ipython3",
   "version": "3.11.5"
  }
 },
 "nbformat": 4,
 "nbformat_minor": 5
}
